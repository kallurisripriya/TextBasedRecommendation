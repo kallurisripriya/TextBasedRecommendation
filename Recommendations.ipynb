{
  "nbformat": 4,
  "nbformat_minor": 0,
  "metadata": {
    "colab": {
      "name": "B.Tech_project_Recommendations.ipynb",
      "provenance": [],
      "collapsed_sections": []
    },
    "kernelspec": {
      "display_name": "Python 3",
      "language": "python",
      "name": "python3"
    },
    "language_info": {
      "codemirror_mode": {
        "name": "ipython",
        "version": 3
      },
      "file_extension": ".py",
      "mimetype": "text/x-python",
      "name": "python",
      "nbconvert_exporter": "python",
      "pygments_lexer": "ipython3",
      "version": "3.6.7"
    }
  },
  "cells": [
    {
      "cell_type": "code",
      "metadata": {
        "colab": {
          "base_uri": "https://localhost:8080/"
        },
        "id": "NV7RSZHuIigi",
        "outputId": "65a5908d-7f87-47c3-c0d0-19ef98b35c07"
      },
      "source": [
        "from google.colab import drive\n",
        "\n",
        "drive.mount('/content/drive')"
      ],
      "execution_count": null,
      "outputs": [
        {
          "output_type": "stream",
          "text": [
            "Mounted at /content/drive\n"
          ],
          "name": "stdout"
        }
      ]
    },
    {
      "cell_type": "code",
      "metadata": {
        "colab": {
          "base_uri": "https://localhost:8080/",
          "height": 419
        },
        "id": "IM-8isNnHOZ3",
        "outputId": "f3a4d2f0-bfb5-46f6-cbd9-a1d5b49c5546"
      },
      "source": [
        "import pandas as pd \n",
        "data = pd.read_csv('/content/drive/MyDrive/geekstest1.csv',encoding = \"ISO-8859-1\")  \n",
        "data = data.drop(['url','rating'],axis=1)\n",
        "data"
      ],
      "execution_count": null,
      "outputs": [
        {
          "output_type": "execute_result",
          "data": {
            "text/html": [
              "<div>\n",
              "<style scoped>\n",
              "    .dataframe tbody tr th:only-of-type {\n",
              "        vertical-align: middle;\n",
              "    }\n",
              "\n",
              "    .dataframe tbody tr th {\n",
              "        vertical-align: top;\n",
              "    }\n",
              "\n",
              "    .dataframe thead th {\n",
              "        text-align: right;\n",
              "    }\n",
              "</style>\n",
              "<table border=\"1\" class=\"dataframe\">\n",
              "  <thead>\n",
              "    <tr style=\"text-align: right;\">\n",
              "      <th></th>\n",
              "      <th>title</th>\n",
              "      <th>content</th>\n",
              "      <th>tags</th>\n",
              "    </tr>\n",
              "  </thead>\n",
              "  <tbody>\n",
              "    <tr>\n",
              "      <th>0</th>\n",
              "      <td>Python | Thresholding techniques using OpenCV ...</td>\n",
              "      <td>Prerequisite:  Simple Thresholding using OpenC...</td>\n",
              "      <td>{'Python', 'OpenCV', 'Image-Processing'}</td>\n",
              "    </tr>\n",
              "    <tr>\n",
              "      <th>1</th>\n",
              "      <td>Generation of n numbers with given set of factors</td>\n",
              "      <td>Given an array of k numbers factor[], the task...</td>\n",
              "      <td>{'prime-factor', 'Mathematical'}</td>\n",
              "    </tr>\n",
              "    <tr>\n",
              "      <th>2</th>\n",
              "      <td>C | Operators | Question 17</td>\n",
              "      <td>Which of the following can have different mean...</td>\n",
              "      <td>{'C', 'C-Operators', 'Operators', 'C Quiz'}</td>\n",
              "    </tr>\n",
              "    <tr>\n",
              "      <th>3</th>\n",
              "      <td>SymPy | Subset.size() in Python</td>\n",
              "      <td>Subset.size() : size() is a sympy Python libra...</td>\n",
              "      <td>{'Python'}</td>\n",
              "    </tr>\n",
              "    <tr>\n",
              "      <th>4</th>\n",
              "      <td>Python PIL | ImageFont.truetype()</td>\n",
              "      <td>PIL is the Python Imaging Library which provid...</td>\n",
              "      <td>{'Python', 'Python-pil'}</td>\n",
              "    </tr>\n",
              "    <tr>\n",
              "      <th>...</th>\n",
              "      <td>...</td>\n",
              "      <td>...</td>\n",
              "      <td>...</td>\n",
              "    </tr>\n",
              "    <tr>\n",
              "      <th>24484</th>\n",
              "      <td>Importance of Hashcode method  in Java</td>\n",
              "      <td>Prerequisite: Equals() and hashCode() methods ...</td>\n",
              "      <td>{'Java', 'java-hashset', 'Java-HashMap'}</td>\n",
              "    </tr>\n",
              "    <tr>\n",
              "      <th>24485</th>\n",
              "      <td>Ruby | Queue close() function</td>\n",
              "      <td>The close() is an inbuilt function in Ruby  cl...</td>\n",
              "      <td>{'Ruby Collections', 'Ruby'}</td>\n",
              "    </tr>\n",
              "    <tr>\n",
              "      <th>24486</th>\n",
              "      <td>Scala | Field Overriding</td>\n",
              "      <td>In any object-oriented programming language, O...</td>\n",
              "      <td>{'Scala', 'Scala-OOPS'}</td>\n",
              "    </tr>\n",
              "    <tr>\n",
              "      <th>24487</th>\n",
              "      <td>Sum of minimum elements of all possible sub-ar...</td>\n",
              "      <td>Given an array arr[], the task is to find the ...</td>\n",
              "      <td>{'C++ Programs', 'Data Structures', 'Stack', '...</td>\n",
              "    </tr>\n",
              "    <tr>\n",
              "      <th>24488</th>\n",
              "      <td>Find amount of water wasted after filling the ...</td>\n",
              "      <td>Given the volume V of a tank in liter. There i...</td>\n",
              "      <td>{'math', 'Mathematical'}</td>\n",
              "    </tr>\n",
              "  </tbody>\n",
              "</table>\n",
              "<p>24489 rows × 3 columns</p>\n",
              "</div>"
            ],
            "text/plain": [
              "                                                   title  ...                                               tags\n",
              "0      Python | Thresholding techniques using OpenCV ...  ...           {'Python', 'OpenCV', 'Image-Processing'}\n",
              "1      Generation of n numbers with given set of factors  ...                   {'prime-factor', 'Mathematical'}\n",
              "2                            C | Operators | Question 17  ...        {'C', 'C-Operators', 'Operators', 'C Quiz'}\n",
              "3                        SymPy | Subset.size() in Python  ...                                         {'Python'}\n",
              "4                      Python PIL | ImageFont.truetype()  ...                           {'Python', 'Python-pil'}\n",
              "...                                                  ...  ...                                                ...\n",
              "24484             Importance of Hashcode method  in Java  ...           {'Java', 'java-hashset', 'Java-HashMap'}\n",
              "24485                      Ruby | Queue close() function  ...                       {'Ruby Collections', 'Ruby'}\n",
              "24486                           Scala | Field Overriding  ...                            {'Scala', 'Scala-OOPS'}\n",
              "24487  Sum of minimum elements of all possible sub-ar...  ...  {'C++ Programs', 'Data Structures', 'Stack', '...\n",
              "24488  Find amount of water wasted after filling the ...  ...                           {'math', 'Mathematical'}\n",
              "\n",
              "[24489 rows x 3 columns]"
            ]
          },
          "metadata": {
            "tags": []
          },
          "execution_count": 2
        }
      ]
    },
    {
      "cell_type": "code",
      "metadata": {
        "colab": {
          "base_uri": "https://localhost:8080/"
        },
        "id": "hxXL8h3THOZ4",
        "outputId": "47a5b5d6-34b2-405d-b8bb-2f8a1302bfb2"
      },
      "source": [
        "corpus = []\n",
        "titletoind_dict = {} #mapping of conversation id with corpus index\n",
        "j = 0\n",
        "for sub,body in zip(data['title'],data['content']):\n",
        "    if body is None or body is '':\n",
        "        corpus += [(sub)]\n",
        "    else:\n",
        "        corpus += [(sub+\" \"+body)]\n",
        "    titletoind_dict[j] = sub\n",
        "    j += 1\n",
        "len(corpus)"
      ],
      "execution_count": null,
      "outputs": [
        {
          "output_type": "execute_result",
          "data": {
            "text/plain": [
              "24489"
            ]
          },
          "metadata": {
            "tags": []
          },
          "execution_count": 3
        }
      ]
    },
    {
      "cell_type": "code",
      "metadata": {
        "colab": {
          "base_uri": "https://localhost:8080/"
        },
        "id": "RyWfvCM2HOZ4",
        "outputId": "6af36901-be38-4a96-fa1c-8987ddd25dde"
      },
      "source": [
        "!pip install requests\n",
        "!pip install spacy\n",
        "!pip install MySQL\n",
        "!pip install mysql-connector-python\n",
        "!pip install MySQL-python\n",
        "!python -m spacy download en\n",
        "!pip install --user scikit-learn"
      ],
      "execution_count": null,
      "outputs": [
        {
          "output_type": "stream",
          "text": [
            "Requirement already satisfied: requests in /usr/local/lib/python3.7/dist-packages (2.23.0)\n",
            "Requirement already satisfied: urllib3!=1.25.0,!=1.25.1,<1.26,>=1.21.1 in /usr/local/lib/python3.7/dist-packages (from requests) (1.24.3)\n",
            "Requirement already satisfied: chardet<4,>=3.0.2 in /usr/local/lib/python3.7/dist-packages (from requests) (3.0.4)\n",
            "Requirement already satisfied: certifi>=2017.4.17 in /usr/local/lib/python3.7/dist-packages (from requests) (2021.5.30)\n",
            "Requirement already satisfied: idna<3,>=2.5 in /usr/local/lib/python3.7/dist-packages (from requests) (2.10)\n",
            "Requirement already satisfied: spacy in /usr/local/lib/python3.7/dist-packages (2.2.4)\n",
            "Requirement already satisfied: numpy>=1.15.0 in /usr/local/lib/python3.7/dist-packages (from spacy) (1.19.5)\n",
            "Requirement already satisfied: plac<1.2.0,>=0.9.6 in /usr/local/lib/python3.7/dist-packages (from spacy) (1.1.3)\n",
            "Requirement already satisfied: srsly<1.1.0,>=1.0.2 in /usr/local/lib/python3.7/dist-packages (from spacy) (1.0.5)\n",
            "Requirement already satisfied: thinc==7.4.0 in /usr/local/lib/python3.7/dist-packages (from spacy) (7.4.0)\n",
            "Requirement already satisfied: blis<0.5.0,>=0.4.0 in /usr/local/lib/python3.7/dist-packages (from spacy) (0.4.1)\n",
            "Requirement already satisfied: setuptools in /usr/local/lib/python3.7/dist-packages (from spacy) (57.0.0)\n",
            "Requirement already satisfied: cymem<2.1.0,>=2.0.2 in /usr/local/lib/python3.7/dist-packages (from spacy) (2.0.5)\n",
            "Requirement already satisfied: wasabi<1.1.0,>=0.4.0 in /usr/local/lib/python3.7/dist-packages (from spacy) (0.8.2)\n",
            "Requirement already satisfied: tqdm<5.0.0,>=4.38.0 in /usr/local/lib/python3.7/dist-packages (from spacy) (4.41.1)\n",
            "Requirement already satisfied: catalogue<1.1.0,>=0.0.7 in /usr/local/lib/python3.7/dist-packages (from spacy) (1.0.0)\n",
            "Requirement already satisfied: requests<3.0.0,>=2.13.0 in /usr/local/lib/python3.7/dist-packages (from spacy) (2.23.0)\n",
            "Requirement already satisfied: preshed<3.1.0,>=3.0.2 in /usr/local/lib/python3.7/dist-packages (from spacy) (3.0.5)\n",
            "Requirement already satisfied: murmurhash<1.1.0,>=0.28.0 in /usr/local/lib/python3.7/dist-packages (from spacy) (1.0.5)\n",
            "Requirement already satisfied: importlib-metadata>=0.20; python_version < \"3.8\" in /usr/local/lib/python3.7/dist-packages (from catalogue<1.1.0,>=0.0.7->spacy) (4.5.0)\n",
            "Requirement already satisfied: urllib3!=1.25.0,!=1.25.1,<1.26,>=1.21.1 in /usr/local/lib/python3.7/dist-packages (from requests<3.0.0,>=2.13.0->spacy) (1.24.3)\n",
            "Requirement already satisfied: chardet<4,>=3.0.2 in /usr/local/lib/python3.7/dist-packages (from requests<3.0.0,>=2.13.0->spacy) (3.0.4)\n",
            "Requirement already satisfied: certifi>=2017.4.17 in /usr/local/lib/python3.7/dist-packages (from requests<3.0.0,>=2.13.0->spacy) (2021.5.30)\n",
            "Requirement already satisfied: idna<3,>=2.5 in /usr/local/lib/python3.7/dist-packages (from requests<3.0.0,>=2.13.0->spacy) (2.10)\n",
            "Requirement already satisfied: typing-extensions>=3.6.4; python_version < \"3.8\" in /usr/local/lib/python3.7/dist-packages (from importlib-metadata>=0.20; python_version < \"3.8\"->catalogue<1.1.0,>=0.0.7->spacy) (3.7.4.3)\n",
            "Requirement already satisfied: zipp>=0.5 in /usr/local/lib/python3.7/dist-packages (from importlib-metadata>=0.20; python_version < \"3.8\"->catalogue<1.1.0,>=0.0.7->spacy) (3.4.1)\n",
            "Collecting MySQL\n",
            "  Downloading https://files.pythonhosted.org/packages/9a/52/8d29c58f6ae448a72fbc612955bd31accb930ca479a7ba7197f4ae4edec2/mysql-0.0.3-py3-none-any.whl\n",
            "Collecting mysqlclient\n",
            "\u001b[?25l  Downloading https://files.pythonhosted.org/packages/3c/df/59cd2fa5e48d0804d213bdcb1acb4d08c403b61c7ff7ed4dd4a6a2deb3f7/mysqlclient-2.0.3.tar.gz (88kB)\n",
            "\u001b[K     |████████████████████████████████| 92kB 3.6MB/s \n",
            "\u001b[?25hBuilding wheels for collected packages: mysqlclient\n",
            "  Building wheel for mysqlclient (setup.py) ... \u001b[?25l\u001b[?25hdone\n",
            "  Created wheel for mysqlclient: filename=mysqlclient-2.0.3-cp37-cp37m-linux_x86_64.whl size=100117 sha256=5dc4451787d409e6f2de4c1cb54a0aae35a7b6d371cef3aba2de34b39d59047f\n",
            "  Stored in directory: /root/.cache/pip/wheels/75/ca/e8/ad4e7ce3df18bcd91c7d84dd28c7c08db491a2a2360efed363\n",
            "Successfully built mysqlclient\n",
            "Installing collected packages: mysqlclient, MySQL\n",
            "Successfully installed MySQL-0.0.3 mysqlclient-2.0.3\n",
            "Collecting mysql-connector-python\n",
            "\u001b[?25l  Downloading https://files.pythonhosted.org/packages/ef/5b/a7dc32e711e4a065896188afef6864489ccf4bdab0928581c4262e84110d/mysql_connector_python-8.0.25-cp37-cp37m-manylinux1_x86_64.whl (25.4MB)\n",
            "\u001b[K     |████████████████████████████████| 25.4MB 129kB/s \n",
            "\u001b[?25hRequirement already satisfied: protobuf>=3.0.0 in /usr/local/lib/python3.7/dist-packages (from mysql-connector-python) (3.12.4)\n",
            "Requirement already satisfied: six>=1.9 in /usr/local/lib/python3.7/dist-packages (from protobuf>=3.0.0->mysql-connector-python) (1.15.0)\n",
            "Requirement already satisfied: setuptools in /usr/local/lib/python3.7/dist-packages (from protobuf>=3.0.0->mysql-connector-python) (57.0.0)\n",
            "Installing collected packages: mysql-connector-python\n",
            "Successfully installed mysql-connector-python-8.0.25\n",
            "Collecting MySQL-python\n",
            "\u001b[?25l  Downloading https://files.pythonhosted.org/packages/a5/e9/51b544da85a36a68debe7a7091f068d802fc515a3a202652828c73453cad/MySQL-python-1.2.5.zip (108kB)\n",
            "\u001b[K     |████████████████████████████████| 112kB 4.2MB/s \n",
            "\u001b[31mERROR: Command errored out with exit status 1: python setup.py egg_info Check the logs for full command output.\u001b[0m\n",
            "\u001b[?25hRequirement already satisfied: en_core_web_sm==2.2.5 from https://github.com/explosion/spacy-models/releases/download/en_core_web_sm-2.2.5/en_core_web_sm-2.2.5.tar.gz#egg=en_core_web_sm==2.2.5 in /usr/local/lib/python3.7/dist-packages (2.2.5)\n",
            "Requirement already satisfied: spacy>=2.2.2 in /usr/local/lib/python3.7/dist-packages (from en_core_web_sm==2.2.5) (2.2.4)\n",
            "Requirement already satisfied: cymem<2.1.0,>=2.0.2 in /usr/local/lib/python3.7/dist-packages (from spacy>=2.2.2->en_core_web_sm==2.2.5) (2.0.5)\n",
            "Requirement already satisfied: blis<0.5.0,>=0.4.0 in /usr/local/lib/python3.7/dist-packages (from spacy>=2.2.2->en_core_web_sm==2.2.5) (0.4.1)\n",
            "Requirement already satisfied: thinc==7.4.0 in /usr/local/lib/python3.7/dist-packages (from spacy>=2.2.2->en_core_web_sm==2.2.5) (7.4.0)\n",
            "Requirement already satisfied: tqdm<5.0.0,>=4.38.0 in /usr/local/lib/python3.7/dist-packages (from spacy>=2.2.2->en_core_web_sm==2.2.5) (4.41.1)\n",
            "Requirement already satisfied: srsly<1.1.0,>=1.0.2 in /usr/local/lib/python3.7/dist-packages (from spacy>=2.2.2->en_core_web_sm==2.2.5) (1.0.5)\n",
            "Requirement already satisfied: setuptools in /usr/local/lib/python3.7/dist-packages (from spacy>=2.2.2->en_core_web_sm==2.2.5) (57.0.0)\n",
            "Requirement already satisfied: wasabi<1.1.0,>=0.4.0 in /usr/local/lib/python3.7/dist-packages (from spacy>=2.2.2->en_core_web_sm==2.2.5) (0.8.2)\n",
            "Requirement already satisfied: numpy>=1.15.0 in /usr/local/lib/python3.7/dist-packages (from spacy>=2.2.2->en_core_web_sm==2.2.5) (1.19.5)\n",
            "Requirement already satisfied: requests<3.0.0,>=2.13.0 in /usr/local/lib/python3.7/dist-packages (from spacy>=2.2.2->en_core_web_sm==2.2.5) (2.23.0)\n",
            "Requirement already satisfied: preshed<3.1.0,>=3.0.2 in /usr/local/lib/python3.7/dist-packages (from spacy>=2.2.2->en_core_web_sm==2.2.5) (3.0.5)\n",
            "Requirement already satisfied: catalogue<1.1.0,>=0.0.7 in /usr/local/lib/python3.7/dist-packages (from spacy>=2.2.2->en_core_web_sm==2.2.5) (1.0.0)\n",
            "Requirement already satisfied: plac<1.2.0,>=0.9.6 in /usr/local/lib/python3.7/dist-packages (from spacy>=2.2.2->en_core_web_sm==2.2.5) (1.1.3)\n",
            "Requirement already satisfied: murmurhash<1.1.0,>=0.28.0 in /usr/local/lib/python3.7/dist-packages (from spacy>=2.2.2->en_core_web_sm==2.2.5) (1.0.5)\n",
            "Requirement already satisfied: urllib3!=1.25.0,!=1.25.1,<1.26,>=1.21.1 in /usr/local/lib/python3.7/dist-packages (from requests<3.0.0,>=2.13.0->spacy>=2.2.2->en_core_web_sm==2.2.5) (1.24.3)\n",
            "Requirement already satisfied: chardet<4,>=3.0.2 in /usr/local/lib/python3.7/dist-packages (from requests<3.0.0,>=2.13.0->spacy>=2.2.2->en_core_web_sm==2.2.5) (3.0.4)\n",
            "Requirement already satisfied: certifi>=2017.4.17 in /usr/local/lib/python3.7/dist-packages (from requests<3.0.0,>=2.13.0->spacy>=2.2.2->en_core_web_sm==2.2.5) (2021.5.30)\n",
            "Requirement already satisfied: idna<3,>=2.5 in /usr/local/lib/python3.7/dist-packages (from requests<3.0.0,>=2.13.0->spacy>=2.2.2->en_core_web_sm==2.2.5) (2.10)\n",
            "Requirement already satisfied: importlib-metadata>=0.20; python_version < \"3.8\" in /usr/local/lib/python3.7/dist-packages (from catalogue<1.1.0,>=0.0.7->spacy>=2.2.2->en_core_web_sm==2.2.5) (4.5.0)\n",
            "Requirement already satisfied: typing-extensions>=3.6.4; python_version < \"3.8\" in /usr/local/lib/python3.7/dist-packages (from importlib-metadata>=0.20; python_version < \"3.8\"->catalogue<1.1.0,>=0.0.7->spacy>=2.2.2->en_core_web_sm==2.2.5) (3.7.4.3)\n",
            "Requirement already satisfied: zipp>=0.5 in /usr/local/lib/python3.7/dist-packages (from importlib-metadata>=0.20; python_version < \"3.8\"->catalogue<1.1.0,>=0.0.7->spacy>=2.2.2->en_core_web_sm==2.2.5) (3.4.1)\n",
            "\u001b[38;5;2m✔ Download and installation successful\u001b[0m\n",
            "You can now load the model via spacy.load('en_core_web_sm')\n",
            "\u001b[38;5;2m✔ Linking successful\u001b[0m\n",
            "/usr/local/lib/python3.7/dist-packages/en_core_web_sm -->\n",
            "/usr/local/lib/python3.7/dist-packages/spacy/data/en\n",
            "You can now load the model via spacy.load('en')\n",
            "Requirement already satisfied: scikit-learn in /usr/local/lib/python3.7/dist-packages (0.22.2.post1)\n",
            "Requirement already satisfied: numpy>=1.11.0 in /usr/local/lib/python3.7/dist-packages (from scikit-learn) (1.19.5)\n",
            "Requirement already satisfied: scipy>=0.17.0 in /usr/local/lib/python3.7/dist-packages (from scikit-learn) (1.4.1)\n",
            "Requirement already satisfied: joblib>=0.11 in /usr/local/lib/python3.7/dist-packages (from scikit-learn) (1.0.1)\n"
          ],
          "name": "stdout"
        }
      ]
    },
    {
      "cell_type": "code",
      "metadata": {
        "id": "IhWmhsWvHOZ5"
      },
      "source": [
        "import spacy \n",
        "import string,re\n",
        "import gensim\n",
        "from gensim.parsing.preprocessing import remove_stopwords\n",
        "from nltk.stem.snowball import SnowballStemmer \n",
        "stemmer = SnowballStemmer(language='english')"
      ],
      "execution_count": null,
      "outputs": []
    },
    {
      "cell_type": "code",
      "metadata": {
        "id": "AfsikknGHOZ5"
      },
      "source": [
        "REPLACE_BY_SPACE_RE = re.compile('[\\!\\\"\\#\\$\\%\\&\\(\\)\\*\\+\\,\\-\\/\\:\\;\\<\\=\\>\\?\\@\\^\\`\\{\\}\\|\\~\\\\\\]')\n",
        "REPLACE_BY_NULL_RE = re.compile('[\\']')\n",
        "ver = '[0-9]+\\.[0-9]+\\.*[0-9]*' #regex that identifies version number \n",
        "dot = re.compile('[/.]') #identifies '.' in tokens\n",
        "fs = '[a-z]*\\.[a-z]*' #regex that identifies words having '.'\n",
        "cr_pattern = re.compile(pattern = \"[\"u'\\N{COPYRIGHT SIGN} \\N{TRADE MARK SIGN} \\N{REGISTERED SIGN}'\"]+\", flags = re.UNICODE)#remove copyright symbols\n",
        "def deEmojify(text):\n",
        "    regrex_pattern = re.compile(pattern = \"[\"\n",
        "        u\"\\U0001F600-\\U0001F64F\"  # emoticons\n",
        "        u\"\\U0001F300-\\U0001F5FF\"  # symbols & pictographs\n",
        "        u\"\\U0001F680-\\U0001F6FF\"  # transport & map symbols\n",
        "        u\"\\U0001F1E0-\\U0001F1FF\"  # flags (iOS)\n",
        "                           \"]+\", flags = re.UNICODE)\n",
        "    return regrex_pattern.sub(r' ',text)\n",
        "def preprocess(body):\n",
        "    if body is None:\n",
        "        return None\n",
        "    body = body.lower()\n",
        "    body = deEmojify(body)\n",
        "    body = REPLACE_BY_SPACE_RE.sub(' ', body)\n",
        "    body = cr_pattern.sub(' ',body)\n",
        "    l = []\n",
        "    for token in body.split(\" \"):\n",
        "        if(re.search(ver,token)):\n",
        "            token = token\n",
        "        elif(re.search(fs,token)):\n",
        "            l += [dot.sub(' ',token)]\n",
        "            continue\n",
        "        l += [token]\n",
        "    body = ' '.join(token for token in l)\n",
        "    body = re.sub('\\s+',' ',body)             \n",
        "    body = body.strip()\n",
        "    return body"
      ],
      "execution_count": null,
      "outputs": []
    },
    {
      "cell_type": "code",
      "metadata": {
        "id": "Cn0z7IGjHOZ5"
      },
      "source": [
        "nlp = spacy.load('en', disable=['parser', 'ner']) #pos tagging + lammetization\n",
        "nlp.max_length = 3000000\n",
        "def pos_tag(corpus):\n",
        "    corpus = (\" \".join([token.lemma_ for token in nlp(corpus) if token.pos_ in ('NOUN','VERB','ADJ','ADV','NUM')]))\n",
        "    return corpus"
      ],
      "execution_count": null,
      "outputs": []
    },
    {
      "cell_type": "code",
      "metadata": {
        "id": "Zs6H86m7HOZ5"
      },
      "source": [
        "for i in range(len(corpus)):\n",
        "    corpus[i] = preprocess(corpus[i])\n",
        "    corpus[i] = pos_tag(corpus[i])\n",
        "    corpus[i] = REPLACE_BY_NULL_RE.sub('', corpus[i])   #removing \\' incase if it didn't get eliminated in lammetization\n",
        "    corpus[i] = remove_stopwords(corpus[i])             #removing stopwords\n",
        "    n_st = \" \"\n",
        "    corpus[i] = n_st.join(stemmer.stem(token) for token in corpus[i].split()) #stemming"
      ],
      "execution_count": null,
      "outputs": []
    },
    {
      "cell_type": "code",
      "metadata": {
        "colab": {
          "base_uri": "https://localhost:8080/"
        },
        "id": "5qaTxI-mQKyK",
        "outputId": "66f373f0-1019-4cfb-a674-47a1e38a78a6"
      },
      "source": [
        "print(i)"
      ],
      "execution_count": null,
      "outputs": [
        {
          "output_type": "stream",
          "text": [
            "24488\n"
          ],
          "name": "stdout"
        }
      ]
    },
    {
      "cell_type": "code",
      "metadata": {
        "colab": {
          "base_uri": "https://localhost:8080/"
        },
        "id": "uE09_oz2HOZ6",
        "outputId": "21833a4d-33af-4917-d813-142796734444"
      },
      "source": [
        "dataset = [d.split() for d in corpus] #form bigrams and trigrams\n",
        "bigram = gensim.models.phrases.Phrases(dataset, min_count=10, threshold=20.0)\n",
        "trigram = gensim.models.phrases.Phrases(bigram[dataset], min_count=10, threshold=20.0)"
      ],
      "execution_count": null,
      "outputs": [
        {
          "output_type": "stream",
          "text": [
            "/usr/local/lib/python3.7/dist-packages/gensim/models/phrases.py:598: UserWarning: For a faster implementation, use the gensim.models.phrases.Phraser class\n",
            "  warnings.warn(\"For a faster implementation, use the gensim.models.phrases.Phraser class\")\n"
          ],
          "name": "stderr"
        }
      ]
    },
    {
      "cell_type": "code",
      "metadata": {
        "colab": {
          "base_uri": "https://localhost:8080/"
        },
        "id": "zb6PmG2AHOZ6",
        "outputId": "772c43b9-591c-45b5-a2f9-4dabd48490f2"
      },
      "source": [
        "from collections import Counter\n",
        "l1,l2 = [],[]\n",
        "reg = '\\w+\\_\\w+'        #regex to identify a bigram\n",
        "rege = '\\w+\\_\\w+\\_\\w+'  #regex to identify a trigram\n",
        "for i in range(len(dataset)):\n",
        "    for token in trigram[bigram[dataset[i]]]:\n",
        "        if (re.search(reg,token)):\n",
        "            l1 += [token]\n",
        "        if (re.search(rege,token)):\n",
        "            l2 += [token]\n",
        "Counter1 = Counter(l1)\n",
        "most_occur = Counter1.most_common(40)    #calculates 40 common bigrams\n",
        "print(most_occur)\n",
        "Counter = Counter(l2)\n",
        "most_occuring = Counter.most_common(40)  #calculates 40 common trigrams\n",
        "print(most_occuring)"
      ],
      "execution_count": null,
      "outputs": [
        {
          "output_type": "stream",
          "text": [
            "/usr/local/lib/python3.7/dist-packages/gensim/models/phrases.py:598: UserWarning: For a faster implementation, use the gensim.models.phrases.Phraser class\n",
            "  warnings.warn(\"For a faster implementation, use the gensim.models.phrases.Phraser class\")\n"
          ],
          "name": "stderr"
        },
        {
          "output_type": "stream",
          "text": [
            "[('main_page_help_geek', 21831), ('org_mail', 21483), ('incorrect_click', 17816), ('comment_incorrect_want_share', 5282), ('inform_topic_discuss', 5262), ('time_complex', 3634), ('strong_recommend_practic', 2549), ('accept_paramet', 1540), ('binari_tree', 1445), ('solv_problem', 1102), ('simpl_solut', 742), ('binari_search', 620), ('naiv_approach', 592), ('auxiliari_space_o', 585), ('prime_factor', 568), ('effici_solut', 562), ('leav_right', 546), ('great_languag_data_analysi', 527), ('primarili_fantast_ecosystem_packag', 527), ('packag_import_analyz_datum', 525), ('list_comprehens', 524), ('problem_solv', 506), ('datum_structur', 503), ('compil_error', 498), ('extra_space', 493), ('machin_learn', 491), ('hash_tabl', 477), ('accept_singl_paramet', 472), ('row_column', 471), ('float_point', 440), ('bad_case', 424), ('leaf_node', 417), ('accept_mandatori_paramet', 410), ('left_right', 382), ('throw_except', 367), ('binari_represent', 367), ('binari_search_tree', 361), ('data_structur', 351), ('let_discuss_certain', 330), ('deriv_class', 324)]\n",
            "[('main_page_help_geek', 21831), ('comment_incorrect_want_share', 5282), ('inform_topic_discuss', 5262), ('strong_recommend_practic', 2549), ('auxiliari_space_o', 585), ('great_languag_data_analysi', 527), ('primarili_fantast_ecosystem_packag', 527), ('packag_import_analyz_datum', 525), ('accept_singl_paramet', 472), ('accept_mandatori_paramet', 410), ('binari_search_tree', 361), ('let_discuss_certain', 330), ('interview_experi_mail', 319), ('refer_doc_oracl_10', 224), ('mention_div_append', 203), ('mention_compani_interview_experi', 203), ('php_implement_approach', 183), ('time_complex_auxiliari_space', 182), ('time_littl_bit', 167), ('run_onlin_ide', 163), ('interact_oper_come_standard', 161), ('util_modul_modul_provid', 161), ('public_static_void', 153), ('binari_tree_binari_tree', 152), ('index_provid_host', 141), ('ask_remov_fit', 136), ('strong_recommend_minim_browser', 134), ('python3_implement_approach', 133), ('non_negat_integ', 117), ('accept_singl_mandatori_paramet', 116), ('continu_random_variabl', 115), ('root_leav_right', 113), ('dimension_ndarray_label_label', 112), ('nee_uniqu_hashabl_type', 112), ('overal_time_complex', 99), ('underli_datum_seri', 98), ('refer_https_doc_scipi', 97), ('9_time_chrono', 96), ('bad_case_time_complex', 96), ('driver_public_static_void', 96)]\n"
          ],
          "name": "stdout"
        }
      ]
    },
    {
      "cell_type": "code",
      "metadata": {
        "colab": {
          "base_uri": "https://localhost:8080/"
        },
        "id": "CHv0F0BSHOZ6",
        "outputId": "591fc312-2d63-43f7-af90-47f31155f0cb"
      },
      "source": [
        "#retaining 40 most common bigrams and trigrams in the corpus\n",
        "bigramset = []   \n",
        "trigramset = []\n",
        "for i,j in zip(most_occur,most_occuring):\n",
        "    bigramset.append(i[0])\n",
        "    trigramset.append(j[0])\n",
        "reg = '\\w+\\_\\w+'\n",
        "rege = '\\w+\\_\\w+\\_\\w+'\n",
        "REG = re.compile('[\\_]')\n",
        "for i in range(len(dataset)):\n",
        "    st = \"\"\n",
        "    for token in trigram[bigram[dataset[i]]]:\n",
        "        if re.search(reg,token) and token not in bigramset :\n",
        "            token = REG.sub(' ',token)\n",
        "        elif re.search(rege,token) and token not in trigramset:\n",
        "            token = REG.sub(' ',token)\n",
        "        st += \" \"+token\n",
        "    corpus[i] = st.strip() "
      ],
      "execution_count": null,
      "outputs": [
        {
          "output_type": "stream",
          "text": [
            "/usr/local/lib/python3.7/dist-packages/gensim/models/phrases.py:598: UserWarning: For a faster implementation, use the gensim.models.phrases.Phraser class\n",
            "  warnings.warn(\"For a faster implementation, use the gensim.models.phrases.Phraser class\")\n"
          ],
          "name": "stderr"
        }
      ]
    },
    {
      "cell_type": "code",
      "metadata": {
        "colab": {
          "base_uri": "https://localhost:8080/"
        },
        "id": "xSftpAQXHOZ6",
        "outputId": "d3e36aa5-465b-48d4-cf45-3b7504d62ebf"
      },
      "source": [
        "from collections import Counter\n",
        "l = []\n",
        "for i in range(len(corpus)): \n",
        "    l+=(corpus[i].split()) \n",
        "Counter1 = Counter(l)\n",
        "most_occuring = Counter1.most_common(40) #calculates 40 common words in corpus\n",
        "print(most_occuring)"
      ],
      "execution_count": null,
      "outputs": [
        {
          "output_type": "stream",
          "text": [
            "[('articl', 108339), ('geeksforgeek', 88513), ('link', 79968), ('contribut', 71955), ('use', 64918), ('1', 51088), ('code', 50162), ('close', 40515), ('like', 36477), ('method', 36395), ('improv', 35976), ('edit', 35975), ('2', 35554), ('valu', 33861), ('write', 31948), ('return', 31060), ('exampl', 31021), ('number', 30543), ('output', 28980), ('function', 26350), ('element', 25881), ('appear', 22783), ('array', 22155), ('main_page_help_geek', 21831), ('org_mail', 21483), ('program', 21165), ('button', 18307), ('3', 17912), ('incorrect_click', 17816), ('string', 16568), ('0', 15586), ('object', 13310), ('list', 12562), ('class', 12447), ('time', 12190), ('set', 11812), ('approach', 11589), ('paramet', 11294), ('4', 11266), ('implement', 10825)]\n"
          ],
          "name": "stdout"
        }
      ]
    },
    {
      "cell_type": "code",
      "metadata": {
        "id": "3gpVcHsdHOZ7"
      },
      "source": [
        "#removing 40 most common words from the corpus\n",
        "freq_words = []\n",
        "for i in most_occuring:\n",
        "    freq_words.append(i[0])\n",
        "for i in range(len(corpus)):\n",
        "    corpus[i] = \" \".join(words for words in corpus[i].split() if words not in freq_words)"
      ],
      "execution_count": null,
      "outputs": []
    },
    {
      "cell_type": "markdown",
      "metadata": {
        "id": "RZJpxhO5QVYW"
      },
      "source": [
        "Pre-processed data"
      ]
    },
    {
      "cell_type": "code",
      "metadata": {
        "colab": {
          "base_uri": "https://localhost:8080/"
        },
        "id": "AIwarOEV73vF",
        "outputId": "1f48760b-4e4e-4ae8-e021-cad3b21b1f8c"
      },
      "source": [
        "for i in range(0,11):\n",
        "  print(corpus[i])\n",
        "  print('\\n')  "
      ],
      "execution_count": null,
      "outputs": [
        {
          "output_type": "stream",
          "text": [
            "techniqu opencv adapt threshold prerequisit simpl threshold opencvin previous post simpl threshold explain differ type threshold techniqu threshold techniqu adapt threshold simpl threshold global threshold remain constant constant threshold win t help case variabl light condit differ area adapt threshold threshold calcul small region lead differ threshold differ region respect chang light cv2 adaptivethreshold syntax adaptivethreshold sourc maxval adaptivemethod blocksiz constant sourc input imag singl channel 8 bit float_point maxval maximum assign adaptivemethod adapt decid threshold calcul threshold mean neighbourhood area constant word mean neighborhood point constant threshold gaussian weight sum neighbourhood constant word weight sum neighborhood point constant thresholdtyp type threshold appli blocksiz size neighborhood calcul threshold constant constant subtract mean weight sum neighbourhood pixel input imag\n",
            "\n",
            "\n",
            "generat n factor factor task print n ascend order factor problem main extens ugli problem creat auxiliari size factor track multipl factor iter minimum increment respect factor minimum equal previous increment avoid duplic print minimum n k auxiliari_space_o k comment_incorrect_want_share inform_topic_discuss\n",
            "\n",
            "\n",
            "c oper question 17 follow differ mean differ context b c d oper answer c explan address variabl bitwis oper similar address multipl quiz question\n",
            "\n",
            "\n",
            "size size sympi python librari size combinator subset size size size subset size 2code size subset size\n",
            "\n",
            "\n",
            "librari provid interpret imag capabl defin instanc store font pil draw font file format store font command pilfont util convert font descriptor window font format format pil imagefont load truetyp opentyp font file creat font load font file creat font font size requir imagingft servic syntax size 10 index encod font truetyp font file window file filenam loader look font directori size request size point index font face load default avail face encod font encod default font except ioerror file read imag imag imag\n",
            "\n",
            "\n",
            "sum natur rang r rang l r task sum natur rang r naiv_approach travers r add sum effici formula sum natur idea inclus exclus principl help solv_problem sum natur r subtract sum l\n",
            "\n",
            "\n",
            "small prime palindrom posit integ task small prime palindrom great equal n strong_recommend_practic naiv_approach loop small prime palindrom great equal effici let r small prime palindrom great equal r palindrom half digit r determin r possibl let half digit 123 r 12321 r 123321 iter 105 creat check r prime handl odd palindrom separ break fount result upper limit sqrt n term come check candid prime\n",
            "\n",
            "\n",
            "experi 22 experi user defin inbuilt scan input direct assign var level hour pen paper solv equat power distanc point round near count charact treat escap sequenc preceed consid normal escap sequenc occur treat singl 2d matrix sum level finish question type total 5 question hour machin round solv equat z x y x negat start busi total invest 1000 add new invest exist invest transfer invest oop style menu user oper similar couldn 3rd question run need complet question qualifi round interview experi mail org\n",
            "\n",
            "\n",
            "vertex isoscel triangl rectangl opposit corner y integ y task vertex isoscel angl b vertex point b rectangl opposit y point rectangl locat insid border triangl print integ y2 input y 6 6 input y 5 5 let y point val second point val sign let work y case prove similar way need x y belong triangl includ border fact y belong segment connect y y line y y y y coordin y equat prove answer\n",
            "\n",
            "\n",
            "fprintf print content file instead stdout consol moreexampl comment_incorrect_want_share inform_topic_discuss\n",
            "\n",
            "\n",
            "subset sum b n integ subset sum b inclus constraint n 34 107 107 5 108 b 5 108 brute forc generat subset e power subset sum b 234 oper atmost effici effici solv_problem meet middl basic reduc time_complex o 2n o 2n divid n generat subset sum individu 217 oper combin desir sum effici way sort sum binari_search yield sum particular sort second search low bind let low upper bound let high subtract high low desir answer s b divid power power subset sum subset sum sort binari_search yield desir sum search low bind upper bind search 2n size\n",
            "\n",
            "\n"
          ],
          "name": "stdout"
        }
      ]
    },
    {
      "cell_type": "code",
      "metadata": {
        "id": "c55phzjXHOZ7"
      },
      "source": [
        "#deallocating space for temporary variables\n",
        "dataset,l1,l2,l = [],[],[],[]\n",
        "most_occur,most_occuring = [],[] "
      ],
      "execution_count": null,
      "outputs": []
    },
    {
      "cell_type": "markdown",
      "metadata": {
        "id": "16ddfrTWHOZ7"
      },
      "source": [
        "K-Means SK-Learn "
      ]
    },
    {
      "cell_type": "code",
      "metadata": {
        "colab": {
          "base_uri": "https://localhost:8080/"
        },
        "id": "izxlbd-hHOZ7",
        "outputId": "091e8443-259b-4d38-b1b4-8a9421e5a8df"
      },
      "source": [
        "from sklearn.feature_extraction.text import TfidfVectorizer  \n",
        "from sklearn.cluster import KMeans \n",
        "from sklearn.metrics import silhouette_score \n",
        "import math,time \n",
        "vec = TfidfVectorizer() \n",
        "t0 = time.time()    \n",
        "vector = vec.fit(corpus) \n",
        "X = vector.transform(corpus) \n",
        "if X.shape[0] > 5000: \n",
        "  k = math.ceil(X.shape[0]/5000) \n",
        "else: \n",
        "  k = 2 \n",
        "km = KMeans(n_clusters = k,random_state=42) \n",
        "km.fit(X) \n",
        "labels = km.labels_ \n",
        "print(labels) \n",
        "t_km = time.time() - t0 \n",
        "print(t_km) "
      ],
      "execution_count": null,
      "outputs": [
        {
          "output_type": "stream",
          "text": [
            "[4 2 4 ... 4 2 4]\n",
            "418.1813747882843\n"
          ],
          "name": "stdout"
        }
      ]
    },
    {
      "cell_type": "markdown",
      "metadata": {
        "id": "Cot1XzNHQcA1"
      },
      "source": [
        "Mini Batch sklearn"
      ]
    },
    {
      "cell_type": "code",
      "metadata": {
        "colab": {
          "base_uri": "https://localhost:8080/"
        },
        "id": "yuw751gUHOZ8",
        "outputId": "0f1e50bb-ead5-4715-8fa4-4a5feb039efb"
      },
      "source": [
        "#collecting mini-batch objects for all 63 \n",
        "from sklearn.cluster import MiniBatchKMeans\n",
        "from sklearn.feature_extraction.text import TfidfVectorizer\n",
        "import math,time\n",
        "from joblib import parallel_backend \n",
        "vec = TfidfVectorizer() \n",
        "mk_ob = []\n",
        "t0 = time.time()\n",
        "with parallel_backend('threading', n_jobs=2):\n",
        "    X = vec.fit_transform(corpus)\n",
        "    if X.shape[0] > 5000:\n",
        "        k = math.ceil(X.shape[0]/5000)\n",
        "    else:\n",
        "        k = 2\n",
        "    mk = MiniBatchKMeans(n_clusters = k,random_state = 42,batch_size = 5000,max_iter = 500)\n",
        "    mk.fit(X)\n",
        "mb_labels = mk.labels_\n",
        "t_mini_batch = time.time() - t0\n",
        "print(t_mini_batch)"
      ],
      "execution_count": null,
      "outputs": [
        {
          "output_type": "stream",
          "text": [
            "1.5600266456604004\n"
          ],
          "name": "stdout"
        }
      ]
    },
    {
      "cell_type": "code",
      "metadata": {
        "id": "vvzCqqEz_WBO",
        "colab": {
          "base_uri": "https://localhost:8080/",
          "height": 419
        },
        "outputId": "65d1c51a-5a6a-4300-a5a1-18b813a58da7"
      },
      "source": [
        "df = pd.read_csv(\"/content/drive/MyDrive/cluster 1.csv\" , encoding = \"ISO-8859-1\")\n",
        "df"
      ],
      "execution_count": null,
      "outputs": [
        {
          "output_type": "execute_result",
          "data": {
            "text/html": [
              "<div>\n",
              "<style scoped>\n",
              "    .dataframe tbody tr th:only-of-type {\n",
              "        vertical-align: middle;\n",
              "    }\n",
              "\n",
              "    .dataframe tbody tr th {\n",
              "        vertical-align: top;\n",
              "    }\n",
              "\n",
              "    .dataframe thead th {\n",
              "        text-align: right;\n",
              "    }\n",
              "</style>\n",
              "<table border=\"1\" class=\"dataframe\">\n",
              "  <thead>\n",
              "    <tr style=\"text-align: right;\">\n",
              "      <th></th>\n",
              "      <th>content</th>\n",
              "      <th>cluster</th>\n",
              "    </tr>\n",
              "  </thead>\n",
              "  <tbody>\n",
              "    <tr>\n",
              "      <th>0</th>\n",
              "      <td>python threshold techniqu opencv adapt thresho...</td>\n",
              "      <td>4</td>\n",
              "    </tr>\n",
              "    <tr>\n",
              "      <th>1</th>\n",
              "      <td>generat factor factor task print ascend order ...</td>\n",
              "      <td>2</td>\n",
              "    </tr>\n",
              "    <tr>\n",
              "      <th>2</th>\n",
              "      <td>oper question 17 follow differ mean differ con...</td>\n",
              "      <td>4</td>\n",
              "    </tr>\n",
              "    <tr>\n",
              "      <th>3</th>\n",
              "      <td>sympi subset size python subset size size symp...</td>\n",
              "      <td>4</td>\n",
              "    </tr>\n",
              "    <tr>\n",
              "      <th>4</th>\n",
              "      <td>python pil imagefont truetyp pil python imag l...</td>\n",
              "      <td>4</td>\n",
              "    </tr>\n",
              "    <tr>\n",
              "      <th>...</th>\n",
              "      <td>...</td>\n",
              "      <td>...</td>\n",
              "    </tr>\n",
              "    <tr>\n",
              "      <th>24484</th>\n",
              "      <td>import hashcod prerequisit equal hashcod javah...</td>\n",
              "      <td>4</td>\n",
              "    </tr>\n",
              "    <tr>\n",
              "      <th>24485</th>\n",
              "      <td>queue inbuilt queue perman allow push pop oper...</td>\n",
              "      <td>4</td>\n",
              "    </tr>\n",
              "    <tr>\n",
              "      <th>24486</th>\n",
              "      <td>scala field overrid orient languag overrid all...</td>\n",
              "      <td>4</td>\n",
              "    </tr>\n",
              "    <tr>\n",
              "      <th>24487</th>\n",
              "      <td>sum minimum possibl sub task sum minimum possi...</td>\n",
              "      <td>2</td>\n",
              "    </tr>\n",
              "    <tr>\n",
              "      <th>24488</th>\n",
              "      <td>water wast tank volum tank liter pump tank spe...</td>\n",
              "      <td>4</td>\n",
              "    </tr>\n",
              "  </tbody>\n",
              "</table>\n",
              "<p>24489 rows × 2 columns</p>\n",
              "</div>"
            ],
            "text/plain": [
              "                                                 content  cluster\n",
              "0      python threshold techniqu opencv adapt thresho...        4\n",
              "1      generat factor factor task print ascend order ...        2\n",
              "2      oper question 17 follow differ mean differ con...        4\n",
              "3      sympi subset size python subset size size symp...        4\n",
              "4      python pil imagefont truetyp pil python imag l...        4\n",
              "...                                                  ...      ...\n",
              "24484  import hashcod prerequisit equal hashcod javah...        4\n",
              "24485  queue inbuilt queue perman allow push pop oper...        4\n",
              "24486  scala field overrid orient languag overrid all...        4\n",
              "24487  sum minimum possibl sub task sum minimum possi...        2\n",
              "24488  water wast tank volum tank liter pump tank spe...        4\n",
              "\n",
              "[24489 rows x 2 columns]"
            ]
          },
          "metadata": {
            "tags": []
          },
          "execution_count": 18
        }
      ]
    },
    {
      "cell_type": "code",
      "metadata": {
        "colab": {
          "base_uri": "https://localhost:8080/"
        },
        "id": "JgqLvPzI_jQ3",
        "outputId": "cfb35cb9-9e30-431b-855d-d3b7f69c7a82"
      },
      "source": [
        "df.cluster.value_counts()"
      ],
      "execution_count": null,
      "outputs": [
        {
          "output_type": "execute_result",
          "data": {
            "text/plain": [
              "4    14725\n",
              "2     6586\n",
              "0     1103\n",
              "1     1074\n",
              "3     1001\n",
              "Name: cluster, dtype: int64"
            ]
          },
          "metadata": {
            "tags": []
          },
          "execution_count": 19
        }
      ]
    },
    {
      "cell_type": "code",
      "metadata": {
        "id": "xFHQljJpHOZ8"
      },
      "source": [
        "def cos_similarity(textlist):\n",
        "    tfidf = vec.fit_transform(textlist)\n",
        "    return (tfidf * tfidf.T).toarray()"
      ],
      "execution_count": null,
      "outputs": []
    },
    {
      "cell_type": "code",
      "metadata": {
        "colab": {
          "base_uri": "https://localhost:8080/"
        },
        "id": "TQVJCI0lEdQp",
        "outputId": "1f4d7a41-ae61-4d58-d7bd-840ce3a0e5b4"
      },
      "source": [
        "label1=[]\n",
        "label2=[]\n",
        "label3=[]\n",
        "label4=[]\n",
        "label5=[]\n",
        "for i in range(len(corpus)):\n",
        "  if labels[i]==0:\n",
        "    label1.append(i)\n",
        "  elif labels[i]==1:\n",
        "    label2.append(i)\n",
        "  elif labels[i]==2:\n",
        "    label3.append(i)\n",
        "  elif labels[i]==3:\n",
        "    label4.append(i)\n",
        "  elif labels[i]==4:\n",
        "    label5.append(i)\n",
        "print(label1)\n",
        "print(len(label1))\n",
        "print(label2)\n",
        "print(len(label2))\n",
        "print(label3)\n",
        "print(len(label3))\n",
        "print(label4)\n",
        "print(len(label4))\n",
        "print(label5)\n",
        "print(len(label5))"
      ],
      "execution_count": null,
      "outputs": [
        {
          "output_type": "stream",
          "text": [
            "[5, 10, 12, 69, 117, 122, 190, 206, 233, 246, 255, 270, 304, 311, 318, 404, 445, 461, 476, 496, 515, 518, 562, 586, 659, 690, 779, 833, 874, 880, 897, 905, 909, 914, 929, 950, 968, 1016, 1027, 1029, 1039, 1102, 1129, 1158, 1169, 1172, 1183, 1184, 1192, 1211, 1228, 1239, 1248, 1259, 1272, 1274, 1297, 1326, 1375, 1385, 1433, 1461, 1465, 1519, 1561, 1594, 1615, 1619, 1641, 1668, 1713, 1736, 1790, 1804, 1859, 1947, 1967, 1983, 1984, 1992, 1997, 2010, 2019, 2024, 2032, 2049, 2066, 2071, 2115, 2118, 2127, 2134, 2166, 2203, 2224, 2226, 2228, 2288, 2347, 2370, 2418, 2430, 2449, 2492, 2494, 2518, 2541, 2546, 2576, 2606, 2622, 2646, 2648, 2669, 2681, 2686, 2706, 2736, 2775, 2777, 2832, 2844, 2868, 2886, 2893, 2894, 2897, 2920, 2939, 2948, 2994, 2996, 3015, 3038, 3072, 3202, 3214, 3218, 3221, 3253, 3258, 3403, 3421, 3451, 3461, 3467, 3476, 3498, 3512, 3522, 3654, 3662, 3667, 3694, 3701, 3712, 3729, 3752, 3766, 3782, 3801, 3814, 3823, 3856, 3858, 3953, 3973, 3998, 4012, 4016, 4028, 4043, 4045, 4085, 4087, 4089, 4120, 4137, 4171, 4186, 4223, 4265, 4272, 4294, 4303, 4304, 4310, 4326, 4334, 4358, 4364, 4365, 4395, 4435, 4441, 4453, 4504, 4512, 4513, 4519, 4529, 4533, 4536, 4546, 4569, 4584, 4614, 4624, 4652, 4665, 4699, 4739, 4740, 4759, 4761, 4778, 4800, 4811, 4816, 4862, 4884, 4900, 4908, 4911, 4927, 4986, 4999, 5043, 5139, 5147, 5166, 5179, 5185, 5216, 5271, 5272, 5281, 5293, 5300, 5312, 5316, 5363, 5376, 5378, 5381, 5391, 5394, 5407, 5413, 5418, 5432, 5435, 5448, 5459, 5460, 5482, 5486, 5513, 5515, 5563, 5566, 5621, 5631, 5634, 5640, 5706, 5721, 5728, 5749, 5762, 5768, 5771, 5776, 5777, 5817, 5820, 5839, 5845, 5879, 5883, 5896, 5964, 5972, 5994, 5999, 6015, 6022, 6023, 6029, 6038, 6047, 6053, 6063, 6064, 6090, 6115, 6126, 6139, 6156, 6198, 6225, 6233, 6256, 6257, 6415, 6432, 6433, 6454, 6458, 6468, 6480, 6492, 6516, 6535, 6555, 6558, 6559, 6563, 6590, 6655, 6704, 6724, 6729, 6741, 6763, 6769, 6771, 6789, 6816, 6817, 6835, 6884, 6906, 6933, 6935, 6954, 7013, 7065, 7087, 7100, 7115, 7122, 7160, 7171, 7180, 7213, 7281, 7296, 7343, 7354, 7365, 7366, 7392, 7413, 7460, 7467, 7517, 7622, 7625, 7638, 7643, 7647, 7662, 7669, 7675, 7762, 7811, 7828, 7831, 7869, 7882, 7883, 7889, 7891, 7907, 7925, 7948, 7988, 8023, 8028, 8037, 8039, 8085, 8089, 8096, 8103, 8114, 8126, 8128, 8147, 8177, 8184, 8258, 8283, 8296, 8355, 8364, 8377, 8387, 8406, 8408, 8430, 8439, 8443, 8463, 8465, 8482, 8497, 8509, 8524, 8571, 8576, 8610, 8632, 8640, 8849, 8865, 8866, 8897, 8912, 8918, 8929, 8931, 8936, 8953, 8955, 8962, 8966, 9010, 9061, 9083, 9098, 9166, 9170, 9173, 9179, 9200, 9222, 9229, 9287, 9315, 9362, 9363, 9370, 9392, 9404, 9406, 9474, 9502, 9505, 9506, 9565, 9571, 9605, 9614, 9641, 9656, 9657, 9662, 9700, 9738, 9753, 9771, 9779, 9816, 9817, 9835, 9847, 9876, 9880, 9899, 9920, 9922, 9981, 9994, 10051, 10066, 10120, 10150, 10156, 10157, 10171, 10176, 10248, 10307, 10315, 10331, 10336, 10346, 10358, 10387, 10397, 10406, 10437, 10447, 10453, 10459, 10470, 10471, 10498, 10506, 10521, 10528, 10552, 10680, 10682, 10720, 10737, 10745, 10753, 10796, 10829, 10892, 10902, 10905, 10934, 10940, 11005, 11011, 11034, 11035, 11044, 11056, 11078, 11135, 11151, 11187, 11205, 11223, 11229, 11240, 11283, 11288, 11340, 11449, 11453, 11502, 11523, 11556, 11581, 11615, 11649, 11691, 11754, 11759, 11801, 11822, 11858, 11876, 11885, 11936, 11971, 12011, 12015, 12038, 12061, 12082, 12088, 12099, 12103, 12113, 12159, 12207, 12214, 12230, 12292, 12340, 12349, 12371, 12399, 12444, 12493, 12535, 12539, 12611, 12617, 12624, 12628, 12634, 12639, 12704, 12709, 12736, 12739, 12747, 12782, 12803, 12855, 12869, 12890, 12902, 12913, 12943, 12958, 12972, 12980, 13011, 13030, 13052, 13092, 13108, 13120, 13149, 13155, 13162, 13204, 13219, 13258, 13354, 13385, 13415, 13445, 13453, 13463, 13503, 13520, 13537, 13538, 13541, 13546, 13554, 13555, 13624, 13673, 13688, 13711, 13716, 13719, 13722, 13792, 13827, 13849, 13855, 13857, 13883, 13957, 13960, 13993, 14047, 14050, 14083, 14098, 14102, 14106, 14117, 14218, 14286, 14365, 14393, 14410, 14417, 14425, 14439, 14450, 14544, 14548, 14566, 14568, 14585, 14602, 14612, 14617, 14675, 14713, 14714, 14717, 14723, 14725, 14771, 14780, 14797, 14873, 14892, 14907, 14908, 14926, 15002, 15014, 15017, 15019, 15062, 15087, 15222, 15232, 15249, 15256, 15297, 15331, 15366, 15374, 15377, 15388, 15424, 15435, 15446, 15468, 15476, 15483, 15493, 15497, 15512, 15523, 15530, 15563, 15578, 15693, 15700, 15714, 15742, 15750, 15767, 15780, 15783, 15806, 15831, 15849, 15859, 15895, 15905, 15925, 16000, 16056, 16082, 16172, 16192, 16212, 16221, 16228, 16263, 16265, 16318, 16383, 16448, 16524, 16535, 16562, 16599, 16657, 16661, 16674, 16713, 16731, 16754, 16784, 16798, 16804, 16812, 16836, 16848, 16872, 16907, 16911, 17005, 17007, 17010, 17063, 17070, 17167, 17182, 17192, 17211, 17215, 17236, 17277, 17299, 17313, 17362, 17388, 17390, 17410, 17429, 17465, 17472, 17508, 17530, 17536, 17565, 17648, 17652, 17661, 17674, 17700, 17771, 17782, 17804, 17836, 17859, 17886, 17926, 17928, 17929, 17950, 17959, 17969, 17973, 17974, 18004, 18020, 18032, 18068, 18079, 18087, 18095, 18097, 18118, 18190, 18240, 18268, 18271, 18300, 18324, 18327, 18360, 18406, 18454, 18462, 18507, 18510, 18530, 18548, 18549, 18581, 18661, 18666, 18693, 18705, 18736, 18743, 18748, 18756, 18761, 18773, 18774, 18780, 18805, 18823, 18845, 18880, 18903, 18934, 18939, 18946, 18956, 18990, 19011, 19104, 19130, 19223, 19228, 19255, 19278, 19298, 19301, 19370, 19375, 19376, 19405, 19406, 19420, 19427, 19435, 19437, 19473, 19499, 19551, 19568, 19580, 19593, 19609, 19623, 19634, 19649, 19656, 19712, 19720, 19729, 19731, 19735, 19766, 19771, 19793, 19806, 19892, 19902, 19925, 20034, 20038, 20075, 20081, 20121, 20131, 20146, 20209, 20215, 20216, 20218, 20221, 20248, 20277, 20282, 20298, 20371, 20387, 20391, 20406, 20452, 20468, 20471, 20489, 20499, 20501, 20524, 20542, 20588, 20608, 20630, 20653, 20664, 20681, 20695, 20724, 20751, 20761, 20764, 20769, 20812, 20834, 20839, 20854, 20864, 20878, 20887, 20909, 20961, 20965, 20988, 21018, 21030, 21034, 21037, 21055, 21057, 21060, 21064, 21077, 21091, 21102, 21116, 21124, 21146, 21148, 21151, 21162, 21172, 21187, 21243, 21271, 21275, 21295, 21296, 21330, 21356, 21367, 21388, 21428, 21458, 21462, 21498, 21514, 21527, 21533, 21555, 21556, 21605, 21653, 21654, 21698, 21713, 21723, 21737, 21755, 21756, 21805, 21841, 21844, 21850, 21922, 21978, 22004, 22005, 22023, 22024, 22037, 22043, 22051, 22059, 22152, 22162, 22198, 22231, 22233, 22237, 22238, 22247, 22323, 22332, 22389, 22400, 22415, 22477, 22481, 22490, 22515, 22518, 22533, 22584, 22670, 22746, 22832, 22849, 22860, 22861, 22862, 22868, 22896, 22906, 22931, 22933, 22943, 22963, 22979, 22987, 23037, 23047, 23068, 23086, 23092, 23137, 23149, 23151, 23180, 23189, 23223, 23225, 23278, 23303, 23366, 23388, 23429, 23456, 23491, 23496, 23499, 23508, 23529, 23532, 23549, 23570, 23633, 23634, 23687, 23696, 23699, 23731, 23735, 23736, 23759, 23789, 23817, 23828, 23859, 23862, 23864, 23870, 23883, 23901, 23916, 23930, 23932, 23943, 23955, 23989, 23992, 23998, 24003, 24066, 24068, 24085, 24092, 24129, 24130, 24134, 24139, 24163, 24238, 24301, 24307, 24319, 24328, 24338, 24386, 24404, 24412]\n",
            "1103\n",
            "[27, 47, 96, 102, 105, 141, 168, 196, 203, 320, 323, 336, 345, 421, 451, 457, 479, 556, 561, 585, 597, 680, 683, 692, 699, 720, 723, 754, 770, 806, 810, 846, 857, 859, 865, 873, 879, 885, 891, 893, 906, 915, 917, 918, 1042, 1068, 1127, 1128, 1131, 1132, 1151, 1163, 1190, 1220, 1238, 1249, 1251, 1254, 1273, 1298, 1301, 1324, 1347, 1379, 1386, 1391, 1414, 1420, 1453, 1497, 1503, 1537, 1545, 1551, 1573, 1645, 1690, 1723, 1738, 1741, 1766, 1797, 1801, 1808, 1821, 1852, 1895, 1902, 1917, 1959, 2018, 2033, 2043, 2052, 2078, 2093, 2153, 2162, 2237, 2279, 2296, 2368, 2375, 2387, 2412, 2437, 2461, 2512, 2513, 2542, 2584, 2586, 2597, 2601, 2620, 2629, 2671, 2678, 2725, 2730, 2755, 2764, 2774, 2782, 2788, 2816, 2848, 2859, 2862, 2864, 2882, 2895, 2899, 2910, 2935, 2938, 2985, 3009, 3134, 3137, 3154, 3156, 3158, 3215, 3217, 3235, 3416, 3479, 3481, 3482, 3502, 3554, 3559, 3569, 3571, 3572, 3638, 3664, 3683, 3686, 3727, 3732, 3743, 3786, 3791, 3792, 3805, 3834, 3839, 3843, 3872, 3890, 3894, 3899, 3925, 3958, 3966, 3986, 4021, 4027, 4036, 4066, 4102, 4114, 4125, 4139, 4142, 4165, 4174, 4201, 4230, 4263, 4275, 4280, 4293, 4312, 4375, 4415, 4416, 4425, 4461, 4462, 4496, 4503, 4515, 4552, 4556, 4561, 4583, 4632, 4718, 4723, 4729, 4765, 4828, 4832, 4840, 4922, 4962, 4985, 5070, 5081, 5102, 5157, 5183, 5215, 5217, 5223, 5232, 5234, 5242, 5354, 5358, 5361, 5362, 5449, 5469, 5478, 5481, 5488, 5490, 5518, 5552, 5568, 5641, 5669, 5678, 5680, 5681, 5711, 5716, 5725, 5740, 5782, 5799, 5834, 5920, 5938, 5957, 5967, 5975, 5982, 5995, 6005, 6030, 6085, 6111, 6113, 6136, 6145, 6148, 6149, 6175, 6191, 6207, 6209, 6213, 6254, 6316, 6335, 6348, 6404, 6405, 6444, 6445, 6449, 6453, 6498, 6577, 6582, 6604, 6605, 6606, 6616, 6630, 6645, 6687, 6723, 6780, 6797, 6801, 6842, 6845, 6889, 6895, 6897, 6898, 6908, 6943, 7027, 7035, 7045, 7051, 7066, 7069, 7086, 7094, 7123, 7127, 7128, 7143, 7211, 7216, 7242, 7284, 7298, 7312, 7313, 7315, 7346, 7350, 7364, 7379, 7386, 7428, 7442, 7483, 7492, 7498, 7521, 7537, 7548, 7605, 7611, 7633, 7656, 7664, 7687, 7701, 7713, 7731, 7764, 7781, 7826, 7842, 7851, 7878, 7894, 7923, 7934, 7936, 7953, 7958, 7959, 7960, 7968, 7995, 8014, 8095, 8102, 8127, 8143, 8164, 8172, 8185, 8209, 8257, 8292, 8322, 8340, 8345, 8358, 8402, 8424, 8454, 8546, 8553, 8599, 8643, 8661, 8665, 8669, 8693, 8706, 8742, 8811, 8814, 8861, 8873, 8874, 8902, 8905, 8914, 8926, 8950, 8976, 8982, 8988, 8990, 9002, 9020, 9058, 9064, 9068, 9069, 9078, 9086, 9123, 9142, 9184, 9208, 9277, 9293, 9323, 9325, 9338, 9359, 9390, 9393, 9401, 9403, 9441, 9491, 9556, 9579, 9610, 9649, 9660, 9684, 9756, 9759, 9790, 9820, 9832, 9838, 9851, 9858, 9863, 9865, 9890, 9921, 9973, 10010, 10049, 10102, 10109, 10115, 10128, 10137, 10145, 10164, 10181, 10184, 10196, 10199, 10229, 10247, 10275, 10289, 10345, 10354, 10366, 10372, 10398, 10424, 10441, 10443, 10462, 10475, 10489, 10567, 10569, 10605, 10617, 10637, 10642, 10651, 10688, 10731, 10740, 10777, 10811, 10839, 10860, 10912, 10926, 10949, 10957, 11024, 11067, 11092, 11095, 11101, 11141, 11163, 11204, 11255, 11267, 11275, 11323, 11325, 11358, 11363, 11422, 11433, 11438, 11454, 11483, 11534, 11578, 11724, 11733, 11743, 11780, 11814, 11839, 11868, 11890, 11892, 11958, 12010, 12021, 12027, 12069, 12165, 12167, 12174, 12180, 12194, 12197, 12205, 12227, 12242, 12254, 12302, 12329, 12345, 12425, 12456, 12538, 12554, 12587, 12588, 12597, 12599, 12686, 12697, 12700, 12701, 12708, 12712, 12761, 12785, 12820, 12839, 12844, 12947, 12963, 12973, 13012, 13063, 13075, 13087, 13103, 13157, 13169, 13203, 13226, 13273, 13289, 13294, 13297, 13369, 13452, 13466, 13489, 13496, 13521, 13568, 13569, 13577, 13583, 13622, 13639, 13649, 13670, 13679, 13702, 13713, 13731, 13788, 13847, 13885, 13907, 13910, 13923, 13962, 13971, 14013, 14052, 14061, 14100, 14122, 14134, 14138, 14176, 14199, 14202, 14229, 14255, 14273, 14280, 14326, 14396, 14402, 14412, 14480, 14540, 14582, 14604, 14611, 14614, 14615, 14658, 14694, 14778, 14813, 14856, 14864, 14920, 14925, 14965, 14980, 14998, 15005, 15016, 15024, 15030, 15055, 15061, 15105, 15153, 15160, 15186, 15200, 15204, 15206, 15216, 15223, 15226, 15280, 15337, 15349, 15353, 15379, 15390, 15422, 15428, 15481, 15498, 15546, 15551, 15567, 15568, 15572, 15574, 15576, 15585, 15619, 15659, 15662, 15688, 15692, 15740, 15796, 15801, 15813, 15829, 15842, 15876, 15921, 15926, 15936, 15943, 15994, 16043, 16060, 16073, 16108, 16126, 16148, 16160, 16165, 16176, 16182, 16185, 16237, 16252, 16270, 16280, 16284, 16286, 16289, 16323, 16373, 16381, 16409, 16540, 16553, 16580, 16584, 16640, 16651, 16658, 16665, 16694, 16712, 16761, 16792, 16806, 16808, 16811, 16832, 16849, 16883, 16993, 16997, 17018, 17039, 17044, 17058, 17068, 17082, 17089, 17090, 17122, 17133, 17139, 17175, 17183, 17222, 17229, 17246, 17251, 17253, 17345, 17358, 17365, 17393, 17415, 17444, 17489, 17539, 17545, 17548, 17573, 17594, 17607, 17637, 17655, 17658, 17675, 17679, 17682, 17705, 17709, 17732, 17740, 17768, 17801, 17810, 17874, 17877, 17882, 18006, 18062, 18072, 18073, 18117, 18140, 18200, 18211, 18278, 18289, 18309, 18326, 18334, 18342, 18363, 18364, 18413, 18421, 18463, 18469, 18550, 18552, 18558, 18565, 18592, 18606, 18618, 18641, 18648, 18669, 18684, 18686, 18708, 18715, 18751, 18758, 18781, 18785, 18827, 18832, 18833, 18861, 18885, 18902, 18976, 18979, 18987, 18993, 19038, 19043, 19046, 19070, 19071, 19074, 19093, 19101, 19112, 19116, 19119, 19120, 19165, 19212, 19254, 19273, 19279, 19294, 19296, 19302, 19317, 19360, 19389, 19393, 19458, 19482, 19486, 19504, 19529, 19576, 19658, 19661, 19681, 19699, 19755, 19756, 19780, 19785, 19789, 19828, 19910, 19956, 19967, 19974, 20028, 20044, 20058, 20101, 20111, 20138, 20142, 20168, 20177, 20189, 20192, 20210, 20212, 20227, 20236, 20250, 20291, 20294, 20299, 20361, 20402, 20415, 20428, 20433, 20484, 20513, 20522, 20642, 20649, 20651, 20671, 20680, 20736, 20759, 20822, 20836, 20877, 20904, 20959, 20990, 21003, 21042, 21044, 21047, 21098, 21149, 21185, 21203, 21234, 21246, 21250, 21263, 21265, 21269, 21302, 21309, 21345, 21351, 21423, 21450, 21487, 21507, 21543, 21560, 21564, 21600, 21635, 21637, 21645, 21718, 21739, 21762, 21803, 21815, 21832, 21837, 21858, 21873, 21881, 21882, 21899, 21918, 21924, 21938, 21953, 21969, 21997, 22011, 22017, 22038, 22078, 22112, 22159, 22173, 22174, 22187, 22205, 22207, 22226, 22254, 22263, 22301, 22314, 22328, 22329, 22335, 22347, 22365, 22408, 22434, 22458, 22470, 22484, 22486, 22501, 22522, 22563, 22564, 22566, 22590, 22591, 22593, 22613, 22624, 22658, 22661, 22666, 22698, 22712, 22722, 22723, 22737, 22755, 22771, 22772, 22792, 22798, 22873, 22897, 22923, 22966, 23020, 23035, 23041, 23070, 23073, 23107, 23138, 23162, 23170, 23175, 23191, 23193, 23198, 23250, 23284, 23370, 23399, 23410, 23433, 23450, 23459, 23466, 23495, 23526, 23534, 23536, 23659, 23660, 23754, 23774, 23792, 23826, 23838, 23947, 23950, 23978, 24031, 24040, 24055, 24069, 24112, 24133, 24166, 24171, 24192, 24209, 24216, 24234, 24287, 24343, 24403, 24407, 24414, 24421, 24426, 24434, 24463]\n",
            "1074\n",
            "[1, 6, 7, 16, 18, 23, 35, 39, 41, 42, 46, 48, 50, 53, 54, 55, 61, 62, 65, 68, 74, 76, 79, 86, 88, 90, 93, 95, 100, 109, 114, 116, 123, 125, 127, 132, 134, 135, 137, 138, 139, 147, 149, 152, 156, 157, 162, 169, 172, 173, 174, 180, 188, 191, 192, 194, 195, 197, 199, 200, 201, 202, 208, 209, 210, 212, 216, 222, 223, 227, 228, 238, 240, 241, 242, 247, 256, 259, 261, 264, 268, 273, 275, 278, 283, 285, 289, 297, 300, 302, 305, 314, 319, 324, 326, 328, 330, 332, 339, 340, 348, 350, 355, 359, 361, 375, 381, 392, 393, 396, 408, 415, 419, 420, 427, 429, 433, 435, 439, 440, 452, 454, 455, 458, 463, 467, 469, 470, 475, 477, 484, 486, 490, 491, 494, 497, 499, 504, 506, 523, 525, 530, 531, 534, 535, 539, 540, 541, 544, 555, 564, 566, 567, 569, 570, 577, 579, 582, 591, 592, 599, 600, 602, 604, 606, 608, 611, 617, 620, 625, 628, 631, 632, 634, 635, 637, 643, 645, 646, 650, 651, 652, 654, 660, 661, 669, 673, 674, 678, 684, 689, 691, 696, 703, 708, 709, 712, 722, 727, 731, 733, 734, 737, 756, 762, 763, 764, 766, 772, 774, 778, 783, 787, 790, 792, 793, 797, 799, 808, 813, 816, 826, 830, 835, 837, 838, 839, 844, 849, 850, 851, 854, 867, 870, 875, 876, 877, 881, 886, 888, 894, 907, 919, 922, 923, 924, 928, 934, 939, 945, 949, 960, 961, 965, 970, 971, 972, 973, 977, 980, 982, 985, 988, 989, 990, 997, 998, 1003, 1004, 1015, 1017, 1018, 1021, 1023, 1034, 1035, 1036, 1044, 1050, 1051, 1057, 1058, 1059, 1060, 1067, 1070, 1072, 1073, 1076, 1083, 1084, 1086, 1087, 1094, 1095, 1097, 1098, 1099, 1101, 1103, 1104, 1105, 1107, 1110, 1111, 1113, 1114, 1116, 1121, 1123, 1126, 1135, 1137, 1142, 1143, 1145, 1147, 1148, 1153, 1155, 1157, 1166, 1168, 1170, 1175, 1179, 1180, 1189, 1191, 1195, 1198, 1200, 1205, 1207, 1217, 1219, 1225, 1226, 1227, 1231, 1240, 1242, 1244, 1250, 1262, 1264, 1267, 1268, 1269, 1275, 1282, 1283, 1285, 1290, 1306, 1307, 1309, 1311, 1317, 1323, 1325, 1330, 1331, 1335, 1341, 1348, 1353, 1356, 1357, 1358, 1362, 1365, 1366, 1368, 1372, 1374, 1384, 1387, 1388, 1407, 1408, 1410, 1412, 1413, 1416, 1417, 1426, 1431, 1436, 1437, 1438, 1439, 1440, 1445, 1450, 1452, 1457, 1464, 1466, 1474, 1476, 1477, 1480, 1482, 1484, 1486, 1489, 1495, 1498, 1506, 1510, 1512, 1515, 1516, 1517, 1520, 1524, 1528, 1531, 1532, 1534, 1535, 1536, 1538, 1541, 1547, 1553, 1556, 1558, 1559, 1565, 1574, 1585, 1586, 1593, 1595, 1597, 1604, 1610, 1613, 1616, 1623, 1626, 1630, 1633, 1634, 1636, 1642, 1648, 1651, 1653, 1657, 1658, 1660, 1673, 1675, 1676, 1681, 1685, 1692, 1706, 1714, 1718, 1720, 1722, 1728, 1730, 1732, 1733, 1735, 1746, 1749, 1750, 1753, 1756, 1762, 1769, 1771, 1774, 1775, 1776, 1784, 1793, 1794, 1796, 1802, 1803, 1809, 1814, 1815, 1825, 1826, 1829, 1830, 1835, 1836, 1837, 1838, 1840, 1842, 1845, 1848, 1849, 1850, 1854, 1856, 1857, 1867, 1870, 1872, 1876, 1884, 1886, 1887, 1888, 1889, 1897, 1898, 1906, 1911, 1916, 1918, 1919, 1922, 1924, 1930, 1932, 1933, 1943, 1944, 1950, 1951, 1954, 1955, 1957, 1961, 1962, 1964, 1972, 1975, 1982, 1986, 1993, 1995, 1998, 2009, 2017, 2023, 2025, 2026, 2029, 2037, 2038, 2044, 2054, 2056, 2059, 2060, 2061, 2063, 2065, 2067, 2068, 2086, 2090, 2091, 2094, 2095, 2097, 2098, 2099, 2105, 2106, 2111, 2113, 2117, 2119, 2120, 2123, 2129, 2132, 2136, 2138, 2139, 2148, 2152, 2154, 2155, 2160, 2163, 2170, 2171, 2175, 2177, 2178, 2185, 2186, 2193, 2194, 2206, 2208, 2217, 2218, 2221, 2222, 2225, 2232, 2240, 2244, 2246, 2247, 2250, 2254, 2256, 2258, 2259, 2264, 2265, 2273, 2274, 2282, 2284, 2289, 2294, 2295, 2297, 2306, 2308, 2315, 2316, 2319, 2331, 2332, 2333, 2335, 2336, 2340, 2341, 2349, 2350, 2355, 2356, 2358, 2366, 2373, 2376, 2378, 2379, 2380, 2384, 2386, 2400, 2403, 2404, 2405, 2407, 2408, 2409, 2413, 2417, 2420, 2423, 2428, 2429, 2435, 2436, 2448, 2451, 2457, 2458, 2459, 2460, 2462, 2470, 2472, 2473, 2477, 2481, 2482, 2487, 2488, 2489, 2493, 2499, 2501, 2506, 2507, 2508, 2510, 2516, 2525, 2528, 2529, 2530, 2531, 2535, 2536, 2539, 2545, 2551, 2552, 2553, 2556, 2566, 2572, 2574, 2575, 2582, 2594, 2596, 2599, 2603, 2609, 2611, 2612, 2614, 2615, 2626, 2628, 2634, 2635, 2637, 2638, 2639, 2652, 2653, 2655, 2657, 2658, 2659, 2660, 2668, 2673, 2675, 2680, 2684, 2685, 2687, 2696, 2697, 2698, 2699, 2701, 2709, 2710, 2713, 2715, 2716, 2717, 2718, 2719, 2722, 2723, 2724, 2728, 2733, 2734, 2735, 2739, 2742, 2745, 2746, 2749, 2750, 2752, 2758, 2760, 2761, 2769, 2772, 2780, 2783, 2785, 2786, 2787, 2790, 2791, 2792, 2794, 2825, 2827, 2833, 2835, 2839, 2841, 2847, 2853, 2854, 2860, 2863, 2865, 2873, 2875, 2878, 2896, 2900, 2903, 2904, 2906, 2907, 2909, 2913, 2917, 2918, 2922, 2925, 2937, 2941, 2943, 2944, 2954, 2956, 2958, 2964, 2969, 2973, 2975, 2978, 2979, 2980, 2989, 2999, 3004, 3005, 3007, 3010, 3014, 3019, 3021, 3023, 3026, 3028, 3029, 3030, 3031, 3032, 3034, 3047, 3048, 3049, 3051, 3057, 3059, 3061, 3064, 3068, 3069, 3070, 3071, 3073, 3081, 3084, 3085, 3087, 3088, 3096, 3098, 3104, 3106, 3108, 3121, 3124, 3127, 3131, 3132, 3135, 3138, 3140, 3143, 3145, 3150, 3151, 3165, 3172, 3178, 3179, 3180, 3183, 3188, 3190, 3192, 3194, 3195, 3196, 3197, 3199, 3206, 3208, 3223, 3228, 3230, 3236, 3237, 3238, 3239, 3243, 3244, 3247, 3249, 3250, 3263, 3269, 3276, 3280, 3282, 3284, 3288, 3290, 3292, 3293, 3294, 3296, 3300, 3304, 3306, 3307, 3308, 3309, 3311, 3316, 3319, 3320, 3321, 3322, 3323, 3325, 3327, 3331, 3336, 3340, 3341, 3344, 3347, 3348, 3350, 3353, 3357, 3365, 3369, 3370, 3372, 3377, 3381, 3382, 3385, 3389, 3392, 3404, 3409, 3413, 3415, 3420, 3423, 3425, 3426, 3430, 3432, 3436, 3438, 3439, 3441, 3443, 3445, 3447, 3450, 3452, 3455, 3457, 3462, 3464, 3465, 3466, 3469, 3470, 3472, 3475, 3487, 3488, 3489, 3490, 3497, 3508, 3509, 3511, 3514, 3516, 3527, 3528, 3530, 3533, 3535, 3541, 3542, 3543, 3546, 3547, 3548, 3551, 3552, 3565, 3566, 3575, 3581, 3583, 3585, 3590, 3594, 3596, 3598, 3600, 3611, 3617, 3622, 3632, 3634, 3643, 3646, 3648, 3649, 3650, 3651, 3661, 3669, 3670, 3671, 3673, 3690, 3691, 3692, 3700, 3702, 3705, 3706, 3710, 3713, 3718, 3719, 3720, 3721, 3725, 3728, 3730, 3731, 3744, 3749, 3755, 3764, 3765, 3793, 3795, 3796, 3798, 3799, 3800, 3810, 3811, 3840, 3859, 3860, 3862, 3873, 3884, 3885, 3886, 3892, 3896, 3898, 3904, 3911, 3915, 3918, 3922, 3923, 3926, 3928, 3932, 3934, 3935, 3937, 3940, 3947, 3948, 3949, 3954, 3955, 3959, 3962, 3971, 3974, 3979, 3982, 3985, 3994, 4001, 4003, 4007, 4009, 4014, 4018, 4022, 4024, 4030, 4031, 4038, 4039, 4040, 4042, 4046, 4047, 4048, 4049, 4057, 4070, 4071, 4072, 4079, 4080, 4095, 4098, 4100, 4104, 4105, 4107, 4109, 4110, 4113, 4115, 4116, 4121, 4126, 4127, 4128, 4130, 4134, 4138, 4140, 4143, 4146, 4152, 4156, 4164, 4166, 4173, 4175, 4178, 4180, 4182, 4187, 4195, 4196, 4199, 4204, 4212, 4213, 4215, 4221, 4222, 4225, 4226, 4227, 4245, 4247, 4253, 4256, 4258, 4266, 4267, 4268, 4269, 4273, 4277, 4282, 4286, 4295, 4296, 4297, 4302, 4311, 4315, 4316, 4318, 4325, 4327, 4328, 4331, 4337, 4342, 4347, 4348, 4352, 4353, 4355, 4366, 4372, 4376, 4378, 4379, 4381, 4382, 4385, 4387, 4389, 4397, 4402, 4403, 4406, 4410, 4420, 4424, 4427, 4431, 4436, 4438, 4439, 4445, 4446, 4447, 4450, 4451, 4454, 4456, 4463, 4466, 4468, 4480, 4484, 4493, 4495, 4497, 4505, 4507, 4517, 4524, 4531, 4535, 4538, 4539, 4543, 4548, 4549, 4553, 4554, 4558, 4567, 4581, 4590, 4591, 4593, 4595, 4598, 4599, 4601, 4603, 4607, 4609, 4623, 4630, 4644, 4649, 4655, 4659, 4663, 4666, 4668, 4671, 4678, 4680, 4688, 4690, 4692, 4696, 4698, 4700, 4701, 4702, 4703, 4704, 4710, 4711, 4712, 4713, 4714, 4715, 4717, 4722, 4726, 4727, 4728, 4731, 4732, 4743, 4750, 4752, 4754, 4756, 4763, 4766, 4767, 4768, 4775, 4781, 4785, 4793, 4799, 4809, 4825, 4826, 4829, 4830, 4839, 4845, 4856, 4865, 4867, 4868, 4869, 4871, 4880, 4889, 4894, 4902, 4904, 4905, 4912, 4913, 4919, 4920, 4921, 4923, 4925, 4928, 4935, 4937, 4939, 4944, 4947, 4956, 4959, 4960, 4965, 4973, 4975, 4976, 4983, 4984, 4993, 4994, 4995, 4997, 5001, 5004, 5005, 5007, 5016, 5019, 5020, 5021, 5023, 5024, 5025, 5026, 5027, 5031, 5033, 5037, 5040, 5045, 5050, 5052, 5059, 5062, 5064, 5067, 5076, 5079, 5082, 5090, 5093, 5097, 5098, 5103, 5115, 5118, 5119, 5120, 5124, 5135, 5137, 5140, 5141, 5142, 5150, 5159, 5161, 5162, 5163, 5167, 5169, 5170, 5174, 5180, 5184, 5187, 5191, 5196, 5197, 5205, 5224, 5227, 5236, 5240, 5241, 5246, 5250, 5251, 5254, 5255, 5257, 5261, 5262, 5263, 5264, 5268, 5270, 5275, 5283, 5285, 5287, 5294, 5295, 5302, 5310, 5313, 5324, 5325, 5327, 5329, 5330, 5332, 5334, 5336, 5341, 5347, 5350, 5351, 5355, 5359, 5360, 5364, 5368, 5380, 5383, 5384, 5392, 5396, 5397, 5404, 5410, 5412, 5415, 5421, 5428, 5429, 5430, 5439, 5441, 5446, 5452, 5457, 5458, 5463, 5475, 5480, 5483, 5489, 5494, 5495, 5498, 5501, 5502, 5511, 5514, 5517, 5520, 5522, 5523, 5524, 5527, 5528, 5529, 5532, 5534, 5543, 5548, 5553, 5554, 5562, 5565, 5576, 5577, 5579, 5580, 5582, 5583, 5584, 5585, 5591, 5592, 5594, 5595, 5600, 5601, 5602, 5603, 5606, 5614, 5616, 5622, 5623, 5626, 5635, 5636, 5638, 5642, 5644, 5645, 5646, 5647, 5656, 5658, 5659, 5661, 5664, 5666, 5667, 5668, 5671, 5672, 5673, 5674, 5696, 5700, 5704, 5707, 5710, 5715, 5720, 5726, 5727, 5729, 5734, 5738, 5752, 5756, 5757, 5761, 5765, 5774, 5780, 5788, 5789, 5791, 5793, 5794, 5804, 5808, 5811, 5814, 5815, 5818, 5825, 5828, 5833, 5838, 5841, 5848, 5849, 5853, 5854, 5863, 5867, 5868, 5869, 5870, 5872, 5873, 5878, 5880, 5882, 5885, 5886, 5888, 5890, 5893, 5894, 5895, 5902, 5908, 5911, 5914, 5915, 5918, 5924, 5927, 5929, 5930, 5932, 5949, 5960, 5963, 5966, 5974, 5977, 5979, 5984, 5990, 5993, 5998, 6009, 6026, 6032, 6036, 6041, 6048, 6049, 6054, 6057, 6062, 6067, 6074, 6080, 6081, 6083, 6086, 6087, 6093, 6095, 6108, 6114, 6117, 6118, 6131, 6152, 6153, 6155, 6158, 6159, 6160, 6162, 6164, 6165, 6167, 6169, 6171, 6178, 6179, 6181, 6182, 6185, 6195, 6200, 6205, 6208, 6211, 6228, 6229, 6230, 6231, 6232, 6235, 6245, 6253, 6255, 6260, 6261, 6262, 6271, 6272, 6273, 6281, 6283, 6287, 6291, 6296, 6298, 6302, 6306, 6308, 6309, 6319, 6323, 6324, 6328, 6330, 6331, 6334, 6340, 6341, 6355, 6360, 6368, 6371, 6376, 6377, 6380, 6384, 6385, 6388, 6389, 6391, 6395, 6411, 6412, 6425, 6426, 6428, 6439, 6442, 6447, 6448, 6450, 6455, 6461, 6462, 6475, 6477, 6479, 6481, 6488, 6501, 6502, 6505, 6508, 6512, 6523, 6524, 6531, 6532, 6539, 6540, 6541, 6550, 6552, 6562, 6566, 6568, 6569, 6570, 6571, 6574, 6575, 6576, 6580, 6581, 6583, 6591, 6593, 6594, 6595, 6598, 6599, 6603, 6609, 6610, 6617, 6620, 6623, 6624, 6626, 6635, 6640, 6648, 6649, 6650, 6656, 6658, 6665, 6668, 6675, 6680, 6683, 6686, 6688, 6689, 6690, 6691, 6694, 6697, 6698, 6699, 6702, 6710, 6713, 6717, 6718, 6719, 6720, 6727, 6745, 6747, 6759, 6760, 6765, 6772, 6776, 6781, 6783, 6784, 6786, 6795, 6804, 6811, 6815, 6820, 6832, 6849, 6856, 6863, 6870, 6875, 6876, 6877, 6879, 6886, 6887, 6890, 6899, 6903, 6907, 6913, 6920, 6922, 6931, 6934, 6949, 6952, 6955, 6956, 6961, 6962, 6964, 6966, 6974, 6976, 6978, 6979, 6980, 6983, 6988, 6989, 6992, 7000, 7002, 7003, 7007, 7008, 7012, 7014, 7015, 7017, 7020, 7028, 7032, 7040, 7044, 7046, 7053, 7055, 7060, 7062, 7063, 7068, 7070, 7071, 7074, 7076, 7080, 7081, 7082, 7088, 7090, 7096, 7099, 7102, 7103, 7107, 7112, 7134, 7138, 7139, 7140, 7141, 7145, 7147, 7148, 7154, 7156, 7157, 7164, 7168, 7172, 7173, 7177, 7178, 7179, 7182, 7186, 7192, 7198, 7200, 7201, 7202, 7209, 7212, 7217, 7222, 7223, 7230, 7236, 7240, 7241, 7243, 7251, 7252, 7253, 7261, 7268, 7269, 7274, 7278, 7285, 7288, 7290, 7293, 7297, 7300, 7302, 7304, 7305, 7306, 7310, 7316, 7317, 7318, 7321, 7322, 7323, 7327, 7329, 7330, 7331, 7332, 7333, 7338, 7347, 7352, 7359, 7371, 7374, 7376, 7380, 7381, 7382, 7383, 7390, 7393, 7397, 7403, 7412, 7416, 7418, 7424, 7432, 7433, 7437, 7441, 7444, 7449, 7453, 7455, 7457, 7458, 7461, 7462, 7471, 7473, 7476, 7478, 7480, 7482, 7486, 7487, 7489, 7490, 7505, 7508, 7512, 7513, 7515, 7526, 7527, 7531, 7532, 7541, 7546, 7547, 7549, 7550, 7551, 7552, 7558, 7559, 7562, 7566, 7568, 7573, 7577, 7579, 7591, 7593, 7597, 7600, 7607, 7608, 7612, 7616, 7618, 7619, 7624, 7634, 7640, 7649, 7651, 7655, 7658, 7660, 7663, 7668, 7672, 7674, 7679, 7691, 7693, 7695, 7698, 7702, 7706, 7707, 7720, 7722, 7728, 7733, 7734, 7736, 7738, 7743, 7746, 7748, 7749, 7750, 7751, 7754, 7757, 7758, 7760, 7768, 7770, 7771, 7775, 7779, 7785, 7793, 7795, 7798, 7799, 7800, 7802, 7806, 7807, 7809, 7813, 7815, 7818, 7827, 7835, 7836, 7838, 7841, 7845, 7848, 7850, 7852, 7853, 7854, 7857, 7863, 7870, 7877, 7880, 7884, 7886, 7888, 7890, 7898, 7899, 7909, 7911, 7915, 7917, 7921, 7926, 7929, 7930, 7935, 7939, 7940, 7941, 7944, 7945, 7950, 7952, 7954, 7962, 7963, 7965, 7970, 7978, 7985, 7992, 8000, 8001, 8002, 8004, 8008, 8018, 8022, 8025, 8030, 8033, 8034, 8035, 8040, 8041, 8043, 8045, 8046, 8048, 8053, 8057, 8063, 8068, 8072, 8073, 8081, 8084, 8087, 8088, 8098, 8106, 8120, 8121, 8125, 8132, 8134, 8146, 8149, 8150, 8152, 8153, 8160, 8162, 8171, 8174, 8175, 8181, 8182, 8186, 8188, 8189, 8190, 8192, 8196, 8198, 8200, 8203, 8208, 8212, 8215, 8217, 8218, 8221, 8222, 8225, 8228, 8230, 8236, 8237, 8238, 8239, 8241, 8247, 8254, 8261, 8263, 8265, 8267, 8269, 8276, 8277, 8282, 8290, 8294, 8295, 8297, 8300, 8308, 8310, 8313, 8314, 8316, 8317, 8319, 8325, 8330, 8343, 8349, 8356, 8361, 8362, 8365, 8369, 8381, 8384, 8394, 8400, 8403, 8417, 8418, 8422, 8436, 8437, 8438, 8442, 8449, 8450, 8460, 8462, 8464, 8467, 8476, 8479, 8483, 8494, 8500, 8503, 8504, 8518, 8520, 8521, 8527, 8531, 8534, 8536, 8539, 8545, 8547, 8550, 8562, 8564, 8565, 8566, 8569, 8575, 8581, 8585, 8586, 8590, 8592, 8595, 8596, 8602, 8603, 8607, 8615, 8616, 8619, 8620, 8621, 8622, 8623, 8627, 8631, 8634, 8636, 8638, 8639, 8644, 8648, 8650, 8653, 8660, 8662, 8664, 8670, 8675, 8676, 8686, 8687, 8688, 8694, 8699, 8701, 8702, 8708, 8709, 8714, 8716, 8718, 8722, 8724, 8729, 8740, 8746, 8755, 8756, 8758, 8760, 8764, 8768, 8769, 8772, 8774, 8776, 8778, 8780, 8782, 8789, 8791, 8792, 8795, 8797, 8802, 8815, 8819, 8821, 8834, 8836, 8840, 8842, 8844, 8845, 8848, 8855, 8856, 8857, 8863, 8871, 8878, 8884, 8886, 8891, 8896, 8900, 8901, 8908, 8921, 8922, 8943, 8948, 8952, 8954, 8957, 8963, 8983, 8984, 8991, 8996, 8999, 9003, 9011, 9015, 9022, 9024, 9025, 9030, 9031, 9040, 9043, 9049, 9052, 9053, 9054, 9063, 9074, 9084, 9090, 9092, 9094, 9096, 9103, 9113, 9121, 9126, 9129, 9130, 9131, 9134, 9136, 9143, 9155, 9159, 9162, 9163, 9167, 9174, 9180, 9182, 9186, 9192, 9193, 9196, 9199, 9201, 9202, 9203, 9204, 9207, 9209, 9210, 9215, 9216, 9218, 9219, 9221, 9223, 9224, 9228, 9234, 9235, 9236, 9237, 9238, 9240, 9243, 9246, 9247, 9248, 9253, 9255, 9256, 9259, 9261, 9269, 9272, 9273, 9276, 9279, 9285, 9289, 9296, 9300, 9302, 9304, 9305, 9306, 9313, 9314, 9318, 9319, 9321, 9347, 9352, 9354, 9358, 9367, 9368, 9369, 9371, 9372, 9376, 9380, 9384, 9388, 9389, 9396, 9399, 9407, 9409, 9414, 9417, 9420, 9421, 9425, 9426, 9427, 9429, 9430, 9442, 9452, 9453, 9456, 9458, 9463, 9465, 9468, 9470, 9475, 9476, 9483, 9484, 9489, 9490, 9493, 9494, 9496, 9500, 9504, 9507, 9508, 9512, 9513, 9526, 9538, 9541, 9547, 9550, 9563, 9567, 9568, 9573, 9583, 9586, 9587, 9588, 9593, 9595, 9596, 9600, 9615, 9618, 9619, 9623, 9626, 9630, 9631, 9632, 9635, 9636, 9637, 9638, 9639, 9642, 9648, 9655, 9659, 9661, 9668, 9669, 9670, 9672, 9676, 9677, 9680, 9681, 9685, 9689, 9690, 9692, 9694, 9695, 9703, 9705, 9717, 9718, 9720, 9721, 9723, 9728, 9730, 9733, 9750, 9752, 9754, 9761, 9762, 9765, 9766, 9767, 9775, 9776, 9778, 9780, 9784, 9785, 9792, 9794, 9795, 9796, 9799, 9801, 9804, 9805, 9806, 9808, 9813, 9819, 9828, 9830, 9834, 9841, 9842, 9844, 9845, 9855, 9857, 9859, 9860, 9867, 9868, 9879, 9882, 9888, 9891, 9895, 9900, 9906, 9907, 9908, 9909, 9910, 9914, 9924, 9926, 9931, 9942, 9947, 9949, 9950, 9954, 9961, 9962, 9963, 9966, 9967, 9968, 9970, 9971, 9972, 9975, 9979, 9980, 9988, 9992, 9993, 9997, 10007, 10009, 10012, 10014, 10016, 10018, 10019, 10021, 10029, 10032, 10033, 10034, 10045, 10046, 10047, 10050, 10052, 10053, 10058, 10059, 10060, 10063, 10065, 10068, 10075, 10076, 10080, 10082, 10084, 10086, 10094, 10100, 10105, 10110, 10113, 10122, 10125, 10126, 10127, 10129, 10130, 10138, 10148, 10149, 10165, 10166, 10167, 10168, 10170, 10173, 10187, 10188, 10191, 10193, 10195, 10200, 10202, 10204, 10205, 10208, 10211, 10213, 10215, 10216, 10220, 10221, 10223, 10224, 10225, 10226, 10228, 10230, 10234, 10238, 10239, 10240, 10242, 10259, 10268, 10272, 10274, 10276, 10288, 10293, 10295, 10297, 10298, 10301, 10302, 10308, 10316, 10325, 10326, 10328, 10332, 10334, 10337, 10338, 10348, 10352, 10357, 10359, 10360, 10362, 10364, 10367, 10371, 10375, 10376, 10379, 10380, 10385, 10386, 10390, 10391, 10409, 10410, 10416, 10418, 10421, 10423, 10431, 10435, 10442, 10445, 10449, 10450, 10454, 10457, 10465, 10472, 10473, 10476, 10479, 10482, 10485, 10492, 10493, 10504, 10508, 10510, 10511, 10523, 10524, 10530, 10536, 10537, 10538, 10539, 10548, 10553, 10555, 10560, 10566, 10568, 10570, 10572, 10573, 10574, 10579, 10585, 10590, 10591, 10592, 10593, 10599, 10600, 10603, 10609, 10611, 10613, 10614, 10615, 10619, 10627, 10630, 10631, 10636, 10646, 10652, 10653, 10654, 10656, 10663, 10664, 10665, 10672, 10674, 10675, 10679, 10681, 10689, 10691, 10692, 10704, 10707, 10708, 10709, 10710, 10717, 10718, 10722, 10724, 10725, 10726, 10727, 10729, 10730, 10733, 10736, 10738, 10742, 10747, 10750, 10752, 10758, 10768, 10771, 10773, 10774, 10776, 10780, 10782, 10798, 10801, 10802, 10807, 10808, 10809, 10821, 10824, 10828, 10830, 10831, 10832, 10833, 10840, 10841, 10843, 10845, 10850, 10855, 10859, 10861, 10865, 10866, 10868, 10870, 10875, 10876, 10880, 10882, 10883, 10884, 10886, 10887, 10896, 10898, 10899, 10903, 10904, 10908, 10910, 10913, 10916, 10917, 10919, 10929, 10942, 10944, 10945, 10954, 10955, 10956, 10958, 10959, 10961, 10962, 10967, 10970, 10972, 10974, 10977, 10978, 10988, 10992, 10997, 11006, 11009, 11017, 11019, 11025, 11026, 11028, 11029, 11030, 11031, 11037, 11038, 11041, 11042, 11045, 11046, 11047, 11048, 11054, 11055, 11058, 11059, 11062, 11064, 11070, 11073, 11077, 11080, 11100, 11108, 11109, 11117, 11121, 11124, 11133, 11136, 11145, 11147, 11148, 11152, 11156, 11158, 11159, 11166, 11168, 11169, 11174, 11184, 11186, 11189, 11193, 11197, 11199, 11201, 11206, 11207, 11215, 11217, 11218, 11224, 11225, 11236, 11237, 11241, 11244, 11249, 11253, 11254, 11257, 11259, 11262, 11272, 11273, 11277, 11281, 11282, 11285, 11289, 11291, 11293, 11294, 11296, 11298, 11300, 11301, 11303, 11312, 11314, 11315, 11316, 11318, 11319, 11321, 11327, 11328, 11332, 11336, 11345, 11347, 11348, 11349, 11350, 11351, 11354, 11356, 11357, 11365, 11369, 11371, 11373, 11374, 11375, 11376, 11379, 11380, 11384, 11387, 11391, 11393, 11396, 11398, 11400, 11401, 11406, 11410, 11414, 11420, 11424, 11429, 11432, 11441, 11442, 11443, 11444, 11447, 11450, 11456, 11457, 11458, 11459, 11464, 11465, 11467, 11468, 11470, 11471, 11473, 11475, 11481, 11484, 11485, 11486, 11487, 11489, 11491, 11496, 11498, 11503, 11505, 11509, 11512, 11514, 11516, 11517, 11518, 11521, 11527, 11528, 11531, 11532, 11535, 11538, 11546, 11550, 11554, 11555, 11558, 11560, 11564, 11571, 11576, 11580, 11588, 11589, 11597, 11598, 11601, 11606, 11608, 11613, 11614, 11617, 11618, 11620, 11621, 11623, 11624, 11625, 11631, 11632, 11643, 11644, 11647, 11648, 11661, 11665, 11666, 11674, 11679, 11689, 11697, 11702, 11703, 11711, 11716, 11717, 11721, 11723, 11727, 11730, 11738, 11740, 11741, 11748, 11751, 11756, 11757, 11760, 11761, 11762, 11764, 11765, 11767, 11768, 11769, 11775, 11782, 11783, 11784, 11789, 11792, 11793, 11797, 11798, 11800, 11805, 11809, 11812, 11817, 11819, 11828, 11835, 11844, 11852, 11857, 11860, 11863, 11865, 11873, 11874, 11875, 11879, 11880, 11883, 11887, 11893, 11895, 11904, 11905, 11906, 11907, 11911, 11915, 11918, 11919, 11920, 11924, 11925, 11926, 11927, 11930, 11933, 11935, 11938, 11941, 11944, 11946, 11949, 11951, 11957, 11959, 11963, 11969, 11972, 11973, 11976, 11984, 11988, 11992, 11993, 11995, 12001, 12003, 12006, 12008, 12009, 12014, 12017, 12019, 12028, 12039, 12043, 12044, 12057, 12058, 12065, 12068, 12072, 12075, 12076, 12077, 12079, 12080, 12081, 12085, 12087, 12095, 12102, 12104, 12118, 12120, 12122, 12124, 12125, 12128, 12142, 12147, 12149, 12150, 12161, 12166, 12173, 12179, 12188, 12190, 12195, 12196, 12199, 12202, 12206, 12211, 12215, 12221, 12223, 12226, 12233, 12235, 12236, 12244, 12246, 12250, 12251, 12257, 12265, 12267, 12274, 12278, 12282, 12284, 12287, 12293, 12295, 12297, 12298, 12299, 12303, 12307, 12308, 12311, 12312, 12321, 12323, 12325, 12328, 12332, 12334, 12336, 12338, 12339, 12341, 12344, 12347, 12350, 12351, 12356, 12357, 12364, 12369, 12372, 12382, 12389, 12401, 12403, 12405, 12406, 12407, 12411, 12414, 12415, 12420, 12426, 12427, 12431, 12433, 12434, 12435, 12436, 12442, 12443, 12449, 12450, 12451, 12458, 12460, 12461, 12462, 12463, 12468, 12470, 12475, 12479, 12482, 12484, 12485, 12489, 12490, 12494, 12497, 12506, 12507, 12522, 12530, 12532, 12542, 12543, 12544, 12548, 12558, 12561, 12563, 12566, 12569, 12573, 12575, 12576, 12579, 12583, 12585, 12595, 12601, 12602, 12604, 12605, 12607, 12608, 12613, 12615, 12616, 12619, 12622, 12630, 12645, 12646, 12651, 12654, 12655, 12659, 12661, 12662, 12663, 12665, 12669, 12670, 12673, 12681, 12685, 12687, 12699, 12713, 12716, 12721, 12742, 12745, 12746, 12750, 12752, 12754, 12755, 12762, 12763, 12767, 12769, 12771, 12779, 12780, 12794, 12798, 12800, 12801, 12804, 12808, 12819, 12822, 12830, 12838, 12840, 12843, 12850, 12851, 12856, 12860, 12862, 12863, 12876, 12877, 12885, 12887, 12894, 12895, 12903, 12906, 12908, 12911, 12916, 12922, 12925, 12929, 12934, 12935, 12939, 12942, 12948, 12953, 12955, 12959, 12961, 12976, 12977, 12987, 12991, 12994, 12997, 13003, 13004, 13007, 13018, 13019, 13020, 13043, 13045, 13046, 13047, 13054, 13061, 13062, 13069, 13070, 13071, 13073, 13074, 13079, 13081, 13088, 13089, 13091, 13100, 13101, 13105, 13113, 13114, 13115, 13126, 13133, 13138, 13139, 13140, 13141, 13146, 13148, 13150, 13156, 13159, 13163, 13175, 13183, 13185, 13187, 13189, 13195, 13198, 13207, 13213, 13215, 13216, 13217, 13221, 13222, 13225, 13234, 13236, 13239, 13243, 13250, 13262, 13263, 13269, 13274, 13279, 13280, 13281, 13284, 13288, 13292, 13296, 13302, 13304, 13305, 13306, 13308, 13309, 13311, 13313, 13314, 13317, 13318, 13323, 13324, 13329, 13332, 13333, 13337, 13338, 13340, 13349, 13352, 13353, 13355, 13358, 13359, 13373, 13377, 13379, 13382, 13383, 13387, 13392, 13407, 13410, 13416, 13422, 13431, 13434, 13438, 13441, 13442, 13443, 13448, 13450, 13454, 13461, 13462, 13465, 13469, 13472, 13479, 13480, 13481, 13494, 13495, 13501, 13506, 13512, 13513, 13514, 13519, 13522, 13523, 13526, 13527, 13528, 13533, 13534, 13535, 13542, 13543, 13547, 13549, 13551, 13558, 13560, 13566, 13570, 13580, 13589, 13591, 13595, 13600, 13615, 13619, 13625, 13627, 13632, 13634, 13636, 13640, 13642, 13644, 13668, 13671, 13672, 13675, 13690, 13695, 13696, 13701, 13703, 13706, 13707, 13708, 13718, 13720, 13721, 13725, 13730, 13738, 13740, 13741, 13751, 13752, 13756, 13757, 13768, 13770, 13774, 13776, 13780, 13782, 13783, 13794, 13796, 13798, 13799, 13800, 13803, 13808, 13810, 13813, 13820, 13822, 13825, 13836, 13838, 13840, 13842, 13844, 13851, 13852, 13854, 13856, 13858, 13860, 13863, 13869, 13871, 13872, 13886, 13888, 13890, 13893, 13894, 13896, 13897, 13900, 13902, 13904, 13905, 13912, 13919, 13922, 13927, 13928, 13929, 13931, 13934, 13937, 13942, 13944, 13947, 13950, 13952, 13956, 13958, 13961, 13963, 13969, 13974, 13976, 13981, 13983, 13984, 13986, 13994, 13995, 13999, 14000, 14001, 14009, 14012, 14017, 14018, 14019, 14021, 14024, 14027, 14032, 14034, 14037, 14040, 14042, 14046, 14048, 14051, 14053, 14059, 14064, 14066, 14071, 14073, 14074, 14076, 14084, 14085, 14089, 14090, 14091, 14094, 14095, 14113, 14116, 14121, 14123, 14125, 14126, 14127, 14133, 14136, 14137, 14140, 14144, 14146, 14154, 14157, 14158, 14160, 14164, 14165, 14169, 14171, 14182, 14183, 14184, 14187, 14188, 14189, 14192, 14201, 14206, 14212, 14213, 14221, 14232, 14236, 14237, 14239, 14245, 14247, 14248, 14252, 14256, 14262, 14271, 14272, 14278, 14281, 14282, 14283, 14285, 14288, 14291, 14297, 14301, 14303, 14304, 14305, 14306, 14312, 14315, 14318, 14319, 14322, 14333, 14337, 14342, 14343, 14349, 14352, 14353, 14354, 14357, 14363, 14366, 14368, 14370, 14384, 14386, 14387, 14388, 14390, 14399, 14405, 14406, 14416, 14420, 14423, 14424, 14427, 14440, 14442, 14443, 14445, 14446, 14461, 14464, 14478, 14482, 14493, 14495, 14499, 14500, 14503, 14518, 14520, 14522, 14526, 14528, 14531, 14533, 14534, 14537, 14543, 14549, 14554, 14556, 14558, 14562, 14563, 14571, 14580, 14584, 14594, 14597, 14598, 14605, 14619, 14624, 14637, 14644, 14648, 14651, 14665, 14666, 14672, 14686, 14692, 14709, 14719, 14724, 14727, 14731, 14732, 14733, 14736, 14740, 14742, 14743, 14744, 14750, 14751, 14754, 14756, 14757, 14759, 14760, 14763, 14766, 14767, 14768, 14770, 14776, 14784, 14786, 14787, 14791, 14795, 14798, 14804, 14805, 14806, 14809, 14810, 14811, 14817, 14821, 14824, 14825, 14829, 14831, 14833, 14838, 14843, 14846, 14850, 14860, 14861, 14863, 14868, 14878, 14882, 14883, 14894, 14898, 14900, 14902, 14903, 14914, 14923, 14927, 14928, 14931, 14933, 14945, 14946, 14947, 14951, 14952, 14957, 14959, 14962, 14966, 14971, 14975, 14978, 14979, 14982, 14984, 14985, 14986, 14990, 14991, 14992, 14995, 15007, 15010, 15011, 15018, 15023, 15029, 15031, 15032, 15033, 15034, 15035, 15037, 15041, 15043, 15044, 15050, 15054, 15056, 15057, 15060, 15070, 15072, 15074, 15078, 15080, 15081, 15083, 15085, 15086, 15088, 15089, 15091, 15094, 15100, 15109, 15113, 15114, 15115, 15118, 15119, 15122, 15127, 15129, 15137, 15143, 15144, 15147, 15148, 15151, 15154, 15156, 15159, 15162, 15164, 15166, 15167, 15170, 15171, 15174, 15175, 15181, 15183, 15189, 15194, 15196, 15197, 15199, 15212, 15218, 15221, 15228, 15229, 15230, 15231, 15234, 15235, 15236, 15243, 15245, 15247, 15248, 15259, 15271, 15274, 15275, 15276, 15277, 15282, 15286, 15292, 15302, 15305, 15308, 15309, 15310, 15311, 15312, 15315, 15316, 15317, 15319, 15332, 15341, 15344, 15355, 15359, 15360, 15361, 15363, 15373, 15382, 15392, 15395, 15401, 15405, 15408, 15426, 15429, 15431, 15436, 15437, 15440, 15447, 15448, 15451, 15453, 15459, 15461, 15474, 15484, 15486, 15494, 15496, 15501, 15503, 15504, 15507, 15515, 15517, 15518, 15520, 15524, 15538, 15540, 15542, 15545, 15548, 15550, 15553, 15556, 15557, 15560, 15562, 15573, 15577, 15579, 15580, 15583, 15587, 15588, 15590, 15598, 15599, 15600, 15601, 15604, 15606, 15607, 15608, 15609, 15615, 15616, 15622, 15623, 15630, 15633, 15640, 15646, 15648, 15653, 15655, 15657, 15674, 15680, 15681, 15682, 15686, 15689, 15690, 15698, 15705, 15708, 15710, 15717, 15723, 15724, 15727, 15728, 15731, 15734, 15735, 15741, 15757, 15762, 15770, 15772, 15775, 15790, 15791, 15792, 15799, 15804, 15809, 15826, 15827, 15832, 15833, 15835, 15840, 15841, 15844, 15846, 15853, 15855, 15856, 15857, 15861, 15862, 15868, 15872, 15873, 15875, 15880, 15893, 15894, 15896, 15898, 15899, 15902, 15903, 15904, 15907, 15909, 15910, 15920, 15923, 15927, 15930, 15937, 15938, 15947, 15951, 15954, 15955, 15957, 15962, 15967, 15968, 15972, 15975, 15979, 15981, 15988, 15992, 15993, 15996, 15997, 15998, 15999, 16005, 16011, 16013, 16015, 16018, 16024, 16026, 16032, 16034, 16047, 16048, 16049, 16057, 16059, 16065, 16066, 16074, 16075, 16076, 16077, 16078, 16081, 16090, 16094, 16095, 16100, 16101, 16114, 16120, 16122, 16124, 16125, 16129, 16130, 16132, 16134, 16136, 16146, 16161, 16169, 16170, 16171, 16177, 16178, 16180, 16186, 16190, 16191, 16197, 16200, 16206, 16207, 16208, 16215, 16216, 16220, 16224, 16226, 16232, 16233, 16234, 16235, 16239, 16240, 16244, 16253, 16254, 16256, 16257, 16258, 16259, 16276, 16278, 16282, 16283, 16285, 16292, 16295, 16296, 16297, 16302, 16304, 16305, 16306, 16312, 16316, 16320, 16321, 16322, 16325, 16328, 16332, 16334, 16339, 16342, 16347, 16352, 16354, 16357, 16358, 16360, 16363, 16368, 16376, 16380, 16382, 16389, 16390, 16393, 16397, 16399, 16400, 16401, 16403, 16404, 16406, 16407, 16408, 16412, 16414, 16415, 16416, 16421, 16422, 16431, 16432, 16457, 16459, 16462, 16467, 16479, 16483, 16489, 16490, 16497, 16502, 16507, 16509, 16519, 16527, 16529, 16533, 16537, 16538, 16541, 16542, 16543, 16546, 16550, 16555, 16557, 16561, 16564, 16565, 16575, 16587, 16589, 16600, 16609, 16610, 16611, 16616, 16620, 16625, 16626, 16629, 16630, 16633, 16636, 16644, 16646, 16649, 16652, 16653, 16654, 16655, 16656, 16660, 16664, 16666, 16667, 16671, 16675, 16676, 16681, 16682, 16686, 16689, 16690, 16696, 16698, 16699, 16700, 16707, 16715, 16721, 16722, 16733, 16736, 16744, 16745, 16747, 16753, 16762, 16768, 16769, 16775, 16776, 16777, 16779, 16780, 16790, 16795, 16796, 16803, 16805, 16810, 16813, 16817, 16820, 16821, 16824, 16825, 16828, 16833, 16835, 16839, 16841, 16844, 16845, 16847, 16850, 16852, 16857, 16859, 16864, 16868, 16870, 16878, 16880, 16889, 16894, 16896, 16899, 16904, 16906, 16908, 16909, 16917, 16920, 16921, 16925, 16928, 16930, 16935, 16938, 16940, 16941, 16945, 16946, 16953, 16954, 16956, 16957, 16963, 16965, 16970, 16971, 16972, 16974, 16986, 16989, 16995, 17002, 17008, 17009, 17027, 17028, 17030, 17034, 17040, 17048, 17049, 17059, 17062, 17069, 17073, 17079, 17083, 17086, 17087, 17093, 17096, 17105, 17114, 17115, 17116, 17120, 17124, 17132, 17141, 17142, 17144, 17145, 17146, 17149, 17150, 17152, 17158, 17159, 17169, 17177, 17186, 17189, 17190, 17193, 17195, 17196, 17197, 17203, 17206, 17218, 17225, 17226, 17227, 17228, 17231, 17232, 17234, 17238, 17242, 17245, 17248, 17249, 17250, 17252, 17259, 17261, 17262, 17264, 17266, 17268, 17271, 17272, 17273, 17279, 17280, 17284, 17285, 17286, 17287, 17290, 17291, 17292, 17293, 17294, 17295, 17302, 17305, 17307, 17312, 17316, 17333, 17338, 17343, 17344, 17349, 17351, 17360, 17361, 17366, 17367, 17370, 17371, 17373, 17374, 17376, 17378, 17382, 17384, 17385, 17387, 17397, 17400, 17401, 17402, 17404, 17405, 17408, 17409, 17419, 17421, 17423, 17431, 17435, 17437, 17438, 17442, 17445, 17450, 17458, 17459, 17462, 17463, 17466, 17473, 17477, 17479, 17481, 17488, 17491, 17493, 17494, 17509, 17516, 17520, 17521, 17524, 17526, 17527, 17543, 17546, 17549, 17552, 17559, 17562, 17563, 17566, 17572, 17576, 17578, 17590, 17591, 17592, 17595, 17597, 17599, 17602, 17608, 17623, 17627, 17628, 17631, 17633, 17634, 17639, 17640, 17641, 17647, 17653, 17659, 17660, 17665, 17666, 17669, 17678, 17681, 17687, 17694, 17695, 17698, 17704, 17714, 17716, 17720, 17724, 17735, 17741, 17743, 17745, 17747, 17751, 17752, 17762, 17763, 17766, 17769, 17774, 17781, 17784, 17785, 17786, 17787, 17789, 17791, 17797, 17798, 17803, 17807, 17816, 17818, 17820, 17821, 17822, 17830, 17832, 17838, 17839, 17841, 17842, 17846, 17847, 17849, 17850, 17852, 17853, 17855, 17857, 17858, 17862, 17866, 17869, 17875, 17876, 17888, 17892, 17893, 17914, 17915, 17917, 17922, 17924, 17927, 17930, 17931, 17933, 17934, 17935, 17942, 17943, 17952, 17957, 17961, 17962, 17965, 17971, 17972, 17975, 17976, 17977, 17979, 17982, 17984, 17988, 17994, 18003, 18007, 18014, 18016, 18017, 18018, 18022, 18024, 18030, 18036, 18048, 18052, 18054, 18058, 18060, 18063, 18065, 18070, 18071, 18077, 18078, 18081, 18083, 18084, 18086, 18092, 18094, 18096, 18104, 18105, 18111, 18124, 18128, 18129, 18132, 18135, 18136, 18137, 18141, 18142, 18148, 18151, 18156, 18158, 18164, 18168, 18171, 18173, 18174, 18180, 18182, 18184, 18185, 18193, 18194, 18195, 18202, 18204, 18205, 18208, 18210, 18212, 18215, 18216, 18217, 18220, 18221, 18223, 18226, 18229, 18230, 18233, 18236, 18237, 18241, 18244, 18245, 18246, 18248, 18252, 18253, 18255, 18257, 18259, 18263, 18264, 18265, 18269, 18273, 18277, 18283, 18286, 18288, 18292, 18293, 18295, 18296, 18298, 18299, 18310, 18317, 18319, 18330, 18331, 18335, 18337, 18344, 18349, 18352, 18354, 18356, 18357, 18365, 18366, 18369, 18371, 18375, 18377, 18378, 18379, 18381, 18382, 18383, 18393, 18396, 18398, 18419, 18422, 18428, 18432, 18434, 18437, 18443, 18444, 18445, 18452, 18456, 18457, 18466, 18468, 18472, 18476, 18481, 18484, 18488, 18492, 18493, 18501, 18512, 18514, 18519, 18521, 18524, 18526, 18527, 18531, 18532, 18534, 18541, 18543, 18551, 18553, 18556, 18569, 18573, 18578, 18579, 18580, 18588, 18589, 18590, 18591, 18594, 18595, 18603, 18608, 18611, 18617, 18620, 18622, 18624, 18626, 18630, 18631, 18633, 18636, 18637, 18638, 18642, 18643, 18645, 18647, 18651, 18654, 18655, 18656, 18657, 18663, 18665, 18671, 18677, 18678, 18680, 18682, 18691, 18696, 18697, 18703, 18704, 18706, 18710, 18712, 18717, 18719, 18722, 18729, 18730, 18732, 18733, 18734, 18737, 18738, 18740, 18741, 18742, 18744, 18746, 18752, 18753, 18757, 18759, 18762, 18765, 18771, 18775, 18777, 18783, 18784, 18789, 18791, 18794, 18798, 18801, 18809, 18814, 18817, 18819, 18824, 18825, 18826, 18829, 18830, 18835, 18837, 18839, 18841, 18844, 18847, 18855, 18856, 18868, 18869, 18881, 18884, 18886, 18887, 18889, 18894, 18901, 18904, 18907, 18909, 18910, 18914, 18918, 18924, 18925, 18927, 18933, 18937, 18940, 18941, 18942, 18945, 18947, 18951, 18954, 18960, 18963, 18965, 18966, 18967, 18969, 18971, 18975, 18977, 18980, 18989, 18995, 18999, 19001, 19003, 19008, 19015, 19018, 19019, 19021, 19025, 19026, 19029, 19033, 19041, 19044, 19047, 19051, 19052, 19053, 19057, 19060, 19075, 19085, 19092, 19098, 19099, 19103, 19108, 19115, 19123, 19124, 19132, 19133, 19140, 19147, 19149, 19153, 19162, 19167, 19177, 19181, 19182, 19183, 19185, 19187, 19188, 19189, 19191, 19194, 19198, 19203, 19211, 19221, 19226, 19227, 19230, 19234, 19235, 19240, 19242, 19243, 19248, 19250, 19251, 19253, 19256, 19261, 19266, 19267, 19268, 19277, 19284, 19289, 19295, 19297, 19300, 19303, 19304, 19305, 19308, 19310, 19311, 19312, 19320, 19322, 19332, 19340, 19341, 19343, 19347, 19350, 19353, 19356, 19365, 19371, 19380, 19381, 19387, 19392, 19395, 19401, 19403, 19404, 19409, 19413, 19415, 19416, 19417, 19421, 19426, 19429, 19432, 19440, 19442, 19457, 19467, 19472, 19475, 19477, 19478, 19481, 19491, 19495, 19498, 19500, 19506, 19507, 19508, 19509, 19510, 19512, 19516, 19528, 19530, 19531, 19532, 19535, 19537, 19538, 19539, 19540, 19543, 19544, 19545, 19547, 19549, 19555, 19556, 19558, 19559, 19569, 19571, 19573, 19574, 19575, 19579, 19591, 19596, 19603, 19612, 19614, 19616, 19619, 19631, 19635, 19640, 19643, 19644, 19647, 19648, 19654, 19655, 19660, 19662, 19666, 19667, 19669, 19671, 19676, 19686, 19687, 19689, 19691, 19694, 19695, 19696, 19697, 19701, 19707, 19711, 19716, 19717, 19718, 19725, 19730, 19739, 19742, 19744, 19750, 19751, 19752, 19753, 19768, 19775, 19781, 19782, 19783, 19784, 19792, 19794, 19801, 19802, 19803, 19814, 19816, 19822, 19823, 19824, 19826, 19830, 19831, 19833, 19834, 19836, 19839, 19848, 19850, 19851, 19854, 19855, 19857, 19861, 19862, 19865, 19889, 19890, 19894, 19897, 19911, 19923, 19931, 19933, 19934, 19939, 19943, 19944, 19953, 19957, 19961, 19962, 19964, 19966, 19973, 19977, 19978, 19979, 19981, 19985, 19995, 19996, 19998, 20001, 20013, 20017, 20023, 20025, 20026, 20027, 20032, 20039, 20041, 20046, 20051, 20052, 20054, 20055, 20057, 20065, 20067, 20070, 20072, 20074, 20084, 20085, 20086, 20091, 20094, 20096, 20099, 20106, 20109, 20110, 20118, 20122, 20127, 20135, 20136, 20140, 20145, 20156, 20157, 20162, 20165, 20166, 20169, 20172, 20173, 20178, 20180, 20181, 20182, 20190, 20194, 20208, 20217, 20219, 20228, 20231, 20234, 20235, 20237, 20238, 20239, 20241, 20242, 20243, 20244, 20252, 20253, 20256, 20257, 20258, 20259, 20260, 20262, 20263, 20266, 20268, 20273, 20275, 20278, 20280, 20287, 20288, 20297, 20303, 20307, 20316, 20318, 20321, 20331, 20335, 20338, 20339, 20343, 20347, 20352, 20353, 20354, 20356, 20360, 20375, 20381, 20382, 20384, 20386, 20389, 20394, 20398, 20412, 20413, 20416, 20417, 20420, 20421, 20434, 20443, 20447, 20448, 20461, 20472, 20473, 20474, 20482, 20485, 20486, 20496, 20503, 20506, 20508, 20510, 20517, 20520, 20521, 20525, 20532, 20535, 20537, 20539, 20540, 20543, 20549, 20551, 20553, 20556, 20560, 20562, 20564, 20566, 20568, 20569, 20573, 20577, 20580, 20586, 20591, 20593, 20598, 20599, 20603, 20605, 20611, 20614, 20617, 20624, 20636, 20637, 20638, 20646, 20655, 20656, 20657, 20658, 20662, 20667, 20668, 20670, 20675, 20678, 20684, 20689, 20691, 20694, 20699, 20702, 20705, 20708, 20709, 20711, 20712, 20714, 20719, 20723, 20725, 20726, 20729, 20731, 20737, 20740, 20742, 20744, 20747, 20753, 20755, 20756, 20757, 20758, 20762, 20766, 20771, 20772, 20776, 20778, 20783, 20786, 20788, 20794, 20795, 20796, 20799, 20800, 20805, 20806, 20816, 20824, 20825, 20826, 20837, 20841, 20843, 20849, 20851, 20856, 20857, 20860, 20863, 20869, 20871, 20873, 20879, 20880, 20888, 20891, 20896, 20897, 20898, 20907, 20911, 20913, 20915, 20920, 20923, 20938, 20939, 20947, 20953, 20954, 20956, 20964, 20966, 20967, 20975, 20981, 20991, 20994, 20995, 21007, 21012, 21015, 21016, 21017, 21028, 21033, 21038, 21045, 21052, 21053, 21056, 21065, 21076, 21083, 21085, 21097, 21103, 21106, 21114, 21129, 21131, 21132, 21136, 21138, 21140, 21141, 21143, 21144, 21157, 21164, 21165, 21167, 21170, 21171, 21175, 21190, 21193, 21194, 21195, 21199, 21201, 21202, 21205, 21206, 21208, 21210, 21212, 21217, 21221, 21223, 21225, 21226, 21230, 21233, 21236, 21239, 21242, 21248, 21252, 21277, 21280, 21283, 21288, 21292, 21297, 21312, 21313, 21323, 21325, 21326, 21328, 21332, 21338, 21341, 21346, 21352, 21354, 21361, 21371, 21374, 21376, 21377, 21382, 21385, 21387, 21391, 21393, 21395, 21396, 21398, 21399, 21401, 21405, 21410, 21412, 21421, 21433, 21435, 21439, 21441, 21448, 21449, 21453, 21457, 21459, 21460, 21466, 21467, 21472, 21475, 21477, 21479, 21482, 21484, 21489, 21490, 21496, 21503, 21504, 21508, 21512, 21518, 21528, 21530, 21539, 21540, 21541, 21545, 21549, 21557, 21558, 21559, 21561, 21563, 21565, 21566, 21570, 21574, 21576, 21578, 21583, 21590, 21597, 21598, 21599, 21603, 21610, 21616, 21621, 21623, 21628, 21631, 21633, 21636, 21640, 21643, 21646, 21647, 21650, 21656, 21657, 21658, 21662, 21663, 21668, 21670, 21674, 21684, 21692, 21694, 21696, 21699, 21703, 21705, 21706, 21708, 21709, 21711, 21712, 21714, 21715, 21716, 21720, 21726, 21732, 21744, 21748, 21752, 21759, 21764, 21771, 21777, 21778, 21780, 21782, 21784, 21786, 21789, 21796, 21798, 21802, 21804, 21807, 21809, 21810, 21830, 21831, 21833, 21845, 21848, 21851, 21856, 21857, 21859, 21860, 21862, 21863, 21864, 21869, 21876, 21879, 21883, 21892, 21896, 21897, 21898, 21904, 21907, 21925, 21927, 21929, 21930, 21931, 21937, 21939, 21940, 21944, 21946, 21949, 21951, 21954, 21955, 21965, 21966, 21972, 21975, 21976, 21981, 21982, 21984, 21986, 21988, 21989, 21991, 22003, 22006, 22008, 22010, 22015, 22018, 22019, 22022, 22027, 22031, 22036, 22039, 22048, 22052, 22060, 22063, 22064, 22071, 22075, 22081, 22084, 22091, 22093, 22095, 22100, 22103, 22106, 22110, 22114, 22115, 22116, 22117, 22119, 22120, 22125, 22137, 22138, 22139, 22141, 22144, 22155, 22160, 22163, 22164, 22165, 22166, 22167, 22170, 22171, 22175, 22176, 22179, 22182, 22188, 22189, 22191, 22193, 22195, 22197, 22200, 22209, 22211, 22224, 22227, 22239, 22246, 22250, 22255, 22259, 22262, 22265, 22267, 22268, 22270, 22271, 22273, 22274, 22278, 22279, 22282, 22283, 22284, 22292, 22296, 22299, 22303, 22304, 22307, 22308, 22312, 22324, 22325, 22326, 22327, 22331, 22333, 22345, 22348, 22349, 22351, 22352, 22354, 22356, 22358, 22366, 22368, 22370, 22372, 22375, 22377, 22379, 22380, 22384, 22388, 22393, 22394, 22395, 22402, 22405, 22407, 22410, 22411, 22414, 22416, 22417, 22421, 22437, 22441, 22453, 22456, 22459, 22487, 22489, 22494, 22506, 22507, 22508, 22509, 22513, 22517, 22523, 22528, 22535, 22538, 22539, 22543, 22546, 22549, 22557, 22562, 22567, 22574, 22576, 22577, 22581, 22582, 22585, 22586, 22595, 22598, 22600, 22618, 22626, 22629, 22631, 22632, 22633, 22634, 22636, 22638, 22647, 22652, 22653, 22655, 22657, 22660, 22667, 22668, 22669, 22682, 22683, 22685, 22686, 22690, 22693, 22694, 22700, 22702, 22716, 22718, 22719, 22720, 22725, 22736, 22739, 22740, 22743, 22745, 22754, 22756, 22763, 22766, 22767, 22776, 22778, 22784, 22789, 22794, 22796, 22801, 22811, 22817, 22818, 22822, 22826, 22840, 22844, 22846, 22847, 22856, 22859, 22864, 22867, 22869, 22874, 22879, 22880, 22881, 22889, 22899, 22900, 22902, 22903, 22905, 22907, 22910, 22913, 22917, 22918, 22919, 22925, 22927, 22932, 22934, 22935, 22936, 22940, 22941, 22948, 22950, 22952, 22953, 22954, 22957, 22960, 22968, 22970, 22973, 22981, 22983, 22984, 22993, 22994, 22998, 23000, 23006, 23008, 23015, 23017, 23021, 23029, 23032, 23038, 23040, 23044, 23045, 23046, 23048, 23053, 23058, 23063, 23064, 23065, 23067, 23074, 23075, 23076, 23079, 23080, 23081, 23090, 23095, 23096, 23098, 23101, 23105, 23112, 23113, 23115, 23119, 23121, 23122, 23126, 23129, 23131, 23132, 23135, 23136, 23147, 23152, 23154, 23163, 23167, 23168, 23169, 23177, 23182, 23183, 23185, 23188, 23190, 23192, 23195, 23197, 23199, 23200, 23205, 23206, 23210, 23214, 23215, 23216, 23217, 23219, 23221, 23224, 23227, 23235, 23247, 23248, 23257, 23264, 23265, 23267, 23270, 23277, 23282, 23285, 23289, 23291, 23293, 23298, 23300, 23302, 23304, 23310, 23314, 23320, 23323, 23327, 23328, 23330, 23332, 23334, 23335, 23337, 23341, 23345, 23347, 23362, 23368, 23372, 23375, 23377, 23379, 23381, 23385, 23386, 23387, 23389, 23393, 23396, 23400, 23402, 23404, 23406, 23407, 23408, 23409, 23411, 23412, 23414, 23415, 23417, 23422, 23431, 23435, 23436, 23438, 23440, 23442, 23444, 23445, 23447, 23448, 23463, 23464, 23468, 23469, 23472, 23473, 23478, 23480, 23481, 23484, 23485, 23489, 23490, 23515, 23531, 23533, 23535, 23539, 23540, 23553, 23554, 23555, 23561, 23563, 23564, 23566, 23569, 23571, 23572, 23573, 23577, 23583, 23587, 23593, 23597, 23601, 23604, 23605, 23608, 23613, 23614, 23615, 23617, 23618, 23641, 23642, 23646, 23649, 23658, 23665, 23668, 23670, 23672, 23674, 23675, 23684, 23688, 23690, 23707, 23708, 23709, 23711, 23713, 23714, 23715, 23720, 23733, 23734, 23738, 23739, 23740, 23749, 23756, 23766, 23768, 23769, 23772, 23781, 23784, 23785, 23786, 23798, 23801, 23802, 23803, 23804, 23807, 23808, 23810, 23812, 23814, 23815, 23827, 23829, 23830, 23836, 23837, 23839, 23844, 23849, 23852, 23854, 23856, 23872, 23876, 23881, 23884, 23885, 23889, 23893, 23895, 23902, 23908, 23917, 23919, 23923, 23926, 23934, 23937, 23945, 23949, 23953, 23957, 23961, 23963, 23966, 23967, 23971, 23975, 23976, 23982, 23991, 23994, 23997, 24000, 24001, 24002, 24008, 24011, 24015, 24016, 24022, 24023, 24033, 24035, 24036, 24041, 24042, 24043, 24047, 24049, 24051, 24052, 24058, 24060, 24061, 24063, 24065, 24071, 24075, 24076, 24079, 24082, 24084, 24086, 24093, 24095, 24097, 24105, 24110, 24115, 24118, 24122, 24123, 24124, 24127, 24132, 24135, 24138, 24141, 24142, 24143, 24148, 24151, 24152, 24154, 24156, 24164, 24167, 24168, 24169, 24178, 24183, 24185, 24187, 24190, 24193, 24207, 24208, 24211, 24215, 24222, 24224, 24225, 24228, 24230, 24231, 24237, 24240, 24241, 24244, 24245, 24255, 24258, 24259, 24270, 24271, 24273, 24274, 24288, 24293, 24300, 24303, 24305, 24309, 24312, 24324, 24325, 24326, 24329, 24330, 24339, 24344, 24347, 24348, 24349, 24350, 24353, 24354, 24359, 24360, 24363, 24371, 24372, 24373, 24378, 24381, 24382, 24399, 24401, 24402, 24408, 24410, 24411, 24413, 24416, 24428, 24431, 24432, 24436, 24437, 24441, 24444, 24445, 24448, 24455, 24461, 24466, 24468, 24472, 24476, 24477, 24480, 24483, 24487]\n",
            "6586\n",
            "[30, 131, 136, 145, 153, 177, 219, 220, 367, 390, 401, 403, 473, 542, 615, 621, 626, 633, 719, 724, 750, 773, 784, 823, 858, 887, 910, 951, 955, 986, 1019, 1074, 1081, 1149, 1154, 1161, 1177, 1181, 1210, 1232, 1235, 1279, 1286, 1291, 1313, 1340, 1380, 1514, 1629, 1664, 1725, 1782, 1787, 1792, 1800, 1819, 1841, 1851, 1855, 1877, 1910, 1927, 1940, 1952, 1971, 2011, 2031, 2042, 2051, 2053, 2089, 2181, 2205, 2213, 2216, 2257, 2277, 2325, 2354, 2381, 2394, 2433, 2434, 2484, 2485, 2570, 2578, 2624, 2645, 2666, 2691, 2707, 2798, 2812, 2836, 2837, 2838, 2872, 2923, 2924, 2926, 2936, 2942, 2947, 2971, 2974, 3013, 3097, 3116, 3130, 3155, 3220, 3234, 3270, 3271, 3277, 3313, 3329, 3351, 3428, 3478, 3495, 3499, 3557, 3560, 3576, 3609, 3610, 3616, 3637, 3653, 3680, 3707, 3745, 3759, 3761, 3762, 3797, 3802, 3808, 3832, 3879, 3882, 3901, 3919, 3972, 3990, 4010, 4026, 4032, 4041, 4055, 4082, 4084, 4097, 4106, 4136, 4163, 4190, 4208, 4251, 4264, 4287, 4292, 4298, 4340, 4349, 4362, 4363, 4394, 4413, 4475, 4487, 4526, 4545, 4611, 4618, 4636, 4640, 4642, 4674, 4724, 4780, 4784, 4806, 4837, 4841, 4863, 4886, 4893, 5085, 5121, 5126, 5127, 5158, 5176, 5189, 5210, 5244, 5256, 5258, 5292, 5297, 5322, 5353, 5373, 5420, 5436, 5445, 5467, 5487, 5499, 5536, 5578, 5590, 5620, 5632, 5652, 5697, 5743, 5798, 5824, 5852, 5856, 5860, 5862, 5871, 5875, 5897, 5928, 5936, 5946, 5985, 5987, 6000, 6012, 6016, 6042, 6043, 6106, 6133, 6168, 6174, 6226, 6242, 6263, 6270, 6280, 6286, 6322, 6332, 6354, 6423, 6499, 6515, 6546, 6600, 6618, 6674, 6681, 6707, 6712, 6736, 6756, 6758, 6800, 6821, 6839, 6841, 6905, 7005, 7010, 7048, 7092, 7111, 7132, 7150, 7170, 7175, 7206, 7235, 7247, 7254, 7279, 7291, 7357, 7361, 7372, 7411, 7415, 7454, 7481, 7528, 7530, 7539, 7544, 7554, 7571, 7590, 7631, 7652, 7686, 7715, 7726, 7780, 7808, 7822, 7824, 7866, 7879, 7900, 7942, 7998, 8010, 8015, 8027, 8050, 8052, 8093, 8105, 8108, 8115, 8173, 8180, 8193, 8262, 8307, 8323, 8338, 8350, 8354, 8357, 8368, 8383, 8407, 8410, 8423, 8458, 8470, 8485, 8532, 8577, 8626, 8690, 8748, 8749, 8805, 8858, 8899, 8930, 8932, 9008, 9055, 9067, 9071, 9115, 9151, 9252, 9257, 9260, 9275, 9310, 9331, 9332, 9342, 9344, 9432, 9444, 9455, 9461, 9464, 9477, 9499, 9532, 9544, 9652, 9663, 9748, 9783, 9788, 9812, 9843, 9873, 9893, 9912, 9943, 9956, 9969, 10028, 10056, 10071, 10077, 10114, 10143, 10144, 10155, 10178, 10182, 10201, 10214, 10267, 10290, 10342, 10365, 10374, 10392, 10429, 10444, 10466, 10488, 10499, 10531, 10542, 10565, 10575, 10628, 10657, 10715, 10721, 10814, 10827, 10857, 10872, 10877, 10936, 10943, 10946, 10953, 10979, 11065, 11071, 11155, 11200, 11222, 11286, 11290, 11309, 11341, 11352, 11355, 11372, 11407, 11411, 11416, 11430, 11499, 11543, 11573, 11653, 11698, 11700, 11706, 11750, 11766, 11787, 11795, 11827, 11834, 11836, 11851, 11864, 11872, 11897, 11921, 11987, 11989, 11996, 12026, 12040, 12051, 12056, 12133, 12152, 12163, 12198, 12201, 12208, 12212, 12238, 12249, 12266, 12304, 12313, 12324, 12418, 12422, 12514, 12536, 12540, 12546, 12547, 12552, 12555, 12609, 12717, 12718, 12741, 12749, 12783, 12831, 12837, 12852, 12859, 12892, 12893, 12898, 12907, 12920, 12926, 12933, 12965, 12998, 13038, 13048, 13060, 13084, 13123, 13131, 13152, 13166, 13176, 13197, 13202, 13241, 13248, 13271, 13319, 13335, 13367, 13370, 13408, 13428, 13459, 13504, 13544, 13548, 13614, 13628, 13651, 13654, 13663, 13760, 13786, 13814, 13816, 13831, 13832, 13887, 13925, 13938, 13954, 13988, 14015, 14028, 14044, 14078, 14112, 14119, 14120, 14132, 14220, 14313, 14361, 14383, 14385, 14391, 14444, 14475, 14490, 14491, 14508, 14538, 14616, 14627, 14628, 14641, 14655, 14670, 14696, 14765, 14779, 14803, 14814, 14853, 14854, 14866, 14872, 14922, 14940, 14941, 14953, 14972, 14973, 14977, 15003, 15022, 15047, 15049, 15051, 15075, 15076, 15110, 15120, 15123, 15128, 15130, 15201, 15220, 15233, 15264, 15266, 15267, 15400, 15413, 15416, 15433, 15478, 15482, 15487, 15489, 15490, 15514, 15527, 15528, 15558, 15565, 15571, 15595, 15618, 15661, 15720, 15765, 15768, 15776, 15781, 15815, 15834, 15906, 15983, 16022, 16025, 16045, 16080, 16103, 16107, 16110, 16111, 16123, 16128, 16174, 16227, 16246, 16255, 16266, 16287, 16353, 16370, 16410, 16425, 16427, 16438, 16478, 16530, 16549, 16568, 16581, 16590, 16641, 16648, 16668, 16730, 16732, 16755, 16758, 16797, 16799, 16809, 16815, 16827, 16893, 16910, 16936, 16949, 16987, 16999, 17020, 17024, 17088, 17113, 17118, 17130, 17148, 17157, 17163, 17255, 17263, 17276, 17315, 17324, 17347, 17352, 17353, 17359, 17377, 17436, 17505, 17551, 17586, 17600, 17651, 17656, 17670, 17683, 17706, 17710, 17731, 17736, 17739, 17819, 17845, 17878, 17912, 17921, 17963, 17970, 18035, 18085, 18119, 18121, 18139, 18145, 18165, 18272, 18279, 18284, 18304, 18312, 18323, 18346, 18350, 18390, 18423, 18449, 18471, 18485, 18495, 18502, 18525, 18582, 18598, 18625, 18687, 18749, 18776, 18800, 18831, 18853, 18896, 18919, 18936, 18950, 18955, 18998, 19002, 19079, 19107, 19110, 19143, 19155, 19205, 19217, 19220, 19265, 19270, 19275, 19282, 19291, 19313, 19315, 19318, 19324, 19334, 19345, 19354, 19430, 19445, 19447, 19488, 19502, 19513, 19524, 19536, 19548, 19554, 19581, 19606, 19615, 19650, 19651, 19719, 19773, 19807, 19827, 19935, 19976, 19986, 19990, 20002, 20022, 20024, 20030, 20043, 20087, 20092, 20154, 20174, 20179, 20193, 20223, 20230, 20249, 20306, 20334, 20342, 20348, 20350, 20376, 20411, 20467, 20487, 20509, 20575, 20629, 20666, 20710, 20777, 20817, 20829, 20865, 20866, 20884, 20899, 20919, 20940, 20963, 20984, 21013, 21014, 21039, 21075, 21081, 21087, 21089, 21130, 21147, 21177, 21227, 21228, 21244, 21260, 21264, 21287, 21301, 21333, 21362, 21402, 21414, 21430, 21438, 21513, 21648, 21649, 21661, 21672, 21689, 21700, 21736, 21808, 21819, 21847, 21908, 21915, 21958, 21983, 21985, 22025, 22028, 22044, 22083, 22124, 22133, 22172, 22196, 22208, 22229, 22242, 22371, 22386, 22403, 22435, 22449, 22450, 22455, 22475, 22478, 22502, 22504, 22545, 22569, 22604, 22630, 22635, 22642, 22662, 22671, 22692, 22709, 22730, 22744, 22748, 22769, 22799, 22806, 22821, 22854, 22865, 22877, 22882, 22885, 22892, 22901, 22961, 22988, 22991, 23022, 23042, 23066, 23069, 23120, 23249, 23258, 23271, 23283, 23316, 23321, 23350, 23355, 23364, 23391, 23398, 23416, 23426, 23430, 23492, 23528, 23543, 23557, 23584, 23600, 23611, 23620, 23667, 23671, 23676, 23702, 23727, 23748, 23782, 23797, 23823, 23834, 23841, 23865, 23896, 23904, 23921, 23922, 23935, 23942, 23951, 23999, 24054, 24073, 24109, 24174, 24214, 24219, 24227, 24279, 24284, 24289, 24302, 24327, 24340, 24342, 24362, 24365, 24380, 24393, 24423, 24475]\n",
            "1001\n",
            "[0, 2, 3, 4, 8, 9, 11, 13, 14, 15, 17, 19, 20, 21, 22, 24, 25, 26, 28, 29, 31, 32, 33, 34, 36, 37, 38, 40, 43, 44, 45, 49, 51, 52, 56, 57, 58, 59, 60, 63, 64, 66, 67, 70, 71, 72, 73, 75, 77, 78, 80, 81, 82, 83, 84, 85, 87, 89, 91, 92, 94, 97, 98, 99, 101, 103, 104, 106, 107, 108, 110, 111, 112, 113, 115, 118, 119, 120, 121, 124, 126, 128, 129, 130, 133, 140, 142, 143, 144, 146, 148, 150, 151, 154, 155, 158, 159, 160, 161, 163, 164, 165, 166, 167, 170, 171, 175, 176, 178, 179, 181, 182, 183, 184, 185, 186, 187, 189, 193, 198, 204, 205, 207, 211, 213, 214, 215, 217, 218, 221, 224, 225, 226, 229, 230, 231, 232, 234, 235, 236, 237, 239, 243, 244, 245, 248, 249, 250, 251, 252, 253, 254, 257, 258, 260, 262, 263, 265, 266, 267, 269, 271, 272, 274, 276, 277, 279, 280, 281, 282, 284, 286, 287, 288, 290, 291, 292, 293, 294, 295, 296, 298, 299, 301, 303, 306, 307, 308, 309, 310, 312, 313, 315, 316, 317, 321, 322, 325, 327, 329, 331, 333, 334, 335, 337, 338, 341, 342, 343, 344, 346, 347, 349, 351, 352, 353, 354, 356, 357, 358, 360, 362, 363, 364, 365, 366, 368, 369, 370, 371, 372, 373, 374, 376, 377, 378, 379, 380, 382, 383, 384, 385, 386, 387, 388, 389, 391, 394, 395, 397, 398, 399, 400, 402, 405, 406, 407, 409, 410, 411, 412, 413, 414, 416, 417, 418, 422, 423, 424, 425, 426, 428, 430, 431, 432, 434, 436, 437, 438, 441, 442, 443, 444, 446, 447, 448, 449, 450, 453, 456, 459, 460, 462, 464, 465, 466, 468, 471, 472, 474, 478, 480, 481, 482, 483, 485, 487, 488, 489, 492, 493, 495, 498, 500, 501, 502, 503, 505, 507, 508, 509, 510, 511, 512, 513, 514, 516, 517, 519, 520, 521, 522, 524, 526, 527, 528, 529, 532, 533, 536, 537, 538, 543, 545, 546, 547, 548, 549, 550, 551, 552, 553, 554, 557, 558, 559, 560, 563, 565, 568, 571, 572, 573, 574, 575, 576, 578, 580, 581, 583, 584, 587, 588, 589, 590, 593, 594, 595, 596, 598, 601, 603, 605, 607, 609, 610, 612, 613, 614, 616, 618, 619, 622, 623, 624, 627, 629, 630, 636, 638, 639, 640, 641, 642, 644, 647, 648, 649, 653, 655, 656, 657, 658, 662, 663, 664, 665, 666, 667, 668, 670, 671, 672, 675, 676, 677, 679, 681, 682, 685, 686, 687, 688, 693, 694, 695, 697, 698, 700, 701, 702, 704, 705, 706, 707, 710, 711, 713, 714, 715, 716, 717, 718, 721, 725, 726, 728, 729, 730, 732, 735, 736, 738, 739, 740, 741, 742, 743, 744, 745, 746, 747, 748, 749, 751, 752, 753, 755, 757, 758, 759, 760, 761, 765, 767, 768, 769, 771, 775, 776, 777, 780, 781, 782, 785, 786, 788, 789, 791, 794, 795, 796, 798, 800, 801, 802, 803, 804, 805, 807, 809, 811, 812, 814, 815, 817, 818, 819, 820, 821, 822, 824, 825, 827, 828, 829, 831, 832, 834, 836, 840, 841, 842, 843, 845, 847, 848, 852, 853, 855, 856, 860, 861, 862, 863, 864, 866, 868, 869, 871, 872, 878, 882, 883, 884, 889, 890, 892, 895, 896, 898, 899, 900, 901, 902, 903, 904, 908, 911, 912, 913, 916, 920, 921, 925, 926, 927, 930, 931, 932, 933, 935, 936, 937, 938, 940, 941, 942, 943, 944, 946, 947, 948, 952, 953, 954, 956, 957, 958, 959, 962, 963, 964, 966, 967, 969, 974, 975, 976, 978, 979, 981, 983, 984, 987, 991, 992, 993, 994, 995, 996, 999, 1000, 1001, 1002, 1005, 1006, 1007, 1008, 1009, 1010, 1011, 1012, 1013, 1014, 1020, 1022, 1024, 1025, 1026, 1028, 1030, 1031, 1032, 1033, 1037, 1038, 1040, 1041, 1043, 1045, 1046, 1047, 1048, 1049, 1052, 1053, 1054, 1055, 1056, 1061, 1062, 1063, 1064, 1065, 1066, 1069, 1071, 1075, 1077, 1078, 1079, 1080, 1082, 1085, 1088, 1089, 1090, 1091, 1092, 1093, 1096, 1100, 1106, 1108, 1109, 1112, 1115, 1117, 1118, 1119, 1120, 1122, 1124, 1125, 1130, 1133, 1134, 1136, 1138, 1139, 1140, 1141, 1144, 1146, 1150, 1152, 1156, 1159, 1160, 1162, 1164, 1165, 1167, 1171, 1173, 1174, 1176, 1178, 1182, 1185, 1186, 1187, 1188, 1193, 1194, 1196, 1197, 1199, 1201, 1202, 1203, 1204, 1206, 1208, 1209, 1212, 1213, 1214, 1215, 1216, 1218, 1221, 1222, 1223, 1224, 1229, 1230, 1233, 1234, 1236, 1237, 1241, 1243, 1245, 1246, 1247, 1252, 1253, 1255, 1256, 1257, 1258, 1260, 1261, 1263, 1265, 1266, 1270, 1271, 1276, 1277, 1278, 1280, 1281, 1284, 1287, 1288, 1289, 1292, 1293, 1294, 1295, 1296, 1299, 1300, 1302, 1303, 1304, 1305, 1308, 1310, 1312, 1314, 1315, 1316, 1318, 1319, 1320, 1321, 1322, 1327, 1328, 1329, 1332, 1333, 1334, 1336, 1337, 1338, 1339, 1342, 1343, 1344, 1345, 1346, 1349, 1350, 1351, 1352, 1354, 1355, 1359, 1360, 1361, 1363, 1364, 1367, 1369, 1370, 1371, 1373, 1376, 1377, 1378, 1381, 1382, 1383, 1389, 1390, 1392, 1393, 1394, 1395, 1396, 1397, 1398, 1399, 1400, 1401, 1402, 1403, 1404, 1405, 1406, 1409, 1411, 1415, 1418, 1419, 1421, 1422, 1423, 1424, 1425, 1427, 1428, 1429, 1430, 1432, 1434, 1435, 1441, 1442, 1443, 1444, 1446, 1447, 1448, 1449, 1451, 1454, 1455, 1456, 1458, 1459, 1460, 1462, 1463, 1467, 1468, 1469, 1470, 1471, 1472, 1473, 1475, 1478, 1479, 1481, 1483, 1485, 1487, 1488, 1490, 1491, 1492, 1493, 1494, 1496, 1499, 1500, 1501, 1502, 1504, 1505, 1507, 1508, 1509, 1511, 1513, 1518, 1521, 1522, 1523, 1525, 1526, 1527, 1529, 1530, 1533, 1539, 1540, 1542, 1543, 1544, 1546, 1548, 1549, 1550, 1552, 1554, 1555, 1557, 1560, 1562, 1563, 1564, 1566, 1567, 1568, 1569, 1570, 1571, 1572, 1575, 1576, 1577, 1578, 1579, 1580, 1581, 1582, 1583, 1584, 1587, 1588, 1589, 1590, 1591, 1592, 1596, 1598, 1599, 1600, 1601, 1602, 1603, 1605, 1606, 1607, 1608, 1609, 1611, 1612, 1614, 1617, 1618, 1620, 1621, 1622, 1624, 1625, 1627, 1628, 1631, 1632, 1635, 1637, 1638, 1639, 1640, 1643, 1644, 1646, 1647, 1649, 1650, 1652, 1654, 1655, 1656, 1659, 1661, 1662, 1663, 1665, 1666, 1667, 1669, 1670, 1671, 1672, 1674, 1677, 1678, 1679, 1680, 1682, 1683, 1684, 1686, 1687, 1688, 1689, 1691, 1693, 1694, 1695, 1696, 1697, 1698, 1699, 1700, 1701, 1702, 1703, 1704, 1705, 1707, 1708, 1709, 1710, 1711, 1712, 1715, 1716, 1717, 1719, 1721, 1724, 1726, 1727, 1729, 1731, 1734, 1737, 1739, 1740, 1742, 1743, 1744, 1745, 1747, 1748, 1751, 1752, 1754, 1755, 1757, 1758, 1759, 1760, 1761, 1763, 1764, 1765, 1767, 1768, 1770, 1772, 1773, 1777, 1778, 1779, 1780, 1781, 1783, 1785, 1786, 1788, 1789, 1791, 1795, 1798, 1799, 1805, 1806, 1807, 1810, 1811, 1812, 1813, 1816, 1817, 1818, 1820, 1822, 1823, 1824, 1827, 1828, 1831, 1832, 1833, 1834, 1839, 1843, 1844, 1846, 1847, 1853, 1858, 1860, 1861, 1862, 1863, 1864, 1865, 1866, 1868, 1869, 1871, 1873, 1874, 1875, 1878, 1879, 1880, 1881, 1882, 1883, 1885, 1890, 1891, 1892, 1893, 1894, 1896, 1899, 1900, 1901, 1903, 1904, 1905, 1907, 1908, 1909, 1912, 1913, 1914, 1915, 1920, 1921, 1923, 1925, 1926, 1928, 1929, 1931, 1934, 1935, 1936, 1937, 1938, 1939, 1941, 1942, 1945, 1946, 1948, 1949, 1953, 1956, 1958, 1960, 1963, 1965, 1966, 1968, 1969, 1970, 1973, 1974, 1976, 1977, 1978, 1979, 1980, 1981, 1985, 1987, 1988, 1989, 1990, 1991, 1994, 1996, 1999, 2000, 2001, 2002, 2003, 2004, 2005, 2006, 2007, 2008, 2012, 2013, 2014, 2015, 2016, 2020, 2021, 2022, 2027, 2028, 2030, 2034, 2035, 2036, 2039, 2040, 2041, 2045, 2046, 2047, 2048, 2050, 2055, 2057, 2058, 2062, 2064, 2069, 2070, 2072, 2073, 2074, 2075, 2076, 2077, 2079, 2080, 2081, 2082, 2083, 2084, 2085, 2087, 2088, 2092, 2096, 2100, 2101, 2102, 2103, 2104, 2107, 2108, 2109, 2110, 2112, 2114, 2116, 2121, 2122, 2124, 2125, 2126, 2128, 2130, 2131, 2133, 2135, 2137, 2140, 2141, 2142, 2143, 2144, 2145, 2146, 2147, 2149, 2150, 2151, 2156, 2157, 2158, 2159, 2161, 2164, 2165, 2167, 2168, 2169, 2172, 2173, 2174, 2176, 2179, 2180, 2182, 2183, 2184, 2187, 2188, 2189, 2190, 2191, 2192, 2195, 2196, 2197, 2198, 2199, 2200, 2201, 2202, 2204, 2207, 2209, 2210, 2211, 2212, 2214, 2215, 2219, 2220, 2223, 2227, 2229, 2230, 2231, 2233, 2234, 2235, 2236, 2238, 2239, 2241, 2242, 2243, 2245, 2248, 2249, 2251, 2252, 2253, 2255, 2260, 2261, 2262, 2263, 2266, 2267, 2268, 2269, 2270, 2271, 2272, 2275, 2276, 2278, 2280, 2281, 2283, 2285, 2286, 2287, 2290, 2291, 2292, 2293, 2298, 2299, 2300, 2301, 2302, 2303, 2304, 2305, 2307, 2309, 2310, 2311, 2312, 2313, 2314, 2317, 2318, 2320, 2321, 2322, 2323, 2324, 2326, 2327, 2328, 2329, 2330, 2334, 2337, 2338, 2339, 2342, 2343, 2344, 2345, 2346, 2348, 2351, 2352, 2353, 2357, 2359, 2360, 2361, 2362, 2363, 2364, 2365, 2367, 2369, 2371, 2372, 2374, 2377, 2382, 2383, 2385, 2388, 2389, 2390, 2391, 2392, 2393, 2395, 2396, 2397, 2398, 2399, 2401, 2402, 2406, 2410, 2411, 2414, 2415, 2416, 2419, 2421, 2422, 2424, 2425, 2426, 2427, 2431, 2432, 2438, 2439, 2440, 2441, 2442, 2443, 2444, 2445, 2446, 2447, 2450, 2452, 2453, 2454, 2455, 2456, 2463, 2464, 2465, 2466, 2467, 2468, 2469, 2471, 2474, 2475, 2476, 2478, 2479, 2480, 2483, 2486, 2490, 2491, 2495, 2496, 2497, 2498, 2500, 2502, 2503, 2504, 2505, 2509, 2511, 2514, 2515, 2517, 2519, 2520, 2521, 2522, 2523, 2524, 2526, 2527, 2532, 2533, 2534, 2537, 2538, 2540, 2543, 2544, 2547, 2548, 2549, 2550, 2554, 2555, 2557, 2558, 2559, 2560, 2561, 2562, 2563, 2564, 2565, 2567, 2568, 2569, 2571, 2573, 2577, 2579, 2580, 2581, 2583, 2585, 2587, 2588, 2589, 2590, 2591, 2592, 2593, 2595, 2598, 2600, 2602, 2604, 2605, 2607, 2608, 2610, 2613, 2616, 2617, 2618, 2619, 2621, 2623, 2625, 2627, 2630, 2631, 2632, 2633, 2636, 2640, 2641, 2642, 2643, 2644, 2647, 2649, 2650, 2651, 2654, 2656, 2661, 2662, 2663, 2664, 2665, 2667, 2670, 2672, 2674, 2676, 2677, 2679, 2682, 2683, 2688, 2689, 2690, 2692, 2693, 2694, 2695, 2700, 2702, 2703, 2704, 2705, 2708, 2711, 2712, 2714, 2720, 2721, 2726, 2727, 2729, 2731, 2732, 2737, 2738, 2740, 2741, 2743, 2744, 2747, 2748, 2751, 2753, 2754, 2756, 2757, 2759, 2762, 2763, 2765, 2766, 2767, 2768, 2770, 2771, 2773, 2776, 2778, 2779, 2781, 2784, 2789, 2793, 2795, 2796, 2797, 2799, 2800, 2801, 2802, 2803, 2804, 2805, 2806, 2807, 2808, 2809, 2810, 2811, 2813, 2814, 2815, 2817, 2818, 2819, 2820, 2821, 2822, 2823, 2824, 2826, 2828, 2829, 2830, 2831, 2834, 2840, 2842, 2843, 2845, 2846, 2849, 2850, 2851, 2852, 2855, 2856, 2857, 2858, 2861, 2866, 2867, 2869, 2870, 2871, 2874, 2876, 2877, 2879, 2880, 2881, 2883, 2884, 2885, 2887, 2888, 2889, 2890, 2891, 2892, 2898, 2901, 2902, 2905, 2908, 2911, 2912, 2914, 2915, 2916, 2919, 2921, 2927, 2928, 2929, 2930, 2931, 2932, 2933, 2934, 2940, 2945, 2946, 2949, 2950, 2951, 2952, 2953, 2955, 2957, 2959, 2960, 2961, 2962, 2963, 2965, 2966, 2967, 2968, 2970, 2972, 2976, 2977, 2981, 2982, 2983, 2984, 2986, 2987, 2988, 2990, 2991, 2992, 2993, 2995, 2997, 2998, 3000, 3001, 3002, 3003, 3006, 3008, 3011, 3012, 3016, 3017, 3018, 3020, 3022, 3024, 3025, 3027, 3033, 3035, 3036, 3037, 3039, 3040, 3041, 3042, 3043, 3044, 3045, 3046, 3050, 3052, 3053, 3054, 3055, 3056, 3058, 3060, 3062, 3063, 3065, 3066, 3067, 3074, 3075, 3076, 3077, 3078, 3079, 3080, 3082, 3083, 3086, 3089, 3090, 3091, 3092, 3093, 3094, 3095, 3099, 3100, 3101, 3102, 3103, 3105, 3107, 3109, 3110, 3111, 3112, 3113, 3114, 3115, 3117, 3118, 3119, 3120, 3122, 3123, 3125, 3126, 3128, 3129, 3133, 3136, 3139, 3141, 3142, 3144, 3146, 3147, 3148, 3149, 3152, 3153, 3157, 3159, 3160, 3161, 3162, 3163, 3164, 3166, 3167, 3168, 3169, 3170, 3171, 3173, 3174, 3175, 3176, 3177, 3181, 3182, 3184, 3185, 3186, 3187, 3189, 3191, 3193, 3198, 3200, 3201, 3203, 3204, 3205, 3207, 3209, 3210, 3211, 3212, 3213, 3216, 3219, 3222, 3224, 3225, 3226, 3227, 3229, 3231, 3232, 3233, 3240, 3241, 3242, 3245, 3246, 3248, 3251, 3252, 3254, 3255, 3256, 3257, 3259, 3260, 3261, 3262, 3264, 3265, 3266, 3267, 3268, 3272, 3273, 3274, 3275, 3278, 3279, 3281, 3283, 3285, 3286, 3287, 3289, 3291, 3295, 3297, 3298, 3299, 3301, 3302, 3303, 3305, 3310, 3312, 3314, 3315, 3317, 3318, 3324, 3326, 3328, 3330, 3332, 3333, 3334, 3335, 3337, 3338, 3339, 3342, 3343, 3345, 3346, 3349, 3352, 3354, 3355, 3356, 3358, 3359, 3360, 3361, 3362, 3363, 3364, 3366, 3367, 3368, 3371, 3373, 3374, 3375, 3376, 3378, 3379, 3380, 3383, 3384, 3386, 3387, 3388, 3390, 3391, 3393, 3394, 3395, 3396, 3397, 3398, 3399, 3400, 3401, 3402, 3405, 3406, 3407, 3408, 3410, 3411, 3412, 3414, 3417, 3418, 3419, 3422, 3424, 3427, 3429, 3431, 3433, 3434, 3435, 3437, 3440, 3442, 3444, 3446, 3448, 3449, 3453, 3454, 3456, 3458, 3459, 3460, 3463, 3468, 3471, 3473, 3474, 3477, 3480, 3483, 3484, 3485, 3486, 3491, 3492, 3493, 3494, 3496, 3500, 3501, 3503, 3504, 3505, 3506, 3507, 3510, 3513, 3515, 3517, 3518, 3519, 3520, 3521, 3523, 3524, 3525, 3526, 3529, 3531, 3532, 3534, 3536, 3537, 3538, 3539, 3540, 3544, 3545, 3549, 3550, 3553, 3555, 3556, 3558, 3561, 3562, 3563, 3564, 3567, 3568, 3570, 3573, 3574, 3577, 3578, 3579, 3580, 3582, 3584, 3586, 3587, 3588, 3589, 3591, 3592, 3593, 3595, 3597, 3599, 3601, 3602, 3603, 3604, 3605, 3606, 3607, 3608, 3612, 3613, 3614, 3615, 3618, 3619, 3620, 3621, 3623, 3624, 3625, 3626, 3627, 3628, 3629, 3630, 3631, 3633, 3635, 3636, 3639, 3640, 3641, 3642, 3644, 3645, 3647, 3652, 3655, 3656, 3657, 3658, 3659, 3660, 3663, 3665, 3666, 3668, 3672, 3674, 3675, 3676, 3677, 3678, 3679, 3681, 3682, 3684, 3685, 3687, 3688, 3689, 3693, 3695, 3696, 3697, 3698, 3699, 3703, 3704, 3708, 3709, 3711, 3714, 3715, 3716, 3717, 3722, 3723, 3724, 3726, 3733, 3734, 3735, 3736, 3737, 3738, 3739, 3740, 3741, 3742, 3746, 3747, 3748, 3750, 3751, 3753, 3754, 3756, 3757, 3758, 3760, 3763, 3767, 3768, 3769, 3770, 3771, 3772, 3773, 3774, 3775, 3776, 3777, 3778, 3779, 3780, 3781, 3783, 3784, 3785, 3787, 3788, 3789, 3790, 3794, 3803, 3804, 3806, 3807, 3809, 3812, 3813, 3815, 3816, 3817, 3818, 3819, 3820, 3821, 3822, 3824, 3825, 3826, 3827, 3828, 3829, 3830, 3831, 3833, 3835, 3836, 3837, 3838, 3841, 3842, 3844, 3845, 3846, 3847, 3848, 3849, 3850, 3851, 3852, 3853, 3854, 3855, 3857, 3861, 3863, 3864, 3865, 3866, 3867, 3868, 3869, 3870, 3871, 3874, 3875, 3876, 3877, 3878, 3880, 3881, 3883, 3887, 3888, 3889, 3891, 3893, 3895, 3897, 3900, 3902, 3903, 3905, 3906, 3907, 3908, 3909, 3910, 3912, 3913, 3914, 3916, 3917, 3920, 3921, 3924, 3927, 3929, 3930, 3931, 3933, 3936, 3938, 3939, 3941, 3942, 3943, 3944, 3945, 3946, 3950, 3951, 3952, 3956, 3957, 3960, 3961, 3963, 3964, 3965, 3967, 3968, 3969, 3970, 3975, 3976, 3977, 3978, 3980, 3981, 3983, 3984, 3987, 3988, 3989, 3991, 3992, 3993, 3995, 3996, 3997, 3999, 4000, 4002, 4004, 4005, 4006, 4008, 4011, 4013, 4015, 4017, 4019, 4020, 4023, 4025, 4029, 4033, 4034, 4035, 4037, 4044, 4050, 4051, 4052, 4053, 4054, 4056, 4058, 4059, 4060, 4061, 4062, 4063, 4064, 4065, 4067, 4068, 4069, 4073, 4074, 4075, 4076, 4077, 4078, 4081, 4083, 4086, 4088, 4090, 4091, 4092, 4093, 4094, 4096, 4099, 4101, 4103, 4108, 4111, 4112, 4117, 4118, 4119, 4122, 4123, 4124, 4129, 4131, 4132, 4133, 4135, 4141, 4144, 4145, 4147, 4148, 4149, 4150, 4151, 4153, 4154, 4155, 4157, 4158, 4159, 4160, 4161, 4162, 4167, 4168, 4169, 4170, 4172, 4176, 4177, 4179, 4181, 4183, 4184, 4185, 4188, 4189, 4191, 4192, 4193, 4194, 4197, 4198, 4200, 4202, 4203, 4205, 4206, 4207, 4209, 4210, 4211, 4214, 4216, 4217, 4218, 4219, 4220, 4224, 4228, 4229, 4231, 4232, 4233, 4234, 4235, 4236, 4237, 4238, 4239, 4240, 4241, 4242, 4243, 4244, 4246, 4248, 4249, 4250, 4252, 4254, 4255, 4257, 4259, 4260, 4261, 4262, 4270, 4271, 4274, 4276, 4278, 4279, 4281, 4283, 4284, 4285, 4288, 4289, 4290, 4291, 4299, 4300, 4301, 4305, 4306, 4307, 4308, 4309, 4313, 4314, 4317, 4319, 4320, 4321, 4322, 4323, 4324, 4329, 4330, 4332, 4333, 4335, 4336, 4338, 4339, 4341, 4343, 4344, 4345, 4346, 4350, 4351, 4354, 4356, 4357, 4359, 4360, 4361, 4367, 4368, 4369, 4370, 4371, 4373, 4374, 4377, 4380, 4383, 4384, 4386, 4388, 4390, 4391, 4392, 4393, 4396, 4398, 4399, 4400, 4401, 4404, 4405, 4407, 4408, 4409, 4411, 4412, 4414, 4417, 4418, 4419, 4421, 4422, 4423, 4426, 4428, 4429, 4430, 4432, 4433, 4434, 4437, 4440, 4442, 4443, 4444, 4448, 4449, 4452, 4455, 4457, 4458, 4459, 4460, 4464, 4465, 4467, 4469, 4470, 4471, 4472, 4473, 4474, 4476, 4477, 4478, 4479, 4481, 4482, 4483, 4485, 4486, 4488, 4489, 4490, 4491, 4492, 4494, 4498, 4499, 4500, 4501, 4502, 4506, 4508, 4509, 4510, 4511, 4514, 4516, 4518, 4520, 4521, 4522, 4523, 4525, 4527, 4528, 4530, 4532, 4534, 4537, 4540, 4541, 4542, 4544, 4547, 4550, 4551, 4555, 4557, 4559, 4560, 4562, 4563, 4564, 4565, 4566, 4568, 4570, 4571, 4572, 4573, 4574, 4575, 4576, 4577, 4578, 4579, 4580, 4582, 4585, 4586, 4587, 4588, 4589, 4592, 4594, 4596, 4597, 4600, 4602, 4604, 4605, 4606, 4608, 4610, 4612, 4613, 4615, 4616, 4617, 4619, 4620, 4621, 4622, 4625, 4626, 4627, 4628, 4629, 4631, 4633, 4634, 4635, 4637, 4638, 4639, 4641, 4643, 4645, 4646, 4647, 4648, 4650, 4651, 4653, 4654, 4656, 4657, 4658, 4660, 4661, 4662, 4664, 4667, 4669, 4670, 4672, 4673, 4675, 4676, 4677, 4679, 4681, 4682, 4683, 4684, 4685, 4686, 4687, 4689, 4691, 4693, 4694, 4695, 4697, 4705, 4706, 4707, 4708, 4709, 4716, 4719, 4720, 4721, 4725, 4730, 4733, 4734, 4735, 4736, 4737, 4738, 4741, 4742, 4744, 4745, 4746, 4747, 4748, 4749, 4751, 4753, 4755, 4757, 4758, 4760, 4762, 4764, 4769, 4770, 4771, 4772, 4773, 4774, 4776, 4777, 4779, 4782, 4783, 4786, 4787, 4788, 4789, 4790, 4791, 4792, 4794, 4795, 4796, 4797, 4798, 4801, 4802, 4803, 4804, 4805, 4807, 4808, 4810, 4812, 4813, 4814, 4815, 4817, 4818, 4819, 4820, 4821, 4822, 4823, 4824, 4827, 4831, 4833, 4834, 4835, 4836, 4838, 4842, 4843, 4844, 4846, 4847, 4848, 4849, 4850, 4851, 4852, 4853, 4854, 4855, 4857, 4858, 4859, 4860, 4861, 4864, 4866, 4870, 4872, 4873, 4874, 4875, 4876, 4877, 4878, 4879, 4881, 4882, 4883, 4885, 4887, 4888, 4890, 4891, 4892, 4895, 4896, 4897, 4898, 4899, 4901, 4903, 4906, 4907, 4909, 4910, 4914, 4915, 4916, 4917, 4918, 4924, 4926, 4929, 4930, 4931, 4932, 4933, 4934, 4936, 4938, 4940, 4941, 4942, 4943, 4945, 4946, 4948, 4949, 4950, 4951, 4952, 4953, 4954, 4955, 4957, 4958, 4961, 4963, 4964, 4966, 4967, 4968, 4969, 4970, 4971, 4972, 4974, 4977, 4978, 4979, 4980, 4981, 4982, 4987, 4988, 4989, 4990, 4991, 4992, 4996, 4998, 5000, 5002, 5003, 5006, 5008, 5009, 5010, 5011, 5012, 5013, 5014, 5015, 5017, 5018, 5022, 5028, 5029, 5030, 5032, 5034, 5035, 5036, 5038, 5039, 5041, 5042, 5044, 5046, 5047, 5048, 5049, 5051, 5053, 5054, 5055, 5056, 5057, 5058, 5060, 5061, 5063, 5065, 5066, 5068, 5069, 5071, 5072, 5073, 5074, 5075, 5077, 5078, 5080, 5083, 5084, 5086, 5087, 5088, 5089, 5091, 5092, 5094, 5095, 5096, 5099, 5100, 5101, 5104, 5105, 5106, 5107, 5108, 5109, 5110, 5111, 5112, 5113, 5114, 5116, 5117, 5122, 5123, 5125, 5128, 5129, 5130, 5131, 5132, 5133, 5134, 5136, 5138, 5143, 5144, 5145, 5146, 5148, 5149, 5151, 5152, 5153, 5154, 5155, 5156, 5160, 5164, 5165, 5168, 5171, 5172, 5173, 5175, 5177, 5178, 5181, 5182, 5186, 5188, 5190, 5192, 5193, 5194, 5195, 5198, 5199, 5200, 5201, 5202, 5203, 5204, 5206, 5207, 5208, 5209, 5211, 5212, 5213, 5214, 5218, 5219, 5220, 5221, 5222, 5225, 5226, 5228, 5229, 5230, 5231, 5233, 5235, 5237, 5238, 5239, 5243, 5245, 5247, 5248, 5249, 5252, 5253, 5259, 5260, 5265, 5266, 5267, 5269, 5273, 5274, 5276, 5277, 5278, 5279, 5280, 5282, 5284, 5286, 5288, 5289, 5290, 5291, 5296, 5298, 5299, 5301, 5303, 5304, 5305, 5306, 5307, 5308, 5309, 5311, 5314, 5315, 5317, 5318, 5319, 5320, 5321, 5323, 5326, 5328, 5331, 5333, 5335, 5337, 5338, 5339, 5340, 5342, 5343, 5344, 5345, 5346, 5348, 5349, 5352, 5356, 5357, 5365, 5366, 5367, 5369, 5370, 5371, 5372, 5374, 5375, 5377, 5379, 5382, 5385, 5386, 5387, 5388, 5389, 5390, 5393, 5395, 5398, 5399, 5400, 5401, 5402, 5403, 5405, 5406, 5408, 5409, 5411, 5414, 5416, 5417, 5419, 5422, 5423, 5424, 5425, 5426, 5427, 5431, 5433, 5434, 5437, 5438, 5440, 5442, 5443, 5444, 5447, 5450, 5451, 5453, 5454, 5455, 5456, 5461, 5462, 5464, 5465, 5466, 5468, 5470, 5471, 5472, 5473, 5474, 5476, 5477, 5479, 5484, 5485, 5491, 5492, 5493, 5496, 5497, 5500, 5503, 5504, 5505, 5506, 5507, 5508, 5509, 5510, 5512, 5516, 5519, 5521, 5525, 5526, 5530, 5531, 5533, 5535, 5537, 5538, 5539, 5540, 5541, 5542, 5544, 5545, 5546, 5547, 5549, 5550, 5551, 5555, 5556, 5557, 5558, 5559, 5560, 5561, 5564, 5567, 5569, 5570, 5571, 5572, 5573, 5574, 5575, 5581, 5586, 5587, 5588, 5589, 5593, 5596, 5597, 5598, 5599, 5604, 5605, 5607, 5608, 5609, 5610, 5611, 5612, 5613, 5615, 5617, 5618, 5619, 5624, 5625, 5627, 5628, 5629, 5630, 5633, 5637, 5639, 5643, 5648, 5649, 5650, 5651, 5653, 5654, 5655, 5657, 5660, 5662, 5663, 5665, 5670, 5675, 5676, 5677, 5679, 5682, 5683, 5684, 5685, 5686, 5687, 5688, 5689, 5690, 5691, 5692, 5693, 5694, 5695, 5698, 5699, 5701, 5702, 5703, 5705, 5708, 5709, 5712, 5713, 5714, 5717, 5718, 5719, 5722, 5723, 5724, 5730, 5731, 5732, 5733, 5735, 5736, 5737, 5739, 5741, 5742, 5744, 5745, 5746, 5747, 5748, 5750, 5751, 5753, 5754, 5755, 5758, 5759, 5760, 5763, 5764, 5766, 5767, 5769, 5770, 5772, 5773, 5775, 5778, 5779, 5781, 5783, 5784, 5785, 5786, 5787, 5790, 5792, 5795, 5796, 5797, 5800, 5801, 5802, 5803, 5805, 5806, 5807, 5809, 5810, 5812, 5813, 5816, 5819, 5821, 5822, 5823, 5826, 5827, 5829, 5830, 5831, 5832, 5835, 5836, 5837, 5840, 5842, 5843, 5844, 5846, 5847, 5850, 5851, 5855, 5857, 5858, 5859, 5861, 5864, 5865, 5866, 5874, 5876, 5877, 5881, 5884, 5887, 5889, 5891, 5892, 5898, 5899, 5900, 5901, 5903, 5904, 5905, 5906, 5907, 5909, 5910, 5912, 5913, 5916, 5917, 5919, 5921, 5922, 5923, 5925, 5926, 5931, 5933, 5934, 5935, 5937, 5939, 5940, 5941, 5942, 5943, 5944, 5945, 5947, 5948, 5950, 5951, 5952, 5953, 5954, 5955, 5956, 5958, 5959, 5961, 5962, 5965, 5968, 5969, 5970, 5971, 5973, 5976, 5978, 5980, 5981, 5983, 5986, 5988, 5989, 5991, 5992, 5996, 5997, 6001, 6002, 6003, 6004, 6006, 6007, 6008, 6010, 6011, 6013, 6014, 6017, 6018, 6019, 6020, 6021, 6024, 6025, 6027, 6028, 6031, 6033, 6034, 6035, 6037, 6039, 6040, 6044, 6045, 6046, 6050, 6051, 6052, 6055, 6056, 6058, 6059, 6060, 6061, 6065, 6066, 6068, 6069, 6070, 6071, 6072, 6073, 6075, 6076, 6077, 6078, 6079, 6082, 6084, 6088, 6089, 6091, 6092, 6094, 6096, 6097, 6098, 6099, 6100, 6101, 6102, 6103, 6104, 6105, 6107, 6109, 6110, 6112, 6116, 6119, 6120, 6121, 6122, 6123, 6124, 6125, 6127, 6128, 6129, 6130, 6132, 6134, 6135, 6137, 6138, 6140, 6141, 6142, 6143, 6144, 6146, 6147, 6150, 6151, 6154, 6157, 6161, 6163, 6166, 6170, 6172, 6173, 6176, 6177, 6180, 6183, 6184, 6186, 6187, 6188, 6189, 6190, 6192, 6193, 6194, 6196, 6197, 6199, 6201, 6202, 6203, 6204, 6206, 6210, 6212, 6214, 6215, 6216, 6217, 6218, 6219, 6220, 6221, 6222, 6223, 6224, 6227, 6234, 6236, 6237, 6238, 6239, 6240, 6241, 6243, 6244, 6246, 6247, 6248, 6249, 6250, 6251, 6252, 6258, 6259, 6264, 6265, 6266, 6267, 6268, 6269, 6274, 6275, 6276, 6277, 6278, 6279, 6282, 6284, 6285, 6288, 6289, 6290, 6292, 6293, 6294, 6295, 6297, 6299, 6300, 6301, 6303, 6304, 6305, 6307, 6310, 6311, 6312, 6313, 6314, 6315, 6317, 6318, 6320, 6321, 6325, 6326, 6327, 6329, 6333, 6336, 6337, 6338, 6339, 6342, 6343, 6344, 6345, 6346, 6347, 6349, 6350, 6351, 6352, 6353, 6356, 6357, 6358, 6359, 6361, 6362, 6363, 6364, 6365, 6366, 6367, 6369, 6370, 6372, 6373, 6374, 6375, 6378, 6379, 6381, 6382, 6383, 6386, 6387, 6390, 6392, 6393, 6394, 6396, 6397, 6398, 6399, 6400, 6401, 6402, 6403, 6406, 6407, 6408, 6409, 6410, 6413, 6414, 6416, 6417, 6418, 6419, 6420, 6421, 6422, 6424, 6427, 6429, 6430, 6431, 6434, 6435, 6436, 6437, 6438, 6440, 6441, 6443, 6446, 6451, 6452, 6456, 6457, 6459, 6460, 6463, 6464, 6465, 6466, 6467, 6469, 6470, 6471, 6472, 6473, 6474, 6476, 6478, 6482, 6483, 6484, 6485, 6486, 6487, 6489, 6490, 6491, 6493, 6494, 6495, 6496, 6497, 6500, 6503, 6504, 6506, 6507, 6509, 6510, 6511, 6513, 6514, 6517, 6518, 6519, 6520, 6521, 6522, 6525, 6526, 6527, 6528, 6529, 6530, 6533, 6534, 6536, 6537, 6538, 6542, 6543, 6544, 6545, 6547, 6548, 6549, 6551, 6553, 6554, 6556, 6557, 6560, 6561, 6564, 6565, 6567, 6572, 6573, 6578, 6579, 6584, 6585, 6586, 6587, 6588, 6589, 6592, 6596, 6597, 6601, 6602, 6607, 6608, 6611, 6612, 6613, 6614, 6615, 6619, 6621, 6622, 6625, 6627, 6628, 6629, 6631, 6632, 6633, 6634, 6636, 6637, 6638, 6639, 6641, 6642, 6643, 6644, 6646, 6647, 6651, 6652, 6653, 6654, 6657, 6659, 6660, 6661, 6662, 6663, 6664, 6666, 6667, 6669, 6670, 6671, 6672, 6673, 6676, 6677, 6678, 6679, 6682, 6684, 6685, 6692, 6693, 6695, 6696, 6700, 6701, 6703, 6705, 6706, 6708, 6709, 6711, 6714, 6715, 6716, 6721, 6722, 6725, 6726, 6728, 6730, 6731, 6732, 6733, 6734, 6735, 6737, 6738, 6739, 6740, 6742, 6743, 6744, 6746, 6748, 6749, 6750, 6751, 6752, 6753, 6754, 6755, 6757, 6761, 6762, 6764, 6766, 6767, 6768, 6770, 6773, 6774, 6775, 6777, 6778, 6779, 6782, 6785, 6787, 6788, 6790, 6791, 6792, 6793, 6794, 6796, 6798, 6799, 6802, 6803, 6805, 6806, 6807, 6808, 6809, 6810, 6812, 6813, 6814, 6818, 6819, 6822, 6823, 6824, 6825, 6826, 6827, 6828, 6829, 6830, 6831, 6833, 6834, 6836, 6837, 6838, 6840, 6843, 6844, 6846, 6847, 6848, 6850, 6851, 6852, 6853, 6854, 6855, 6857, 6858, 6859, 6860, 6861, 6862, 6864, 6865, 6866, 6867, 6868, 6869, 6871, 6872, 6873, 6874, 6878, 6880, 6881, 6882, 6883, 6885, 6888, 6891, 6892, 6893, 6894, 6896, 6900, 6901, 6902, 6904, 6909, 6910, 6911, 6912, 6914, 6915, 6916, 6917, 6918, 6919, 6921, 6923, 6924, 6925, 6926, 6927, 6928, 6929, 6930, 6932, 6936, 6937, 6938, 6939, 6940, 6941, 6942, 6944, 6945, 6946, 6947, 6948, 6950, 6951, 6953, 6957, 6958, 6959, 6960, 6963, 6965, 6967, 6968, 6969, 6970, 6971, 6972, 6973, 6975, 6977, 6981, 6982, 6984, 6985, 6986, 6987, 6990, 6991, 6993, 6994, 6995, 6996, 6997, 6998, 6999, 7001, 7004, 7006, 7009, 7011, 7016, 7018, 7019, 7021, 7022, 7023, 7024, 7025, 7026, 7029, 7030, 7031, 7033, 7034, 7036, 7037, 7038, 7039, 7041, 7042, 7043, 7047, 7049, 7050, 7052, 7054, 7056, 7057, 7058, 7059, 7061, 7064, 7067, 7072, 7073, 7075, 7077, 7078, 7079, 7083, 7084, 7085, 7089, 7091, 7093, 7095, 7097, 7098, 7101, 7104, 7105, 7106, 7108, 7109, 7110, 7113, 7114, 7116, 7117, 7118, 7119, 7120, 7121, 7124, 7125, 7126, 7129, 7130, 7131, 7133, 7135, 7136, 7137, 7142, 7144, 7146, 7149, 7151, 7152, 7153, 7155, 7158, 7159, 7161, 7162, 7163, 7165, 7166, 7167, 7169, 7174, 7176, 7181, 7183, 7184, 7185, 7187, 7188, 7189, 7190, 7191, 7193, 7194, 7195, 7196, 7197, 7199, 7203, 7204, 7205, 7207, 7208, 7210, 7214, 7215, 7218, 7219, 7220, 7221, 7224, 7225, 7226, 7227, 7228, 7229, 7231, 7232, 7233, 7234, 7237, 7238, 7239, 7244, 7245, 7246, 7248, 7249, 7250, 7255, 7256, 7257, 7258, 7259, 7260, 7262, 7263, 7264, 7265, 7266, 7267, 7270, 7271, 7272, 7273, 7275, 7276, 7277, 7280, 7282, 7283, 7286, 7287, 7289, 7292, 7294, 7295, 7299, 7301, 7303, 7307, 7308, 7309, 7311, 7314, 7319, 7320, 7324, 7325, 7326, 7328, 7334, 7335, 7336, 7337, 7339, 7340, 7341, 7342, 7344, 7345, 7348, 7349, 7351, 7353, 7355, 7356, 7358, 7360, 7362, 7363, 7367, 7368, 7369, 7370, 7373, 7375, 7377, 7378, 7384, 7385, 7387, 7388, 7389, 7391, 7394, 7395, 7396, 7398, 7399, 7400, 7401, 7402, 7404, 7405, 7406, 7407, 7408, 7409, 7410, 7414, 7417, 7419, 7420, 7421, 7422, 7423, 7425, 7426, 7427, 7429, 7430, 7431, 7434, 7435, 7436, 7438, 7439, 7440, 7443, 7445, 7446, 7447, 7448, 7450, 7451, 7452, 7456, 7459, 7463, 7464, 7465, 7466, 7468, 7469, 7470, 7472, 7474, 7475, 7477, 7479, 7484, 7485, 7488, 7491, 7493, 7494, 7495, 7496, 7497, 7499, 7500, 7501, 7502, 7503, 7504, 7506, 7507, 7509, 7510, 7511, 7514, 7516, 7518, 7519, 7520, 7522, 7523, 7524, 7525, 7529, 7533, 7534, 7535, 7536, 7538, 7540, 7542, 7543, 7545, 7553, 7555, 7556, 7557, 7560, 7561, 7563, 7564, 7565, 7567, 7569, 7570, 7572, 7574, 7575, 7576, 7578, 7580, 7581, 7582, 7583, 7584, 7585, 7586, 7587, 7588, 7589, 7592, 7594, 7595, 7596, 7598, 7599, 7601, 7602, 7603, 7604, 7606, 7609, 7610, 7613, 7614, 7615, 7617, 7620, 7621, 7623, 7626, 7627, 7628, 7629, 7630, 7632, 7635, 7636, 7637, 7639, 7641, 7642, 7644, 7645, 7646, 7648, 7650, 7653, 7654, 7657, 7659, 7661, 7665, 7666, 7667, 7670, 7671, 7673, 7676, 7677, 7678, 7680, 7681, 7682, 7683, 7684, 7685, 7688, 7689, 7690, 7692, 7694, 7696, 7697, 7699, 7700, 7703, 7704, 7705, 7708, 7709, 7710, 7711, 7712, 7714, 7716, 7717, 7718, 7719, 7721, 7723, 7724, 7725, 7727, 7729, 7730, 7732, 7735, 7737, 7739, 7740, 7741, 7742, 7744, 7745, 7747, 7752, 7753, 7755, 7756, 7759, 7761, 7763, 7765, 7766, 7767, 7769, 7772, 7773, 7774, 7776, 7777, 7778, 7782, 7783, 7784, 7786, 7787, 7788, 7789, 7790, 7791, 7792, 7794, 7796, 7797, 7801, 7803, 7804, 7805, 7810, 7812, 7814, 7816, 7817, 7819, 7820, 7821, 7823, 7825, 7829, 7830, 7832, 7833, 7834, 7837, 7839, 7840, 7843, 7844, 7846, 7847, 7849, 7855, 7856, 7858, 7859, 7860, 7861, 7862, 7864, 7865, 7867, 7868, 7871, 7872, 7873, 7874, 7875, 7876, 7881, 7885, 7887, 7892, 7893, 7895, 7896, 7897, 7901, 7902, 7903, 7904, 7905, 7906, 7908, 7910, 7912, 7913, 7914, 7916, 7918, 7919, 7920, 7922, 7924, 7927, 7928, 7931, 7932, 7933, 7937, 7938, 7943, 7946, 7947, 7949, 7951, 7955, 7956, 7957, 7961, 7964, 7966, 7967, 7969, 7971, 7972, 7973, 7974, 7975, 7976, 7977, 7979, 7980, 7981, 7982, 7983, 7984, 7986, 7987, 7989, 7990, 7991, 7993, 7994, 7996, 7997, 7999, 8003, 8005, 8006, 8007, 8009, 8011, 8012, 8013, 8016, 8017, 8019, 8020, 8021, 8024, 8026, 8029, 8031, 8032, 8036, 8038, 8042, 8044, 8047, 8049, 8051, 8054, 8055, 8056, 8058, 8059, 8060, 8061, 8062, 8064, 8065, 8066, 8067, 8069, 8070, 8071, 8074, 8075, 8076, 8077, 8078, 8079, 8080, 8082, 8083, 8086, 8090, 8091, 8092, 8094, 8097, 8099, 8100, 8101, 8104, 8107, 8109, 8110, 8111, 8112, 8113, 8116, 8117, 8118, 8119, 8122, 8123, 8124, 8129, 8130, 8131, 8133, 8135, 8136, 8137, 8138, 8139, 8140, 8141, 8142, 8144, 8145, 8148, 8151, 8154, 8155, 8156, 8157, 8158, 8159, 8161, 8163, 8165, 8166, 8167, 8168, 8169, 8170, 8176, 8178, 8179, 8183, 8187, 8191, 8194, 8195, 8197, 8199, 8201, 8202, 8204, 8205, 8206, 8207, 8210, 8211, 8213, 8214, 8216, 8219, 8220, 8223, 8224, 8226, 8227, 8229, 8231, 8232, 8233, 8234, 8235, 8240, 8242, 8243, 8244, 8245, 8246, 8248, 8249, 8250, 8251, 8252, 8253, 8255, 8256, 8259, 8260, 8264, 8266, 8268, 8270, 8271, 8272, 8273, 8274, 8275, 8278, 8279, 8280, 8281, 8284, 8285, 8286, 8287, 8288, 8289, 8291, 8293, 8298, 8299, 8301, 8302, 8303, 8304, 8305, 8306, 8309, 8311, 8312, 8315, 8318, 8320, 8321, 8324, 8326, 8327, 8328, 8329, 8331, 8332, 8333, 8334, 8335, 8336, 8337, 8339, 8341, 8342, 8344, 8346, 8347, 8348, 8351, 8352, 8353, 8359, 8360, 8363, 8366, 8367, 8370, 8371, 8372, 8373, 8374, 8375, 8376, 8378, 8379, 8380, 8382, 8385, 8386, 8388, 8389, 8390, 8391, 8392, 8393, 8395, 8396, 8397, 8398, 8399, 8401, 8404, 8405, 8409, 8411, 8412, 8413, 8414, 8415, 8416, 8419, 8420, 8421, 8425, 8426, 8427, 8428, 8429, 8431, 8432, 8433, 8434, 8435, 8440, 8441, 8444, 8445, 8446, 8447, 8448, 8451, 8452, 8453, 8455, 8456, 8457, 8459, 8461, 8466, 8468, 8469, 8471, 8472, 8473, 8474, 8475, 8477, 8478, 8480, 8481, 8484, 8486, 8487, 8488, 8489, 8490, 8491, 8492, 8493, 8495, 8496, 8498, 8499, 8501, 8502, 8505, 8506, 8507, 8508, 8510, 8511, 8512, 8513, 8514, 8515, 8516, 8517, 8519, 8522, 8523, 8525, 8526, 8528, 8529, 8530, 8533, 8535, 8537, 8538, 8540, 8541, 8542, 8543, 8544, 8548, 8549, 8551, 8552, 8554, 8555, 8556, 8557, 8558, 8559, 8560, 8561, 8563, 8567, 8568, 8570, 8572, 8573, 8574, 8578, 8579, 8580, 8582, 8583, 8584, 8587, 8588, 8589, 8591, 8593, 8594, 8597, 8598, 8600, 8601, 8604, 8605, 8606, 8608, 8609, 8611, 8612, 8613, 8614, 8617, 8618, 8624, 8625, 8628, 8629, 8630, 8633, 8635, 8637, 8641, 8642, 8645, 8646, 8647, 8649, 8651, 8652, 8654, 8655, 8656, 8657, 8658, 8659, 8663, 8666, 8667, 8668, 8671, 8672, 8673, 8674, 8677, 8678, 8679, 8680, 8681, 8682, 8683, 8684, 8685, 8689, 8691, 8692, 8695, 8696, 8697, 8698, 8700, 8703, 8704, 8705, 8707, 8710, 8711, 8712, 8713, 8715, 8717, 8719, 8720, 8721, 8723, 8725, 8726, 8727, 8728, 8730, 8731, 8732, 8733, 8734, 8735, 8736, 8737, 8738, 8739, 8741, 8743, 8744, 8745, 8747, 8750, 8751, 8752, 8753, 8754, 8757, 8759, 8761, 8762, 8763, 8765, 8766, 8767, 8770, 8771, 8773, 8775, 8777, 8779, 8781, 8783, 8784, 8785, 8786, 8787, 8788, 8790, 8793, 8794, 8796, 8798, 8799, 8800, 8801, 8803, 8804, 8806, 8807, 8808, 8809, 8810, 8812, 8813, 8816, 8817, 8818, 8820, 8822, 8823, 8824, 8825, 8826, 8827, 8828, 8829, 8830, 8831, 8832, 8833, 8835, 8837, 8838, 8839, 8841, 8843, 8846, 8847, 8850, 8851, 8852, 8853, 8854, 8859, 8860, 8862, 8864, 8867, 8868, 8869, 8870, 8872, 8875, 8876, 8877, 8879, 8880, 8881, 8882, 8883, 8885, 8887, 8888, 8889, 8890, 8892, 8893, 8894, 8895, 8898, 8903, 8904, 8906, 8907, 8909, 8910, 8911, 8913, 8915, 8916, 8917, 8919, 8920, 8923, 8924, 8925, 8927, 8928, 8933, 8934, 8935, 8937, 8938, 8939, 8940, 8941, 8942, 8944, 8945, 8946, 8947, 8949, 8951, 8956, 8958, 8959, 8960, 8961, 8964, 8965, 8967, 8968, 8969, 8970, 8971, 8972, 8973, 8974, 8975, 8977, 8978, 8979, 8980, 8981, 8985, 8986, 8987, 8989, 8992, 8993, 8994, 8995, 8997, 8998, 9000, 9001, 9004, 9005, 9006, 9007, 9009, 9012, 9013, 9014, 9016, 9017, 9018, 9019, 9021, 9023, 9026, 9027, 9028, 9029, 9032, 9033, 9034, 9035, 9036, 9037, 9038, 9039, 9041, 9042, 9044, 9045, 9046, 9047, 9048, 9050, 9051, 9056, 9057, 9059, 9060, 9062, 9065, 9066, 9070, 9072, 9073, 9075, 9076, 9077, 9079, 9080, 9081, 9082, 9085, 9087, 9088, 9089, 9091, 9093, 9095, 9097, 9099, 9100, 9101, 9102, 9104, 9105, 9106, 9107, 9108, 9109, 9110, 9111, 9112, 9114, 9116, 9117, 9118, 9119, 9120, 9122, 9124, 9125, 9127, 9128, 9132, 9133, 9135, 9137, 9138, 9139, 9140, 9141, 9144, 9145, 9146, 9147, 9148, 9149, 9150, 9152, 9153, 9154, 9156, 9157, 9158, 9160, 9161, 9164, 9165, 9168, 9169, 9171, 9172, 9175, 9176, 9177, 9178, 9181, 9183, 9185, 9187, 9188, 9189, 9190, 9191, 9194, 9195, 9197, 9198, 9205, 9206, 9211, 9212, 9213, 9214, 9217, 9220, 9225, 9226, 9227, 9230, 9231, 9232, 9233, 9239, 9241, 9242, 9244, 9245, 9249, 9250, 9251, 9254, 9258, 9262, 9263, 9264, 9265, 9266, 9267, 9268, 9270, 9271, 9274, 9278, 9280, 9281, 9282, 9283, 9284, 9286, 9288, 9290, 9291, 9292, 9294, 9295, 9297, 9298, 9299, 9301, 9303, 9307, 9308, 9309, 9311, 9312, 9316, 9317, 9320, 9322, 9324, 9326, 9327, 9328, 9329, 9330, 9333, 9334, 9335, 9336, 9337, 9339, 9340, 9341, 9343, 9345, 9346, 9348, 9349, 9350, 9351, 9353, 9355, 9356, 9357, 9360, 9361, 9364, 9365, 9366, 9373, 9374, 9375, 9377, 9378, 9379, 9381, 9382, 9383, 9385, 9386, 9387, 9391, 9394, 9395, 9397, 9398, 9400, 9402, 9405, 9408, 9410, 9411, 9412, 9413, 9415, 9416, 9418, 9419, 9422, 9423, 9424, 9428, 9431, 9433, 9434, 9435, 9436, 9437, 9438, 9439, 9440, 9443, 9445, 9446, 9447, 9448, 9449, 9450, 9451, 9454, 9457, 9459, 9460, 9462, 9466, 9467, 9469, 9471, 9472, 9473, 9478, 9479, 9480, 9481, 9482, 9485, 9486, 9487, 9488, 9492, 9495, 9497, 9498, 9501, 9503, 9509, 9510, 9511, 9514, 9515, 9516, 9517, 9518, 9519, 9520, 9521, 9522, 9523, 9524, 9525, 9527, 9528, 9529, 9530, 9531, 9533, 9534, 9535, 9536, 9537, 9539, 9540, 9542, 9543, 9545, 9546, 9548, 9549, 9551, 9552, 9553, 9554, 9555, 9557, 9558, 9559, 9560, 9561, 9562, 9564, 9566, 9569, 9570, 9572, 9574, 9575, 9576, 9577, 9578, 9580, 9581, 9582, 9584, 9585, 9589, 9590, 9591, 9592, 9594, 9597, 9598, 9599, 9601, 9602, 9603, 9604, 9606, 9607, 9608, 9609, 9611, 9612, 9613, 9616, 9617, 9620, 9621, 9622, 9624, 9625, 9627, 9628, 9629, 9633, 9634, 9640, 9643, 9644, 9645, 9646, 9647, 9650, 9651, 9653, 9654, 9658, 9664, 9665, 9666, 9667, 9671, 9673, 9674, 9675, 9678, 9679, 9682, 9683, 9686, 9687, 9688, 9691, 9693, 9696, 9697, 9698, 9699, 9701, 9702, 9704, 9706, 9707, 9708, 9709, 9710, 9711, 9712, 9713, 9714, 9715, 9716, 9719, 9722, 9724, 9725, 9726, 9727, 9729, 9731, 9732, 9734, 9735, 9736, 9737, 9739, 9740, 9741, 9742, 9743, 9744, 9745, 9746, 9747, 9749, 9751, 9755, 9757, 9758, 9760, 9763, 9764, 9768, 9769, 9770, 9772, 9773, 9774, 9777, 9781, 9782, 9786, 9787, 9789, 9791, 9793, 9797, 9798, 9800, 9802, 9803, 9807, 9809, 9810, 9811, 9814, 9815, 9818, 9821, 9822, 9823, 9824, 9825, 9826, 9827, 9829, 9831, 9833, 9836, 9837, 9839, 9840, 9846, 9848, 9849, 9850, 9852, 9853, 9854, 9856, 9861, 9862, 9864, 9866, 9869, 9870, 9871, 9872, 9874, 9875, 9877, 9878, 9881, 9883, 9884, 9885, 9886, 9887, 9889, 9892, 9894, 9896, 9897, 9898, 9901, 9902, 9903, 9904, 9905, 9911, 9913, 9915, 9916, 9917, 9918, 9919, 9923, 9925, 9927, 9928, 9929, 9930, 9932, 9933, 9934, 9935, 9936, 9937, 9938, 9939, 9940, 9941, 9944, 9945, 9946, 9948, 9951, 9952, 9953, 9955, 9957, 9958, 9959, 9960, 9964, 9965, 9974, 9976, 9977, 9978, 9982, 9983, 9984, 9985, 9986, 9987, 9989, 9990, 9991, 9995, 9996, 9998, 9999, 10000, 10001, 10002, 10003, 10004, 10005, 10006, 10008, 10011, 10013, 10015, 10017, 10020, 10022, 10023, 10024, 10025, 10026, 10027, 10030, 10031, 10035, 10036, 10037, 10038, 10039, 10040, 10041, 10042, 10043, 10044, 10048, 10054, 10055, 10057, 10061, 10062, 10064, 10067, 10069, 10070, 10072, 10073, 10074, 10078, 10079, 10081, 10083, 10085, 10087, 10088, 10089, 10090, 10091, 10092, 10093, 10095, 10096, 10097, 10098, 10099, 10101, 10103, 10104, 10106, 10107, 10108, 10111, 10112, 10116, 10117, 10118, 10119, 10121, 10123, 10124, 10131, 10132, 10133, 10134, 10135, 10136, 10139, 10140, 10141, 10142, 10146, 10147, 10151, 10152, 10153, 10154, 10158, 10159, 10160, 10161, 10162, 10163, 10169, 10172, 10174, 10175, 10177, 10179, 10180, 10183, 10185, 10186, 10189, 10190, 10192, 10194, 10197, 10198, 10203, 10206, 10207, 10209, 10210, 10212, 10217, 10218, 10219, 10222, 10227, 10231, 10232, 10233, 10235, 10236, 10237, 10241, 10243, 10244, 10245, 10246, 10249, 10250, 10251, 10252, 10253, 10254, 10255, 10256, 10257, 10258, 10260, 10261, 10262, 10263, 10264, 10265, 10266, 10269, 10270, 10271, 10273, 10277, 10278, 10279, 10280, 10281, 10282, 10283, 10284, 10285, 10286, 10287, 10291, 10292, 10294, 10296, 10299, 10300, 10303, 10304, 10305, 10306, 10309, 10310, 10311, 10312, 10313, 10314, 10317, 10318, 10319, 10320, 10321, 10322, 10323, 10324, 10327, 10329, 10330, 10333, 10335, 10339, 10340, 10341, 10343, 10344, 10347, 10349, 10350, 10351, 10353, 10355, 10356, 10361, 10363, 10368, 10369, 10370, 10373, 10377, 10378, 10381, 10382, 10383, 10384, 10388, 10389, 10393, 10394, 10395, 10396, 10399, 10400, 10401, 10402, 10403, 10404, 10405, 10407, 10408, 10411, 10412, 10413, 10414, 10415, 10417, 10419, 10420, 10422, 10425, 10426, 10427, 10428, 10430, 10432, 10433, 10434, 10436, 10438, 10439, 10440, 10446, 10448, 10451, 10452, 10455, 10456, 10458, 10460, 10461, 10463, 10464, 10467, 10468, 10469, 10474, 10477, 10478, 10480, 10481, 10483, 10484, 10486, 10487, 10490, 10491, 10494, 10495, 10496, 10497, 10500, 10501, 10502, 10503, 10505, 10507, 10509, 10512, 10513, 10514, 10515, 10516, 10517, 10518, 10519, 10520, 10522, 10525, 10526, 10527, 10529, 10532, 10533, 10534, 10535, 10540, 10541, 10543, 10544, 10545, 10546, 10547, 10549, 10550, 10551, 10554, 10556, 10557, 10558, 10559, 10561, 10562, 10563, 10564, 10571, 10576, 10577, 10578, 10580, 10581, 10582, 10583, 10584, 10586, 10587, 10588, 10589, 10594, 10595, 10596, 10597, 10598, 10601, 10602, 10604, 10606, 10607, 10608, 10610, 10612, 10616, 10618, 10620, 10621, 10622, 10623, 10624, 10625, 10626, 10629, 10632, 10633, 10634, 10635, 10638, 10639, 10640, 10641, 10643, 10644, 10645, 10647, 10648, 10649, 10650, 10655, 10658, 10659, 10660, 10661, 10662, 10666, 10667, 10668, 10669, 10670, 10671, 10673, 10676, 10677, 10678, 10683, 10684, 10685, 10686, 10687, 10690, 10693, 10694, 10695, 10696, 10697, 10698, 10699, 10700, 10701, 10702, 10703, 10705, 10706, 10711, 10712, 10713, 10714, 10716, 10719, 10723, 10728, 10732, 10734, 10735, 10739, 10741, 10743, 10744, 10746, 10748, 10749, 10751, 10754, 10755, 10756, 10757, 10759, 10760, 10761, 10762, 10763, 10764, 10765, 10766, 10767, 10769, 10770, 10772, 10775, 10778, 10779, 10781, 10783, 10784, 10785, 10786, 10787, 10788, 10789, 10790, 10791, 10792, 10793, 10794, 10795, 10797, 10799, 10800, 10803, 10804, 10805, 10806, 10810, 10812, 10813, 10815, 10816, 10817, 10818, 10819, 10820, 10822, 10823, 10825, 10826, 10834, 10835, 10836, 10837, 10838, 10842, 10844, 10846, 10847, 10848, 10849, 10851, 10852, 10853, 10854, 10856, 10858, 10862, 10863, 10864, 10867, 10869, 10871, 10873, 10874, 10878, 10879, 10881, 10885, 10888, 10889, 10890, 10891, 10893, 10894, 10895, 10897, 10900, 10901, 10906, 10907, 10909, 10911, 10914, 10915, 10918, 10920, 10921, 10922, 10923, 10924, 10925, 10927, 10928, 10930, 10931, 10932, 10933, 10935, 10937, 10938, 10939, 10941, 10947, 10948, 10950, 10951, 10952, 10960, 10963, 10964, 10965, 10966, 10968, 10969, 10971, 10973, 10975, 10976, 10980, 10981, 10982, 10983, 10984, 10985, 10986, 10987, 10989, 10990, 10991, 10993, 10994, 10995, 10996, 10998, 10999, 11000, 11001, 11002, 11003, 11004, 11007, 11008, 11010, 11012, 11013, 11014, 11015, 11016, 11018, 11020, 11021, 11022, 11023, 11027, 11032, 11033, 11036, 11039, 11040, 11043, 11049, 11050, 11051, 11052, 11053, 11057, 11060, 11061, 11063, 11066, 11068, 11069, 11072, 11074, 11075, 11076, 11079, 11081, 11082, 11083, 11084, 11085, 11086, 11087, 11088, 11089, 11090, 11091, 11093, 11094, 11096, 11097, 11098, 11099, 11102, 11103, 11104, 11105, 11106, 11107, 11110, 11111, 11112, 11113, 11114, 11115, 11116, 11118, 11119, 11120, 11122, 11123, 11125, 11126, 11127, 11128, 11129, 11130, 11131, 11132, 11134, 11137, 11138, 11139, 11140, 11142, 11143, 11144, 11146, 11149, 11150, 11153, 11154, 11157, 11160, 11161, 11162, 11164, 11165, 11167, 11170, 11171, 11172, 11173, 11175, 11176, 11177, 11178, 11179, 11180, 11181, 11182, 11183, 11185, 11188, 11190, 11191, 11192, 11194, 11195, 11196, 11198, 11202, 11203, 11208, 11209, 11210, 11211, 11212, 11213, 11214, 11216, 11219, 11220, 11221, 11226, 11227, 11228, 11230, 11231, 11232, 11233, 11234, 11235, 11238, 11239, 11242, 11243, 11245, 11246, 11247, 11248, 11250, 11251, 11252, 11256, 11258, 11260, 11261, 11263, 11264, 11265, 11266, 11268, 11269, 11270, 11271, 11274, 11276, 11278, 11279, 11280, 11284, 11287, 11292, 11295, 11297, 11299, 11302, 11304, 11305, 11306, 11307, 11308, 11310, 11311, 11313, 11317, 11320, 11322, 11324, 11326, 11329, 11330, 11331, 11333, 11334, 11335, 11337, 11338, 11339, 11342, 11343, 11344, 11346, 11353, 11359, 11360, 11361, 11362, 11364, 11366, 11367, 11368, 11370, 11377, 11378, 11381, 11382, 11383, 11385, 11386, 11388, 11389, 11390, 11392, 11394, 11395, 11397, 11399, 11402, 11403, 11404, 11405, 11408, 11409, 11412, 11413, 11415, 11417, 11418, 11419, 11421, 11423, 11425, 11426, 11427, 11428, 11431, 11434, 11435, 11436, 11437, 11439, 11440, 11445, 11446, 11448, 11451, 11452, 11455, 11460, 11461, 11462, 11463, 11466, 11469, 11472, 11474, 11476, 11477, 11478, 11479, 11480, 11482, 11488, 11490, 11492, 11493, 11494, 11495, 11497, 11500, 11501, 11504, 11506, 11507, 11508, 11510, 11511, 11513, 11515, 11519, 11520, 11522, 11524, 11525, 11526, 11529, 11530, 11533, 11536, 11537, 11539, 11540, 11541, 11542, 11544, 11545, 11547, 11548, 11549, 11551, 11552, 11553, 11557, 11559, 11561, 11562, 11563, 11565, 11566, 11567, 11568, 11569, 11570, 11572, 11574, 11575, 11577, 11579, 11582, 11583, 11584, 11585, 11586, 11587, 11590, 11591, 11592, 11593, 11594, 11595, 11596, 11599, 11600, 11602, 11603, 11604, 11605, 11607, 11609, 11610, 11611, 11612, 11616, 11619, 11622, 11626, 11627, 11628, 11629, 11630, 11633, 11634, 11635, 11636, 11637, 11638, 11639, 11640, 11641, 11642, 11645, 11646, 11650, 11651, 11652, 11654, 11655, 11656, 11657, 11658, 11659, 11660, 11662, 11663, 11664, 11667, 11668, 11669, 11670, 11671, 11672, 11673, 11675, 11676, 11677, 11678, 11680, 11681, 11682, 11683, 11684, 11685, 11686, 11687, 11688, 11690, 11692, 11693, 11694, 11695, 11696, 11699, 11701, 11704, 11705, 11707, 11708, 11709, 11710, 11712, 11713, 11714, 11715, 11718, 11719, 11720, 11722, 11725, 11726, 11728, 11729, 11731, 11732, 11734, 11735, 11736, 11737, 11739, 11742, 11744, 11745, 11746, 11747, 11749, 11752, 11753, 11755, 11758, 11763, 11770, 11771, 11772, 11773, 11774, 11776, 11777, 11778, 11779, 11781, 11785, 11786, 11788, 11790, 11791, 11794, 11796, 11799, 11802, 11803, 11804, 11806, 11807, 11808, 11810, 11811, 11813, 11815, 11816, 11818, 11820, 11821, 11823, 11824, 11825, 11826, 11829, 11830, 11831, 11832, 11833, 11837, 11838, 11840, 11841, 11842, 11843, 11845, 11846, 11847, 11848, 11849, 11850, 11853, 11854, 11855, 11856, 11859, 11861, 11862, 11866, 11867, 11869, 11870, 11871, 11877, 11878, 11881, 11882, 11884, 11886, 11888, 11889, 11891, 11894, 11896, 11898, 11899, 11900, 11901, 11902, 11903, 11908, 11909, 11910, 11912, 11913, 11914, 11916, 11917, 11922, 11923, 11928, 11929, 11931, 11932, 11934, 11937, 11939, 11940, 11942, 11943, 11945, 11947, 11948, 11950, 11952, 11953, 11954, 11955, 11956, 11960, 11961, 11962, 11964, 11965, 11966, 11967, 11968, 11970, 11974, 11975, 11977, 11978, 11979, 11980, 11981, 11982, 11983, 11985, 11986, 11990, 11991, 11994, 11997, 11998, 11999, 12000, 12002, 12004, 12005, 12007, 12012, 12013, 12016, 12018, 12020, 12022, 12023, 12024, 12025, 12029, 12030, 12031, 12032, 12033, 12034, 12035, 12036, 12037, 12041, 12042, 12045, 12046, 12047, 12048, 12049, 12050, 12052, 12053, 12054, 12055, 12059, 12060, 12062, 12063, 12064, 12066, 12067, 12070, 12071, 12073, 12074, 12078, 12083, 12084, 12086, 12089, 12090, 12091, 12092, 12093, 12094, 12096, 12097, 12098, 12100, 12101, 12105, 12106, 12107, 12108, 12109, 12110, 12111, 12112, 12114, 12115, 12116, 12117, 12119, 12121, 12123, 12126, 12127, 12129, 12130, 12131, 12132, 12134, 12135, 12136, 12137, 12138, 12139, 12140, 12141, 12143, 12144, 12145, 12146, 12148, 12151, 12153, 12154, 12155, 12156, 12157, 12158, 12160, 12162, 12164, 12168, 12169, 12170, 12171, 12172, 12175, 12176, 12177, 12178, 12181, 12182, 12183, 12184, 12185, 12186, 12187, 12189, 12191, 12192, 12193, 12200, 12203, 12204, 12209, 12210, 12213, 12216, 12217, 12218, 12219, 12220, 12222, 12224, 12225, 12228, 12229, 12231, 12232, 12234, 12237, 12239, 12240, 12241, 12243, 12245, 12247, 12248, 12252, 12253, 12255, 12256, 12258, 12259, 12260, 12261, 12262, 12263, 12264, 12268, 12269, 12270, 12271, 12272, 12273, 12275, 12276, 12277, 12279, 12280, 12281, 12283, 12285, 12286, 12288, 12289, 12290, 12291, 12294, 12296, 12300, 12301, 12305, 12306, 12309, 12310, 12314, 12315, 12316, 12317, 12318, 12319, 12320, 12322, 12326, 12327, 12330, 12331, 12333, 12335, 12337, 12342, 12343, 12346, 12348, 12352, 12353, 12354, 12355, 12358, 12359, 12360, 12361, 12362, 12363, 12365, 12366, 12367, 12368, 12370, 12373, 12374, 12375, 12376, 12377, 12378, 12379, 12380, 12381, 12383, 12384, 12385, 12386, 12387, 12388, 12390, 12391, 12392, 12393, 12394, 12395, 12396, 12397, 12398, 12400, 12402, 12404, 12408, 12409, 12410, 12412, 12413, 12416, 12417, 12419, 12421, 12423, 12424, 12428, 12429, 12430, 12432, 12437, 12438, 12439, 12440, 12441, 12445, 12446, 12447, 12448, 12452, 12453, 12454, 12455, 12457, 12459, 12464, 12465, 12466, 12467, 12469, 12471, 12472, 12473, 12474, 12476, 12477, 12478, 12480, 12481, 12483, 12486, 12487, 12488, 12491, 12492, 12495, 12496, 12498, 12499, 12500, 12501, 12502, 12503, 12504, 12505, 12508, 12509, 12510, 12511, 12512, 12513, 12515, 12516, 12517, 12518, 12519, 12520, 12521, 12523, 12524, 12525, 12526, 12527, 12528, 12529, 12531, 12533, 12534, 12537, 12541, 12545, 12549, 12550, 12551, 12553, 12556, 12557, 12559, 12560, 12562, 12564, 12565, 12567, 12568, 12570, 12571, 12572, 12574, 12577, 12578, 12580, 12581, 12582, 12584, 12586, 12589, 12590, 12591, 12592, 12593, 12594, 12596, 12598, 12600, 12603, 12606, 12610, 12612, 12614, 12618, 12620, 12621, 12623, 12625, 12626, 12627, 12629, 12631, 12632, 12633, 12635, 12636, 12637, 12638, 12640, 12641, 12642, 12643, 12644, 12647, 12648, 12649, 12650, 12652, 12653, 12656, 12657, 12658, 12660, 12664, 12666, 12667, 12668, 12671, 12672, 12674, 12675, 12676, 12677, 12678, 12679, 12680, 12682, 12683, 12684, 12688, 12689, 12690, 12691, 12692, 12693, 12694, 12695, 12696, 12698, 12702, 12703, 12705, 12706, 12707, 12710, 12711, 12714, 12715, 12719, 12720, 12722, 12723, 12724, 12725, 12726, 12727, 12728, 12729, 12730, 12731, 12732, 12733, 12734, 12735, 12737, 12738, 12740, 12743, 12744, 12748, 12751, 12753, 12756, 12757, 12758, 12759, 12760, 12764, 12765, 12766, 12768, 12770, 12772, 12773, 12774, 12775, 12776, 12777, 12778, 12781, 12784, 12786, 12787, 12788, 12789, 12790, 12791, 12792, 12793, 12795, 12796, 12797, 12799, 12802, 12805, 12806, 12807, 12809, 12810, 12811, 12812, 12813, 12814, 12815, 12816, 12817, 12818, 12821, 12823, 12824, 12825, 12826, 12827, 12828, 12829, 12832, 12833, 12834, 12835, 12836, 12841, 12842, 12845, 12846, 12847, 12848, 12849, 12853, 12854, 12857, 12858, 12861, 12864, 12865, 12866, 12867, 12868, 12870, 12871, 12872, 12873, 12874, 12875, 12878, 12879, 12880, 12881, 12882, 12883, 12884, 12886, 12888, 12889, 12891, 12896, 12897, 12899, 12900, 12901, 12904, 12905, 12909, 12910, 12912, 12914, 12915, 12917, 12918, 12919, 12921, 12923, 12924, 12927, 12928, 12930, 12931, 12932, 12936, 12937, 12938, 12940, 12941, 12944, 12945, 12946, 12949, 12950, 12951, 12952, 12954, 12956, 12957, 12960, 12962, 12964, 12966, 12967, 12968, 12969, 12970, 12971, 12974, 12975, 12978, 12979, 12981, 12982, 12983, 12984, 12985, 12986, 12988, 12989, 12990, 12992, 12993, 12995, 12996, 12999, 13000, 13001, 13002, 13005, 13006, 13008, 13009, 13010, 13013, 13014, 13015, 13016, 13017, 13021, 13022, 13023, 13024, 13025, 13026, 13027, 13028, 13029, 13031, 13032, 13033, 13034, 13035, 13036, 13037, 13039, 13040, 13041, 13042, 13044, 13049, 13050, 13051, 13053, 13055, 13056, 13057, 13058, 13059, 13064, 13065, 13066, 13067, 13068, 13072, 13076, 13077, 13078, 13080, 13082, 13083, 13085, 13086, 13090, 13093, 13094, 13095, 13096, 13097, 13098, 13099, 13102, 13104, 13106, 13107, 13109, 13110, 13111, 13112, 13116, 13117, 13118, 13119, 13121, 13122, 13124, 13125, 13127, 13128, 13129, 13130, 13132, 13134, 13135, 13136, 13137, 13142, 13143, 13144, 13145, 13147, 13151, 13153, 13154, 13158, 13160, 13161, 13164, 13165, 13167, 13168, 13170, 13171, 13172, 13173, 13174, 13177, 13178, 13179, 13180, 13181, 13182, 13184, 13186, 13188, 13190, 13191, 13192, 13193, 13194, 13196, 13199, 13200, 13201, 13205, 13206, 13208, 13209, 13210, 13211, 13212, 13214, 13218, 13220, 13223, 13224, 13227, 13228, 13229, 13230, 13231, 13232, 13233, 13235, 13237, 13238, 13240, 13242, 13244, 13245, 13246, 13247, 13249, 13251, 13252, 13253, 13254, 13255, 13256, 13257, 13259, 13260, 13261, 13264, 13265, 13266, 13267, 13268, 13270, 13272, 13275, 13276, 13277, 13278, 13282, 13283, 13285, 13286, 13287, 13290, 13291, 13293, 13295, 13298, 13299, 13300, 13301, 13303, 13307, 13310, 13312, 13315, 13316, 13320, 13321, 13322, 13325, 13326, 13327, 13328, 13330, 13331, 13334, 13336, 13339, 13341, 13342, 13343, 13344, 13345, 13346, 13347, 13348, 13350, 13351, 13356, 13357, 13360, 13361, 13362, 13363, 13364, 13365, 13366, 13368, 13371, 13372, 13374, 13375, 13376, 13378, 13380, 13381, 13384, 13386, 13388, 13389, 13390, 13391, 13393, 13394, 13395, 13396, 13397, 13398, 13399, 13400, 13401, 13402, 13403, 13404, 13405, 13406, 13409, 13411, 13412, 13413, 13414, 13417, 13418, 13419, 13420, 13421, 13423, 13424, 13425, 13426, 13427, 13429, 13430, 13432, 13433, 13435, 13436, 13437, 13439, 13440, 13444, 13446, 13447, 13449, 13451, 13455, 13456, 13457, 13458, 13460, 13464, 13467, 13468, 13470, 13471, 13473, 13474, 13475, 13476, 13477, 13478, 13482, 13483, 13484, 13485, 13486, 13487, 13488, 13490, 13491, 13492, 13493, 13497, 13498, 13499, 13500, 13502, 13505, 13507, 13508, 13509, 13510, 13511, 13515, 13516, 13517, 13518, 13524, 13525, 13529, 13530, 13531, 13532, 13536, 13539, 13540, 13545, 13550, 13552, 13553, 13556, 13557, 13559, 13561, 13562, 13563, 13564, 13565, 13567, 13571, 13572, 13573, 13574, 13575, 13576, 13578, 13579, 13581, 13582, 13584, 13585, 13586, 13587, 13588, 13590, 13592, 13593, 13594, 13596, 13597, 13598, 13599, 13601, 13602, 13603, 13604, 13605, 13606, 13607, 13608, 13609, 13610, 13611, 13612, 13613, 13616, 13617, 13618, 13620, 13621, 13623, 13626, 13629, 13630, 13631, 13633, 13635, 13637, 13638, 13641, 13643, 13645, 13646, 13647, 13648, 13650, 13652, 13653, 13655, 13656, 13657, 13658, 13659, 13660, 13661, 13662, 13664, 13665, 13666, 13667, 13669, 13674, 13676, 13677, 13678, 13680, 13681, 13682, 13683, 13684, 13685, 13686, 13687, 13689, 13691, 13692, 13693, 13694, 13697, 13698, 13699, 13700, 13704, 13705, 13709, 13710, 13712, 13714, 13715, 13717, 13723, 13724, 13726, 13727, 13728, 13729, 13732, 13733, 13734, 13735, 13736, 13737, 13739, 13742, 13743, 13744, 13745, 13746, 13747, 13748, 13749, 13750, 13753, 13754, 13755, 13758, 13759, 13761, 13762, 13763, 13764, 13765, 13766, 13767, 13769, 13771, 13772, 13773, 13775, 13777, 13778, 13779, 13781, 13784, 13785, 13787, 13789, 13790, 13791, 13793, 13795, 13797, 13801, 13802, 13804, 13805, 13806, 13807, 13809, 13811, 13812, 13815, 13817, 13818, 13819, 13821, 13823, 13824, 13826, 13828, 13829, 13830, 13833, 13834, 13835, 13837, 13839, 13841, 13843, 13845, 13846, 13848, 13850, 13853, 13859, 13861, 13862, 13864, 13865, 13866, 13867, 13868, 13870, 13873, 13874, 13875, 13876, 13877, 13878, 13879, 13880, 13881, 13882, 13884, 13889, 13891, 13892, 13895, 13898, 13899, 13901, 13903, 13906, 13908, 13909, 13911, 13913, 13914, 13915, 13916, 13917, 13918, 13920, 13921, 13924, 13926, 13930, 13932, 13933, 13935, 13936, 13939, 13940, 13941, 13943, 13945, 13946, 13948, 13949, 13951, 13953, 13955, 13959, 13964, 13965, 13966, 13967, 13968, 13970, 13972, 13973, 13975, 13977, 13978, 13979, 13980, 13982, 13985, 13987, 13989, 13990, 13991, 13992, 13996, 13997, 13998, 14002, 14003, 14004, 14005, 14006, 14007, 14008, 14010, 14011, 14014, 14016, 14020, 14022, 14023, 14025, 14026, 14029, 14030, 14031, 14033, 14035, 14036, 14038, 14039, 14041, 14043, 14045, 14049, 14054, 14055, 14056, 14057, 14058, 14060, 14062, 14063, 14065, 14067, 14068, 14069, 14070, 14072, 14075, 14077, 14079, 14080, 14081, 14082, 14086, 14087, 14088, 14092, 14093, 14096, 14097, 14099, 14101, 14103, 14104, 14105, 14107, 14108, 14109, 14110, 14111, 14114, 14115, 14118, 14124, 14128, 14129, 14130, 14131, 14135, 14139, 14141, 14142, 14143, 14145, 14147, 14148, 14149, 14150, 14151, 14152, 14153, 14155, 14156, 14159, 14161, 14162, 14163, 14166, 14167, 14168, 14170, 14172, 14173, 14174, 14175, 14177, 14178, 14179, 14180, 14181, 14185, 14186, 14190, 14191, 14193, 14194, 14195, 14196, 14197, 14198, 14200, 14203, 14204, 14205, 14207, 14208, 14209, 14210, 14211, 14214, 14215, 14216, 14217, 14219, 14222, 14223, 14224, 14225, 14226, 14227, 14228, 14230, 14231, 14233, 14234, 14235, 14238, 14240, 14241, 14242, 14243, 14244, 14246, 14249, 14250, 14251, 14253, 14254, 14257, 14258, 14259, 14260, 14261, 14263, 14264, 14265, 14266, 14267, 14268, 14269, 14270, 14274, 14275, 14276, 14277, 14279, 14284, 14287, 14289, 14290, 14292, 14293, 14294, 14295, 14296, 14298, 14299, 14300, 14302, 14307, 14308, 14309, 14310, 14311, 14314, 14316, 14317, 14320, 14321, 14323, 14324, 14325, 14327, 14328, 14329, 14330, 14331, 14332, 14334, 14335, 14336, 14338, 14339, 14340, 14341, 14344, 14345, 14346, 14347, 14348, 14350, 14351, 14355, 14356, 14358, 14359, 14360, 14362, 14364, 14367, 14369, 14371, 14372, 14373, 14374, 14375, 14376, 14377, 14378, 14379, 14380, 14381, 14382, 14389, 14392, 14394, 14395, 14397, 14398, 14400, 14401, 14403, 14404, 14407, 14408, 14409, 14411, 14413, 14414, 14415, 14418, 14419, 14421, 14422, 14426, 14428, 14429, 14430, 14431, 14432, 14433, 14434, 14435, 14436, 14437, 14438, 14441, 14447, 14448, 14449, 14451, 14452, 14453, 14454, 14455, 14456, 14457, 14458, 14459, 14460, 14462, 14463, 14465, 14466, 14467, 14468, 14469, 14470, 14471, 14472, 14473, 14474, 14476, 14477, 14479, 14481, 14483, 14484, 14485, 14486, 14487, 14488, 14489, 14492, 14494, 14496, 14497, 14498, 14501, 14502, 14504, 14505, 14506, 14507, 14509, 14510, 14511, 14512, 14513, 14514, 14515, 14516, 14517, 14519, 14521, 14523, 14524, 14525, 14527, 14529, 14530, 14532, 14535, 14536, 14539, 14541, 14542, 14545, 14546, 14547, 14550, 14551, 14552, 14553, 14555, 14557, 14559, 14560, 14561, 14564, 14565, 14567, 14569, 14570, 14572, 14573, 14574, 14575, 14576, 14577, 14578, 14579, 14581, 14583, 14586, 14587, 14588, 14589, 14590, 14591, 14592, 14593, 14595, 14596, 14599, 14600, 14601, 14603, 14606, 14607, 14608, 14609, 14610, 14613, 14618, 14620, 14621, 14622, 14623, 14625, 14626, 14629, 14630, 14631, 14632, 14633, 14634, 14635, 14636, 14638, 14639, 14640, 14642, 14643, 14645, 14646, 14647, 14649, 14650, 14652, 14653, 14654, 14656, 14657, 14659, 14660, 14661, 14662, 14663, 14664, 14667, 14668, 14669, 14671, 14673, 14674, 14676, 14677, 14678, 14679, 14680, 14681, 14682, 14683, 14684, 14685, 14687, 14688, 14689, 14690, 14691, 14693, 14695, 14697, 14698, 14699, 14700, 14701, 14702, 14703, 14704, 14705, 14706, 14707, 14708, 14710, 14711, 14712, 14715, 14716, 14718, 14720, 14721, 14722, 14726, 14728, 14729, 14730, 14734, 14735, 14737, 14738, 14739, 14741, 14745, 14746, 14747, 14748, 14749, 14752, 14753, 14755, 14758, 14761, 14762, 14764, 14769, 14772, 14773, 14774, 14775, 14777, 14781, 14782, 14783, 14785, 14788, 14789, 14790, 14792, 14793, 14794, 14796, 14799, 14800, 14801, 14802, 14807, 14808, 14812, 14815, 14816, 14818, 14819, 14820, 14822, 14823, 14826, 14827, 14828, 14830, 14832, 14834, 14835, 14836, 14837, 14839, 14840, 14841, 14842, 14844, 14845, 14847, 14848, 14849, 14851, 14852, 14855, 14857, 14858, 14859, 14862, 14865, 14867, 14869, 14870, 14871, 14874, 14875, 14876, 14877, 14879, 14880, 14881, 14884, 14885, 14886, 14887, 14888, 14889, 14890, 14891, 14893, 14895, 14896, 14897, 14899, 14901, 14904, 14905, 14906, 14909, 14910, 14911, 14912, 14913, 14915, 14916, 14917, 14918, 14919, 14921, 14924, 14929, 14930, 14932, 14934, 14935, 14936, 14937, 14938, 14939, 14942, 14943, 14944, 14948, 14949, 14950, 14954, 14955, 14956, 14958, 14960, 14961, 14963, 14964, 14967, 14968, 14969, 14970, 14974, 14976, 14981, 14983, 14987, 14988, 14989, 14993, 14994, 14996, 14997, 14999, 15000, 15001, 15004, 15006, 15008, 15009, 15012, 15013, 15015, 15020, 15021, 15025, 15026, 15027, 15028, 15036, 15038, 15039, 15040, 15042, 15045, 15046, 15048, 15052, 15053, 15058, 15059, 15063, 15064, 15065, 15066, 15067, 15068, 15069, 15071, 15073, 15077, 15079, 15082, 15084, 15090, 15092, 15093, 15095, 15096, 15097, 15098, 15099, 15101, 15102, 15103, 15104, 15106, 15107, 15108, 15111, 15112, 15116, 15117, 15121, 15124, 15125, 15126, 15131, 15132, 15133, 15134, 15135, 15136, 15138, 15139, 15140, 15141, 15142, 15145, 15146, 15149, 15150, 15152, 15155, 15157, 15158, 15161, 15163, 15165, 15168, 15169, 15172, 15173, 15176, 15177, 15178, 15179, 15180, 15182, 15184, 15185, 15187, 15188, 15190, 15191, 15192, 15193, 15195, 15198, 15202, 15203, 15205, 15207, 15208, 15209, 15210, 15211, 15213, 15214, 15215, 15217, 15219, 15224, 15225, 15227, 15237, 15238, 15239, 15240, 15241, 15242, 15244, 15246, 15250, 15251, 15252, 15253, 15254, 15255, 15257, 15258, 15260, 15261, 15262, 15263, 15265, 15268, 15269, 15270, 15272, 15273, 15278, 15279, 15281, 15283, 15284, 15285, 15287, 15288, 15289, 15290, 15291, 15293, 15294, 15295, 15296, 15298, 15299, 15300, 15301, 15303, 15304, 15306, 15307, 15313, 15314, 15318, 15320, 15321, 15322, 15323, 15324, 15325, 15326, 15327, 15328, 15329, 15330, 15333, 15334, 15335, 15336, 15338, 15339, 15340, 15342, 15343, 15345, 15346, 15347, 15348, 15350, 15351, 15352, 15354, 15356, 15357, 15358, 15362, 15364, 15365, 15367, 15368, 15369, 15370, 15371, 15372, 15375, 15376, 15378, 15380, 15381, 15383, 15384, 15385, 15386, 15387, 15389, 15391, 15393, 15394, 15396, 15397, 15398, 15399, 15402, 15403, 15404, 15406, 15407, 15409, 15410, 15411, 15412, 15414, 15415, 15417, 15418, 15419, 15420, 15421, 15423, 15425, 15427, 15430, 15432, 15434, 15438, 15439, 15441, 15442, 15443, 15444, 15445, 15449, 15450, 15452, 15454, 15455, 15456, 15457, 15458, 15460, 15462, 15463, 15464, 15465, 15466, 15467, 15469, 15470, 15471, 15472, 15473, 15475, 15477, 15479, 15480, 15485, 15488, 15491, 15492, 15495, 15499, 15500, 15502, 15505, 15506, 15508, 15509, 15510, 15511, 15513, 15516, 15519, 15521, 15522, 15525, 15526, 15529, 15531, 15532, 15533, 15534, 15535, 15536, 15537, 15539, 15541, 15543, 15544, 15547, 15549, 15552, 15554, 15555, 15559, 15561, 15564, 15566, 15569, 15570, 15575, 15581, 15582, 15584, 15586, 15589, 15591, 15592, 15593, 15594, 15596, 15597, 15602, 15603, 15605, 15610, 15611, 15612, 15613, 15614, 15617, 15620, 15621, 15624, 15625, 15626, 15627, 15628, 15629, 15631, 15632, 15634, 15635, 15636, 15637, 15638, 15639, 15641, 15642, 15643, 15644, 15645, 15647, 15649, 15650, 15651, 15652, 15654, 15656, 15658, 15660, 15663, 15664, 15665, 15666, 15667, 15668, 15669, 15670, 15671, 15672, 15673, 15675, 15676, 15677, 15678, 15679, 15683, 15684, 15685, 15687, 15691, 15694, 15695, 15696, 15697, 15699, 15701, 15702, 15703, 15704, 15706, 15707, 15709, 15711, 15712, 15713, 15715, 15716, 15718, 15719, 15721, 15722, 15725, 15726, 15729, 15730, 15732, 15733, 15736, 15737, 15738, 15739, 15743, 15744, 15745, 15746, 15747, 15748, 15749, 15751, 15752, 15753, 15754, 15755, 15756, 15758, 15759, 15760, 15761, 15763, 15764, 15766, 15769, 15771, 15773, 15774, 15777, 15778, 15779, 15782, 15784, 15785, 15786, 15787, 15788, 15789, 15793, 15794, 15795, 15797, 15798, 15800, 15802, 15803, 15805, 15807, 15808, 15810, 15811, 15812, 15814, 15816, 15817, 15818, 15819, 15820, 15821, 15822, 15823, 15824, 15825, 15828, 15830, 15836, 15837, 15838, 15839, 15843, 15845, 15847, 15848, 15850, 15851, 15852, 15854, 15858, 15860, 15863, 15864, 15865, 15866, 15867, 15869, 15870, 15871, 15874, 15877, 15878, 15879, 15881, 15882, 15883, 15884, 15885, 15886, 15887, 15888, 15889, 15890, 15891, 15892, 15897, 15900, 15901, 15908, 15911, 15912, 15913, 15914, 15915, 15916, 15917, 15918, 15919, 15922, 15924, 15928, 15929, 15931, 15932, 15933, 15934, 15935, 15939, 15940, 15941, 15942, 15944, 15945, 15946, 15948, 15949, 15950, 15952, 15953, 15956, 15958, 15959, 15960, 15961, 15963, 15964, 15965, 15966, 15969, 15970, 15971, 15973, 15974, 15976, 15977, 15978, 15980, 15982, 15984, 15985, 15986, 15987, 15989, 15990, 15991, 15995, 16001, 16002, 16003, 16004, 16006, 16007, 16008, 16009, 16010, 16012, 16014, 16016, 16017, 16019, 16020, 16021, 16023, 16027, 16028, 16029, 16030, 16031, 16033, 16035, 16036, 16037, 16038, 16039, 16040, 16041, 16042, 16044, 16046, 16050, 16051, 16052, 16053, 16054, 16055, 16058, 16061, 16062, 16063, 16064, 16067, 16068, 16069, 16070, 16071, 16072, 16079, 16083, 16084, 16085, 16086, 16087, 16088, 16089, 16091, 16092, 16093, 16096, 16097, 16098, 16099, 16102, 16104, 16105, 16106, 16109, 16112, 16113, 16115, 16116, 16117, 16118, 16119, 16121, 16127, 16131, 16133, 16135, 16137, 16138, 16139, 16140, 16141, 16142, 16143, 16144, 16145, 16147, 16149, 16150, 16151, 16152, 16153, 16154, 16155, 16156, 16157, 16158, 16159, 16162, 16163, 16164, 16166, 16167, 16168, 16173, 16175, 16179, 16181, 16183, 16184, 16187, 16188, 16189, 16193, 16194, 16195, 16196, 16198, 16199, 16201, 16202, 16203, 16204, 16205, 16209, 16210, 16211, 16213, 16214, 16217, 16218, 16219, 16222, 16223, 16225, 16229, 16230, 16231, 16236, 16238, 16241, 16242, 16243, 16245, 16247, 16248, 16249, 16250, 16251, 16260, 16261, 16262, 16264, 16267, 16268, 16269, 16271, 16272, 16273, 16274, 16275, 16277, 16279, 16281, 16288, 16290, 16291, 16293, 16294, 16298, 16299, 16300, 16301, 16303, 16307, 16308, 16309, 16310, 16311, 16313, 16314, 16315, 16317, 16319, 16324, 16326, 16327, 16329, 16330, 16331, 16333, 16335, 16336, 16337, 16338, 16340, 16341, 16343, 16344, 16345, 16346, 16348, 16349, 16350, 16351, 16355, 16356, 16359, 16361, 16362, 16364, 16365, 16366, 16367, 16369, 16371, 16372, 16374, 16375, 16377, 16378, 16379, 16384, 16385, 16386, 16387, 16388, 16391, 16392, 16394, 16395, 16396, 16398, 16402, 16405, 16411, 16413, 16417, 16418, 16419, 16420, 16423, 16424, 16426, 16428, 16429, 16430, 16433, 16434, 16435, 16436, 16437, 16439, 16440, 16441, 16442, 16443, 16444, 16445, 16446, 16447, 16449, 16450, 16451, 16452, 16453, 16454, 16455, 16456, 16458, 16460, 16461, 16463, 16464, 16465, 16466, 16468, 16469, 16470, 16471, 16472, 16473, 16474, 16475, 16476, 16477, 16480, 16481, 16482, 16484, 16485, 16486, 16487, 16488, 16491, 16492, 16493, 16494, 16495, 16496, 16498, 16499, 16500, 16501, 16503, 16504, 16505, 16506, 16508, 16510, 16511, 16512, 16513, 16514, 16515, 16516, 16517, 16518, 16520, 16521, 16522, 16523, 16525, 16526, 16528, 16531, 16532, 16534, 16536, 16539, 16544, 16545, 16547, 16548, 16551, 16552, 16554, 16556, 16558, 16559, 16560, 16563, 16566, 16567, 16569, 16570, 16571, 16572, 16573, 16574, 16576, 16577, 16578, 16579, 16582, 16583, 16585, 16586, 16588, 16591, 16592, 16593, 16594, 16595, 16596, 16597, 16598, 16601, 16602, 16603, 16604, 16605, 16606, 16607, 16608, 16612, 16613, 16614, 16615, 16617, 16618, 16619, 16621, 16622, 16623, 16624, 16627, 16628, 16631, 16632, 16634, 16635, 16637, 16638, 16639, 16642, 16643, 16645, 16647, 16650, 16659, 16662, 16663, 16669, 16670, 16672, 16673, 16677, 16678, 16679, 16680, 16683, 16684, 16685, 16687, 16688, 16691, 16692, 16693, 16695, 16697, 16701, 16702, 16703, 16704, 16705, 16706, 16708, 16709, 16710, 16711, 16714, 16716, 16717, 16718, 16719, 16720, 16723, 16724, 16725, 16726, 16727, 16728, 16729, 16734, 16735, 16737, 16738, 16739, 16740, 16741, 16742, 16743, 16746, 16748, 16749, 16750, 16751, 16752, 16756, 16757, 16759, 16760, 16763, 16764, 16765, 16766, 16767, 16770, 16771, 16772, 16773, 16774, 16778, 16781, 16782, 16783, 16785, 16786, 16787, 16788, 16789, 16791, 16793, 16794, 16800, 16801, 16802, 16807, 16814, 16816, 16818, 16819, 16822, 16823, 16826, 16829, 16830, 16831, 16834, 16837, 16838, 16840, 16842, 16843, 16846, 16851, 16853, 16854, 16855, 16856, 16858, 16860, 16861, 16862, 16863, 16865, 16866, 16867, 16869, 16871, 16873, 16874, 16875, 16876, 16877, 16879, 16881, 16882, 16884, 16885, 16886, 16887, 16888, 16890, 16891, 16892, 16895, 16897, 16898, 16900, 16901, 16902, 16903, 16905, 16912, 16913, 16914, 16915, 16916, 16918, 16919, 16922, 16923, 16924, 16926, 16927, 16929, 16931, 16932, 16933, 16934, 16937, 16939, 16942, 16943, 16944, 16947, 16948, 16950, 16951, 16952, 16955, 16958, 16959, 16960, 16961, 16962, 16964, 16966, 16967, 16968, 16969, 16973, 16975, 16976, 16977, 16978, 16979, 16980, 16981, 16982, 16983, 16984, 16985, 16988, 16990, 16991, 16992, 16994, 16996, 16998, 17000, 17001, 17003, 17004, 17006, 17011, 17012, 17013, 17014, 17015, 17016, 17017, 17019, 17021, 17022, 17023, 17025, 17026, 17029, 17031, 17032, 17033, 17035, 17036, 17037, 17038, 17041, 17042, 17043, 17045, 17046, 17047, 17050, 17051, 17052, 17053, 17054, 17055, 17056, 17057, 17060, 17061, 17064, 17065, 17066, 17067, 17071, 17072, 17074, 17075, 17076, 17077, 17078, 17080, 17081, 17084, 17085, 17091, 17092, 17094, 17095, 17097, 17098, 17099, 17100, 17101, 17102, 17103, 17104, 17106, 17107, 17108, 17109, 17110, 17111, 17112, 17117, 17119, 17121, 17123, 17125, 17126, 17127, 17128, 17129, 17131, 17134, 17135, 17136, 17137, 17138, 17140, 17143, 17147, 17151, 17153, 17154, 17155, 17156, 17160, 17161, 17162, 17164, 17165, 17166, 17168, 17170, 17171, 17172, 17173, 17174, 17176, 17178, 17179, 17180, 17181, 17184, 17185, 17187, 17188, 17191, 17194, 17198, 17199, 17200, 17201, 17202, 17204, 17205, 17207, 17208, 17209, 17210, 17212, 17213, 17214, 17216, 17217, 17219, 17220, 17221, 17223, 17224, 17230, 17233, 17235, 17237, 17239, 17240, 17241, 17243, 17244, 17247, 17254, 17256, 17257, 17258, 17260, 17265, 17267, 17269, 17270, 17274, 17275, 17278, 17281, 17282, 17283, 17288, 17289, 17296, 17297, 17298, 17300, 17301, 17303, 17304, 17306, 17308, 17309, 17310, 17311, 17314, 17317, 17318, 17319, 17320, 17321, 17322, 17323, 17325, 17326, 17327, 17328, 17329, 17330, 17331, 17332, 17334, 17335, 17336, 17337, 17339, 17340, 17341, 17342, 17346, 17348, 17350, 17354, 17355, 17356, 17357, 17363, 17364, 17368, 17369, 17372, 17375, 17379, 17380, 17381, 17383, 17386, 17389, 17391, 17392, 17394, 17395, 17396, 17398, 17399, 17403, 17406, 17407, 17411, 17412, 17413, 17414, 17416, 17417, 17418, 17420, 17422, 17424, 17425, 17426, 17427, 17428, 17430, 17432, 17433, 17434, 17439, 17440, 17441, 17443, 17446, 17447, 17448, 17449, 17451, 17452, 17453, 17454, 17455, 17456, 17457, 17460, 17461, 17464, 17467, 17468, 17469, 17470, 17471, 17474, 17475, 17476, 17478, 17480, 17482, 17483, 17484, 17485, 17486, 17487, 17490, 17492, 17495, 17496, 17497, 17498, 17499, 17500, 17501, 17502, 17503, 17504, 17506, 17507, 17510, 17511, 17512, 17513, 17514, 17515, 17517, 17518, 17519, 17522, 17523, 17525, 17528, 17529, 17531, 17532, 17533, 17534, 17535, 17537, 17538, 17540, 17541, 17542, 17544, 17547, 17550, 17553, 17554, 17555, 17556, 17557, 17558, 17560, 17561, 17564, 17567, 17568, 17569, 17570, 17571, 17574, 17575, 17577, 17579, 17580, 17581, 17582, 17583, 17584, 17585, 17587, 17588, 17589, 17593, 17596, 17598, 17601, 17603, 17604, 17605, 17606, 17609, 17610, 17611, 17612, 17613, 17614, 17615, 17616, 17617, 17618, 17619, 17620, 17621, 17622, 17624, 17625, 17626, 17629, 17630, 17632, 17635, 17636, 17638, 17642, 17643, 17644, 17645, 17646, 17649, 17650, 17654, 17657, 17662, 17663, 17664, 17667, 17668, 17671, 17672, 17673, 17676, 17677, 17680, 17684, 17685, 17686, 17688, 17689, 17690, 17691, 17692, 17693, 17696, 17697, 17699, 17701, 17702, 17703, 17707, 17708, 17711, 17712, 17713, 17715, 17717, 17718, 17719, 17721, 17722, 17723, 17725, 17726, 17727, 17728, 17729, 17730, 17733, 17734, 17737, 17738, 17742, 17744, 17746, 17748, 17749, 17750, 17753, 17754, 17755, 17756, 17757, 17758, 17759, 17760, 17761, 17764, 17765, 17767, 17770, 17772, 17773, 17775, 17776, 17777, 17778, 17779, 17780, 17783, 17788, 17790, 17792, 17793, 17794, 17795, 17796, 17799, 17800, 17802, 17805, 17806, 17808, 17809, 17811, 17812, 17813, 17814, 17815, 17817, 17823, 17824, 17825, 17826, 17827, 17828, 17829, 17831, 17833, 17834, 17835, 17837, 17840, 17843, 17844, 17848, 17851, 17854, 17856, 17860, 17861, 17863, 17864, 17865, 17867, 17868, 17870, 17871, 17872, 17873, 17879, 17880, 17881, 17883, 17884, 17885, 17887, 17889, 17890, 17891, 17894, 17895, 17896, 17897, 17898, 17899, 17900, 17901, 17902, 17903, 17904, 17905, 17906, 17907, 17908, 17909, 17910, 17911, 17913, 17916, 17918, 17919, 17920, 17923, 17925, 17932, 17936, 17937, 17938, 17939, 17940, 17941, 17944, 17945, 17946, 17947, 17948, 17949, 17951, 17953, 17954, 17955, 17956, 17958, 17960, 17964, 17966, 17967, 17968, 17978, 17980, 17981, 17983, 17985, 17986, 17987, 17989, 17990, 17991, 17992, 17993, 17995, 17996, 17997, 17998, 17999, 18000, 18001, 18002, 18005, 18008, 18009, 18010, 18011, 18012, 18013, 18015, 18019, 18021, 18023, 18025, 18026, 18027, 18028, 18029, 18031, 18033, 18034, 18037, 18038, 18039, 18040, 18041, 18042, 18043, 18044, 18045, 18046, 18047, 18049, 18050, 18051, 18053, 18055, 18056, 18057, 18059, 18061, 18064, 18066, 18067, 18069, 18074, 18075, 18076, 18080, 18082, 18088, 18089, 18090, 18091, 18093, 18098, 18099, 18100, 18101, 18102, 18103, 18106, 18107, 18108, 18109, 18110, 18112, 18113, 18114, 18115, 18116, 18120, 18122, 18123, 18125, 18126, 18127, 18130, 18131, 18133, 18134, 18138, 18143, 18144, 18146, 18147, 18149, 18150, 18152, 18153, 18154, 18155, 18157, 18159, 18160, 18161, 18162, 18163, 18166, 18167, 18169, 18170, 18172, 18175, 18176, 18177, 18178, 18179, 18181, 18183, 18186, 18187, 18188, 18189, 18191, 18192, 18196, 18197, 18198, 18199, 18201, 18203, 18206, 18207, 18209, 18213, 18214, 18218, 18219, 18222, 18224, 18225, 18227, 18228, 18231, 18232, 18234, 18235, 18238, 18239, 18242, 18243, 18247, 18249, 18250, 18251, 18254, 18256, 18258, 18260, 18261, 18262, 18266, 18267, 18270, 18274, 18275, 18276, 18280, 18281, 18282, 18285, 18287, 18290, 18291, 18294, 18297, 18301, 18302, 18303, 18305, 18306, 18307, 18308, 18311, 18313, 18314, 18315, 18316, 18318, 18320, 18321, 18322, 18325, 18328, 18329, 18332, 18333, 18336, 18338, 18339, 18340, 18341, 18343, 18345, 18347, 18348, 18351, 18353, 18355, 18358, 18359, 18361, 18362, 18367, 18368, 18370, 18372, 18373, 18374, 18376, 18380, 18384, 18385, 18386, 18387, 18388, 18389, 18391, 18392, 18394, 18395, 18397, 18399, 18400, 18401, 18402, 18403, 18404, 18405, 18407, 18408, 18409, 18410, 18411, 18412, 18414, 18415, 18416, 18417, 18418, 18420, 18424, 18425, 18426, 18427, 18429, 18430, 18431, 18433, 18435, 18436, 18438, 18439, 18440, 18441, 18442, 18446, 18447, 18448, 18450, 18451, 18453, 18455, 18458, 18459, 18460, 18461, 18464, 18465, 18467, 18470, 18473, 18474, 18475, 18477, 18478, 18479, 18480, 18482, 18483, 18486, 18487, 18489, 18490, 18491, 18494, 18496, 18497, 18498, 18499, 18500, 18503, 18504, 18505, 18506, 18508, 18509, 18511, 18513, 18515, 18516, 18517, 18518, 18520, 18522, 18523, 18528, 18529, 18533, 18535, 18536, 18537, 18538, 18539, 18540, 18542, 18544, 18545, 18546, 18547, 18554, 18555, 18557, 18559, 18560, 18561, 18562, 18563, 18564, 18566, 18567, 18568, 18570, 18571, 18572, 18574, 18575, 18576, 18577, 18583, 18584, 18585, 18586, 18587, 18593, 18596, 18597, 18599, 18600, 18601, 18602, 18604, 18605, 18607, 18609, 18610, 18612, 18613, 18614, 18615, 18616, 18619, 18621, 18623, 18627, 18628, 18629, 18632, 18634, 18635, 18639, 18640, 18644, 18646, 18649, 18650, 18652, 18653, 18658, 18659, 18660, 18662, 18664, 18667, 18668, 18670, 18672, 18673, 18674, 18675, 18676, 18679, 18681, 18683, 18685, 18688, 18689, 18690, 18692, 18694, 18695, 18698, 18699, 18700, 18701, 18702, 18707, 18709, 18711, 18713, 18714, 18716, 18718, 18720, 18721, 18723, 18724, 18725, 18726, 18727, 18728, 18731, 18735, 18739, 18745, 18747, 18750, 18754, 18755, 18760, 18763, 18764, 18766, 18767, 18768, 18769, 18770, 18772, 18778, 18779, 18782, 18786, 18787, 18788, 18790, 18792, 18793, 18795, 18796, 18797, 18799, 18802, 18803, 18804, 18806, 18807, 18808, 18810, 18811, 18812, 18813, 18815, 18816, 18818, 18820, 18821, 18822, 18828, 18834, 18836, 18838, 18840, 18842, 18843, 18846, 18848, 18849, 18850, 18851, 18852, 18854, 18857, 18858, 18859, 18860, 18862, 18863, 18864, 18865, 18866, 18867, 18870, 18871, 18872, 18873, 18874, 18875, 18876, 18877, 18878, 18879, 18882, 18883, 18888, 18890, 18891, 18892, 18893, 18895, 18897, 18898, 18899, 18900, 18905, 18906, 18908, 18911, 18912, 18913, 18915, 18916, 18917, 18920, 18921, 18922, 18923, 18926, 18928, 18929, 18930, 18931, 18932, 18935, 18938, 18943, 18944, 18948, 18949, 18952, 18953, 18957, 18958, 18959, 18961, 18962, 18964, 18968, 18970, 18972, 18973, 18974, 18978, 18981, 18982, 18983, 18984, 18985, 18986, 18988, 18991, 18992, 18994, 18996, 18997, 19000, 19004, 19005, 19006, 19007, 19009, 19010, 19012, 19013, 19014, 19016, 19017, 19020, 19022, 19023, 19024, 19027, 19028, 19030, 19031, 19032, 19034, 19035, 19036, 19037, 19039, 19040, 19042, 19045, 19048, 19049, 19050, 19054, 19055, 19056, 19058, 19059, 19061, 19062, 19063, 19064, 19065, 19066, 19067, 19068, 19069, 19072, 19073, 19076, 19077, 19078, 19080, 19081, 19082, 19083, 19084, 19086, 19087, 19088, 19089, 19090, 19091, 19094, 19095, 19096, 19097, 19100, 19102, 19105, 19106, 19109, 19111, 19113, 19114, 19117, 19118, 19121, 19122, 19125, 19126, 19127, 19128, 19129, 19131, 19134, 19135, 19136, 19137, 19138, 19139, 19141, 19142, 19144, 19145, 19146, 19148, 19150, 19151, 19152, 19154, 19156, 19157, 19158, 19159, 19160, 19161, 19163, 19164, 19166, 19168, 19169, 19170, 19171, 19172, 19173, 19174, 19175, 19176, 19178, 19179, 19180, 19184, 19186, 19190, 19192, 19193, 19195, 19196, 19197, 19199, 19200, 19201, 19202, 19204, 19206, 19207, 19208, 19209, 19210, 19213, 19214, 19215, 19216, 19218, 19219, 19222, 19224, 19225, 19229, 19231, 19232, 19233, 19236, 19237, 19238, 19239, 19241, 19244, 19245, 19246, 19247, 19249, 19252, 19257, 19258, 19259, 19260, 19262, 19263, 19264, 19269, 19271, 19272, 19274, 19276, 19280, 19281, 19283, 19285, 19286, 19287, 19288, 19290, 19292, 19293, 19299, 19306, 19307, 19309, 19314, 19316, 19319, 19321, 19323, 19325, 19326, 19327, 19328, 19329, 19330, 19331, 19333, 19335, 19336, 19337, 19338, 19339, 19342, 19344, 19346, 19348, 19349, 19351, 19352, 19355, 19357, 19358, 19359, 19361, 19362, 19363, 19364, 19366, 19367, 19368, 19369, 19372, 19373, 19374, 19377, 19378, 19379, 19382, 19383, 19384, 19385, 19386, 19388, 19390, 19391, 19394, 19396, 19397, 19398, 19399, 19400, 19402, 19407, 19408, 19410, 19411, 19412, 19414, 19418, 19419, 19422, 19423, 19424, 19425, 19428, 19431, 19433, 19434, 19436, 19438, 19439, 19441, 19443, 19444, 19446, 19448, 19449, 19450, 19451, 19452, 19453, 19454, 19455, 19456, 19459, 19460, 19461, 19462, 19463, 19464, 19465, 19466, 19468, 19469, 19470, 19471, 19474, 19476, 19479, 19480, 19483, 19484, 19485, 19487, 19489, 19490, 19492, 19493, 19494, 19496, 19497, 19501, 19503, 19505, 19511, 19514, 19515, 19517, 19518, 19519, 19520, 19521, 19522, 19523, 19525, 19526, 19527, 19533, 19534, 19541, 19542, 19546, 19550, 19552, 19553, 19557, 19560, 19561, 19562, 19563, 19564, 19565, 19566, 19567, 19570, 19572, 19577, 19578, 19582, 19583, 19584, 19585, 19586, 19587, 19588, 19589, 19590, 19592, 19594, 19595, 19597, 19598, 19599, 19600, 19601, 19602, 19604, 19605, 19607, 19608, 19610, 19611, 19613, 19617, 19618, 19620, 19621, 19622, 19624, 19625, 19626, 19627, 19628, 19629, 19630, 19632, 19633, 19636, 19637, 19638, 19639, 19641, 19642, 19645, 19646, 19652, 19653, 19657, 19659, 19663, 19664, 19665, 19668, 19670, 19672, 19673, 19674, 19675, 19677, 19678, 19679, 19680, 19682, 19683, 19684, 19685, 19688, 19690, 19692, 19693, 19698, 19700, 19702, 19703, 19704, 19705, 19706, 19708, 19709, 19710, 19713, 19714, 19715, 19721, 19722, 19723, 19724, 19726, 19727, 19728, 19732, 19733, 19734, 19736, 19737, 19738, 19740, 19741, 19743, 19745, 19746, 19747, 19748, 19749, 19754, 19757, 19758, 19759, 19760, 19761, 19762, 19763, 19764, 19765, 19767, 19769, 19770, 19772, 19774, 19776, 19777, 19778, 19779, 19786, 19787, 19788, 19790, 19791, 19795, 19796, 19797, 19798, 19799, 19800, 19804, 19805, 19808, 19809, 19810, 19811, 19812, 19813, 19815, 19817, 19818, 19819, 19820, 19821, 19825, 19829, 19832, 19835, 19837, 19838, 19840, 19841, 19842, 19843, 19844, 19845, 19846, 19847, 19849, 19852, 19853, 19856, 19858, 19859, 19860, 19863, 19864, 19866, 19867, 19868, 19869, 19870, 19871, 19872, 19873, 19874, 19875, 19876, 19877, 19878, 19879, 19880, 19881, 19882, 19883, 19884, 19885, 19886, 19887, 19888, 19891, 19893, 19895, 19896, 19898, 19899, 19900, 19901, 19903, 19904, 19905, 19906, 19907, 19908, 19909, 19912, 19913, 19914, 19915, 19916, 19917, 19918, 19919, 19920, 19921, 19922, 19924, 19926, 19927, 19928, 19929, 19930, 19932, 19936, 19937, 19938, 19940, 19941, 19942, 19945, 19946, 19947, 19948, 19949, 19950, 19951, 19952, 19954, 19955, 19958, 19959, 19960, 19963, 19965, 19968, 19969, 19970, 19971, 19972, 19975, 19980, 19982, 19983, 19984, 19987, 19988, 19989, 19991, 19992, 19993, 19994, 19997, 19999, 20000, 20003, 20004, 20005, 20006, 20007, 20008, 20009, 20010, 20011, 20012, 20014, 20015, 20016, 20018, 20019, 20020, 20021, 20029, 20031, 20033, 20035, 20036, 20037, 20040, 20042, 20045, 20047, 20048, 20049, 20050, 20053, 20056, 20059, 20060, 20061, 20062, 20063, 20064, 20066, 20068, 20069, 20071, 20073, 20076, 20077, 20078, 20079, 20080, 20082, 20083, 20088, 20089, 20090, 20093, 20095, 20097, 20098, 20100, 20102, 20103, 20104, 20105, 20107, 20108, 20112, 20113, 20114, 20115, 20116, 20117, 20119, 20120, 20123, 20124, 20125, 20126, 20128, 20129, 20130, 20132, 20133, 20134, 20137, 20139, 20141, 20143, 20144, 20147, 20148, 20149, 20150, 20151, 20152, 20153, 20155, 20158, 20159, 20160, 20161, 20163, 20164, 20167, 20170, 20171, 20175, 20176, 20183, 20184, 20185, 20186, 20187, 20188, 20191, 20195, 20196, 20197, 20198, 20199, 20200, 20201, 20202, 20203, 20204, 20205, 20206, 20207, 20211, 20213, 20214, 20220, 20222, 20224, 20225, 20226, 20229, 20232, 20233, 20240, 20245, 20246, 20247, 20251, 20254, 20255, 20261, 20264, 20265, 20267, 20269, 20270, 20271, 20272, 20274, 20276, 20279, 20281, 20283, 20284, 20285, 20286, 20289, 20290, 20292, 20293, 20295, 20296, 20300, 20301, 20302, 20304, 20305, 20308, 20309, 20310, 20311, 20312, 20313, 20314, 20315, 20317, 20319, 20320, 20322, 20323, 20324, 20325, 20326, 20327, 20328, 20329, 20330, 20332, 20333, 20336, 20337, 20340, 20341, 20344, 20345, 20346, 20349, 20351, 20355, 20357, 20358, 20359, 20362, 20363, 20364, 20365, 20366, 20367, 20368, 20369, 20370, 20372, 20373, 20374, 20377, 20378, 20379, 20380, 20383, 20385, 20388, 20390, 20392, 20393, 20395, 20396, 20397, 20399, 20400, 20401, 20403, 20404, 20405, 20407, 20408, 20409, 20410, 20414, 20418, 20419, 20422, 20423, 20424, 20425, 20426, 20427, 20429, 20430, 20431, 20432, 20435, 20436, 20437, 20438, 20439, 20440, 20441, 20442, 20444, 20445, 20446, 20449, 20450, 20451, 20453, 20454, 20455, 20456, 20457, 20458, 20459, 20460, 20462, 20463, 20464, 20465, 20466, 20469, 20470, 20475, 20476, 20477, 20478, 20479, 20480, 20481, 20483, 20488, 20490, 20491, 20492, 20493, 20494, 20495, 20497, 20498, 20500, 20502, 20504, 20505, 20507, 20511, 20512, 20514, 20515, 20516, 20518, 20519, 20523, 20526, 20527, 20528, 20529, 20530, 20531, 20533, 20534, 20536, 20538, 20541, 20544, 20545, 20546, 20547, 20548, 20550, 20552, 20554, 20555, 20557, 20558, 20559, 20561, 20563, 20565, 20567, 20570, 20571, 20572, 20574, 20576, 20578, 20579, 20581, 20582, 20583, 20584, 20585, 20587, 20589, 20590, 20592, 20594, 20595, 20596, 20597, 20600, 20601, 20602, 20604, 20606, 20607, 20609, 20610, 20612, 20613, 20615, 20616, 20618, 20619, 20620, 20621, 20622, 20623, 20625, 20626, 20627, 20628, 20631, 20632, 20633, 20634, 20635, 20639, 20640, 20641, 20643, 20644, 20645, 20647, 20648, 20650, 20652, 20654, 20659, 20660, 20661, 20663, 20665, 20669, 20672, 20673, 20674, 20676, 20677, 20679, 20682, 20683, 20685, 20686, 20687, 20688, 20690, 20692, 20693, 20696, 20697, 20698, 20700, 20701, 20703, 20704, 20706, 20707, 20713, 20715, 20716, 20717, 20718, 20720, 20721, 20722, 20727, 20728, 20730, 20732, 20733, 20734, 20735, 20738, 20739, 20741, 20743, 20745, 20746, 20748, 20749, 20750, 20752, 20754, 20760, 20763, 20765, 20767, 20768, 20770, 20773, 20774, 20775, 20779, 20780, 20781, 20782, 20784, 20785, 20787, 20789, 20790, 20791, 20792, 20793, 20797, 20798, 20801, 20802, 20803, 20804, 20807, 20808, 20809, 20810, 20811, 20813, 20814, 20815, 20818, 20819, 20820, 20821, 20823, 20827, 20828, 20830, 20831, 20832, 20833, 20835, 20838, 20840, 20842, 20844, 20845, 20846, 20847, 20848, 20850, 20852, 20853, 20855, 20858, 20859, 20861, 20862, 20867, 20868, 20870, 20872, 20874, 20875, 20876, 20881, 20882, 20883, 20885, 20886, 20889, 20890, 20892, 20893, 20894, 20895, 20900, 20901, 20902, 20903, 20905, 20906, 20908, 20910, 20912, 20914, 20916, 20917, 20918, 20921, 20922, 20924, 20925, 20926, 20927, 20928, 20929, 20930, 20931, 20932, 20933, 20934, 20935, 20936, 20937, 20941, 20942, 20943, 20944, 20945, 20946, 20948, 20949, 20950, 20951, 20952, 20955, 20957, 20958, 20960, 20962, 20968, 20969, 20970, 20971, 20972, 20973, 20974, 20976, 20977, 20978, 20979, 20980, 20982, 20983, 20985, 20986, 20987, 20989, 20992, 20993, 20996, 20997, 20998, 20999, 21000, 21001, 21002, 21004, 21005, 21006, 21008, 21009, 21010, 21011, 21019, 21020, 21021, 21022, 21023, 21024, 21025, 21026, 21027, 21029, 21031, 21032, 21035, 21036, 21040, 21041, 21043, 21046, 21048, 21049, 21050, 21051, 21054, 21058, 21059, 21061, 21062, 21063, 21066, 21067, 21068, 21069, 21070, 21071, 21072, 21073, 21074, 21078, 21079, 21080, 21082, 21084, 21086, 21088, 21090, 21092, 21093, 21094, 21095, 21096, 21099, 21100, 21101, 21104, 21105, 21107, 21108, 21109, 21110, 21111, 21112, 21113, 21115, 21117, 21118, 21119, 21120, 21121, 21122, 21123, 21125, 21126, 21127, 21128, 21133, 21134, 21135, 21137, 21139, 21142, 21145, 21150, 21152, 21153, 21154, 21155, 21156, 21158, 21159, 21160, 21161, 21163, 21166, 21168, 21169, 21173, 21174, 21176, 21178, 21179, 21180, 21181, 21182, 21183, 21184, 21186, 21188, 21189, 21191, 21192, 21196, 21197, 21198, 21200, 21204, 21207, 21209, 21211, 21213, 21214, 21215, 21216, 21218, 21219, 21220, 21222, 21224, 21229, 21231, 21232, 21235, 21237, 21238, 21240, 21241, 21245, 21247, 21249, 21251, 21253, 21254, 21255, 21256, 21257, 21258, 21259, 21261, 21262, 21266, 21267, 21268, 21270, 21272, 21273, 21274, 21276, 21278, 21279, 21281, 21282, 21284, 21285, 21286, 21289, 21290, 21291, 21293, 21294, 21298, 21299, 21300, 21303, 21304, 21305, 21306, 21307, 21308, 21310, 21311, 21314, 21315, 21316, 21317, 21318, 21319, 21320, 21321, 21322, 21324, 21327, 21329, 21331, 21334, 21335, 21336, 21337, 21339, 21340, 21342, 21343, 21344, 21347, 21348, 21349, 21350, 21353, 21355, 21357, 21358, 21359, 21360, 21363, 21364, 21365, 21366, 21368, 21369, 21370, 21372, 21373, 21375, 21378, 21379, 21380, 21381, 21383, 21384, 21386, 21389, 21390, 21392, 21394, 21397, 21400, 21403, 21404, 21406, 21407, 21408, 21409, 21411, 21413, 21415, 21416, 21417, 21418, 21419, 21420, 21422, 21424, 21425, 21426, 21427, 21429, 21431, 21432, 21434, 21436, 21437, 21440, 21442, 21443, 21444, 21445, 21446, 21447, 21451, 21452, 21454, 21455, 21456, 21461, 21463, 21464, 21465, 21468, 21469, 21470, 21471, 21473, 21474, 21476, 21478, 21480, 21481, 21483, 21485, 21486, 21488, 21491, 21492, 21493, 21494, 21495, 21497, 21499, 21500, 21501, 21502, 21505, 21506, 21509, 21510, 21511, 21515, 21516, 21517, 21519, 21520, 21521, 21522, 21523, 21524, 21525, 21526, 21529, 21531, 21532, 21534, 21535, 21536, 21537, 21538, 21542, 21544, 21546, 21547, 21548, 21550, 21551, 21552, 21553, 21554, 21562, 21567, 21568, 21569, 21571, 21572, 21573, 21575, 21577, 21579, 21580, 21581, 21582, 21584, 21585, 21586, 21587, 21588, 21589, 21591, 21592, 21593, 21594, 21595, 21596, 21601, 21602, 21604, 21606, 21607, 21608, 21609, 21611, 21612, 21613, 21614, 21615, 21617, 21618, 21619, 21620, 21622, 21624, 21625, 21626, 21627, 21629, 21630, 21632, 21634, 21638, 21639, 21641, 21642, 21644, 21651, 21652, 21655, 21659, 21660, 21664, 21665, 21666, 21667, 21669, 21671, 21673, 21675, 21676, 21677, 21678, 21679, 21680, 21681, 21682, 21683, 21685, 21686, 21687, 21688, 21690, 21691, 21693, 21695, 21697, 21701, 21702, 21704, 21707, 21710, 21717, 21719, 21721, 21722, 21724, 21725, 21727, 21728, 21729, 21730, 21731, 21733, 21734, 21735, 21738, 21740, 21741, 21742, 21743, 21745, 21746, 21747, 21749, 21750, 21751, 21753, 21754, 21757, 21758, 21760, 21761, 21763, 21765, 21766, 21767, 21768, 21769, 21770, 21772, 21773, 21774, 21775, 21776, 21779, 21781, 21783, 21785, 21787, 21788, 21790, 21791, 21792, 21793, 21794, 21795, 21797, 21799, 21800, 21801, 21806, 21811, 21812, 21813, 21814, 21816, 21817, 21818, 21820, 21821, 21822, 21823, 21824, 21825, 21826, 21827, 21828, 21829, 21834, 21835, 21836, 21838, 21839, 21840, 21842, 21843, 21846, 21849, 21852, 21853, 21854, 21855, 21861, 21865, 21866, 21867, 21868, 21870, 21871, 21872, 21874, 21875, 21877, 21878, 21880, 21884, 21885, 21886, 21887, 21888, 21889, 21890, 21891, 21893, 21894, 21895, 21900, 21901, 21902, 21903, 21905, 21906, 21909, 21910, 21911, 21912, 21913, 21914, 21916, 21917, 21919, 21920, 21921, 21923, 21926, 21928, 21932, 21933, 21934, 21935, 21936, 21941, 21942, 21943, 21945, 21947, 21948, 21950, 21952, 21956, 21957, 21959, 21960, 21961, 21962, 21963, 21964, 21967, 21968, 21970, 21971, 21973, 21974, 21977, 21979, 21980, 21987, 21990, 21992, 21993, 21994, 21995, 21996, 21998, 21999, 22000, 22001, 22002, 22007, 22009, 22012, 22013, 22014, 22016, 22020, 22021, 22026, 22029, 22030, 22032, 22033, 22034, 22035, 22040, 22041, 22042, 22045, 22046, 22047, 22049, 22050, 22053, 22054, 22055, 22056, 22057, 22058, 22061, 22062, 22065, 22066, 22067, 22068, 22069, 22070, 22072, 22073, 22074, 22076, 22077, 22079, 22080, 22082, 22085, 22086, 22087, 22088, 22089, 22090, 22092, 22094, 22096, 22097, 22098, 22099, 22101, 22102, 22104, 22105, 22107, 22108, 22109, 22111, 22113, 22118, 22121, 22122, 22123, 22126, 22127, 22128, 22129, 22130, 22131, 22132, 22134, 22135, 22136, 22140, 22142, 22143, 22145, 22146, 22147, 22148, 22149, 22150, 22151, 22153, 22154, 22156, 22157, 22158, 22161, 22168, 22169, 22177, 22178, 22180, 22181, 22183, 22184, 22185, 22186, 22190, 22192, 22194, 22199, 22201, 22202, 22203, 22204, 22206, 22210, 22212, 22213, 22214, 22215, 22216, 22217, 22218, 22219, 22220, 22221, 22222, 22223, 22225, 22228, 22230, 22232, 22234, 22235, 22236, 22240, 22241, 22243, 22244, 22245, 22248, 22249, 22251, 22252, 22253, 22256, 22257, 22258, 22260, 22261, 22264, 22266, 22269, 22272, 22275, 22276, 22277, 22280, 22281, 22285, 22286, 22287, 22288, 22289, 22290, 22291, 22293, 22294, 22295, 22297, 22298, 22300, 22302, 22305, 22306, 22309, 22310, 22311, 22313, 22315, 22316, 22317, 22318, 22319, 22320, 22321, 22322, 22330, 22334, 22336, 22337, 22338, 22339, 22340, 22341, 22342, 22343, 22344, 22346, 22350, 22353, 22355, 22357, 22359, 22360, 22361, 22362, 22363, 22364, 22367, 22369, 22373, 22374, 22376, 22378, 22381, 22382, 22383, 22385, 22387, 22390, 22391, 22392, 22396, 22397, 22398, 22399, 22401, 22404, 22406, 22409, 22412, 22413, 22418, 22419, 22420, 22422, 22423, 22424, 22425, 22426, 22427, 22428, 22429, 22430, 22431, 22432, 22433, 22436, 22438, 22439, 22440, 22442, 22443, 22444, 22445, 22446, 22447, 22448, 22451, 22452, 22454, 22457, 22460, 22461, 22462, 22463, 22464, 22465, 22466, 22467, 22468, 22469, 22471, 22472, 22473, 22474, 22476, 22479, 22480, 22482, 22483, 22485, 22488, 22491, 22492, 22493, 22495, 22496, 22497, 22498, 22499, 22500, 22503, 22505, 22510, 22511, 22512, 22514, 22516, 22519, 22520, 22521, 22524, 22525, 22526, 22527, 22529, 22530, 22531, 22532, 22534, 22536, 22537, 22540, 22541, 22542, 22544, 22547, 22548, 22550, 22551, 22552, 22553, 22554, 22555, 22556, 22558, 22559, 22560, 22561, 22565, 22568, 22570, 22571, 22572, 22573, 22575, 22578, 22579, 22580, 22583, 22587, 22588, 22589, 22592, 22594, 22596, 22597, 22599, 22601, 22602, 22603, 22605, 22606, 22607, 22608, 22609, 22610, 22611, 22612, 22614, 22615, 22616, 22617, 22619, 22620, 22621, 22622, 22623, 22625, 22627, 22628, 22637, 22639, 22640, 22641, 22643, 22644, 22645, 22646, 22648, 22649, 22650, 22651, 22654, 22656, 22659, 22663, 22664, 22665, 22672, 22673, 22674, 22675, 22676, 22677, 22678, 22679, 22680, 22681, 22684, 22687, 22688, 22689, 22691, 22695, 22696, 22697, 22699, 22701, 22703, 22704, 22705, 22706, 22707, 22708, 22710, 22711, 22713, 22714, 22715, 22717, 22721, 22724, 22726, 22727, 22728, 22729, 22731, 22732, 22733, 22734, 22735, 22738, 22741, 22742, 22747, 22749, 22750, 22751, 22752, 22753, 22757, 22758, 22759, 22760, 22761, 22762, 22764, 22765, 22768, 22770, 22773, 22774, 22775, 22777, 22779, 22780, 22781, 22782, 22783, 22785, 22786, 22787, 22788, 22790, 22791, 22793, 22795, 22797, 22800, 22802, 22803, 22804, 22805, 22807, 22808, 22809, 22810, 22812, 22813, 22814, 22815, 22816, 22819, 22820, 22823, 22824, 22825, 22827, 22828, 22829, 22830, 22831, 22833, 22834, 22835, 22836, 22837, 22838, 22839, 22841, 22842, 22843, 22845, 22848, 22850, 22851, 22852, 22853, 22855, 22857, 22858, 22863, 22866, 22870, 22871, 22872, 22875, 22876, 22878, 22883, 22884, 22886, 22887, 22888, 22890, 22891, 22893, 22894, 22895, 22898, 22904, 22908, 22909, 22911, 22912, 22914, 22915, 22916, 22920, 22921, 22922, 22924, 22926, 22928, 22929, 22930, 22937, 22938, 22939, 22942, 22944, 22945, 22946, 22947, 22949, 22951, 22955, 22956, 22958, 22959, 22962, 22964, 22965, 22967, 22969, 22971, 22972, 22974, 22975, 22976, 22977, 22978, 22980, 22982, 22985, 22986, 22989, 22990, 22992, 22995, 22996, 22997, 22999, 23001, 23002, 23003, 23004, 23005, 23007, 23009, 23010, 23011, 23012, 23013, 23014, 23016, 23018, 23019, 23023, 23024, 23025, 23026, 23027, 23028, 23030, 23031, 23033, 23034, 23036, 23039, 23043, 23049, 23050, 23051, 23052, 23054, 23055, 23056, 23057, 23059, 23060, 23061, 23062, 23071, 23072, 23077, 23078, 23082, 23083, 23084, 23085, 23087, 23088, 23089, 23091, 23093, 23094, 23097, 23099, 23100, 23102, 23103, 23104, 23106, 23108, 23109, 23110, 23111, 23114, 23116, 23117, 23118, 23123, 23124, 23125, 23127, 23128, 23130, 23133, 23134, 23139, 23140, 23141, 23142, 23143, 23144, 23145, 23146, 23148, 23150, 23153, 23155, 23156, 23157, 23158, 23159, 23160, 23161, 23164, 23165, 23166, 23171, 23172, 23173, 23174, 23176, 23178, 23179, 23181, 23184, 23186, 23187, 23194, 23196, 23201, 23202, 23203, 23204, 23207, 23208, 23209, 23211, 23212, 23213, 23218, 23220, 23222, 23226, 23228, 23229, 23230, 23231, 23232, 23233, 23234, 23236, 23237, 23238, 23239, 23240, 23241, 23242, 23243, 23244, 23245, 23246, 23251, 23252, 23253, 23254, 23255, 23256, 23259, 23260, 23261, 23262, 23263, 23266, 23268, 23269, 23272, 23273, 23274, 23275, 23276, 23279, 23280, 23281, 23286, 23287, 23288, 23290, 23292, 23294, 23295, 23296, 23297, 23299, 23301, 23305, 23306, 23307, 23308, 23309, 23311, 23312, 23313, 23315, 23317, 23318, 23319, 23322, 23324, 23325, 23326, 23329, 23331, 23333, 23336, 23338, 23339, 23340, 23342, 23343, 23344, 23346, 23348, 23349, 23351, 23352, 23353, 23354, 23356, 23357, 23358, 23359, 23360, 23361, 23363, 23365, 23367, 23369, 23371, 23373, 23374, 23376, 23378, 23380, 23382, 23383, 23384, 23390, 23392, 23394, 23395, 23397, 23401, 23403, 23405, 23413, 23418, 23419, 23420, 23421, 23423, 23424, 23425, 23427, 23428, 23432, 23434, 23437, 23439, 23441, 23443, 23446, 23449, 23451, 23452, 23453, 23454, 23455, 23457, 23458, 23460, 23461, 23462, 23465, 23467, 23470, 23471, 23474, 23475, 23476, 23477, 23479, 23482, 23483, 23486, 23487, 23488, 23493, 23494, 23497, 23498, 23500, 23501, 23502, 23503, 23504, 23505, 23506, 23507, 23509, 23510, 23511, 23512, 23513, 23514, 23516, 23517, 23518, 23519, 23520, 23521, 23522, 23523, 23524, 23525, 23527, 23530, 23537, 23538, 23541, 23542, 23544, 23545, 23546, 23547, 23548, 23550, 23551, 23552, 23556, 23558, 23559, 23560, 23562, 23565, 23567, 23568, 23574, 23575, 23576, 23578, 23579, 23580, 23581, 23582, 23585, 23586, 23588, 23589, 23590, 23591, 23592, 23594, 23595, 23596, 23598, 23599, 23602, 23603, 23606, 23607, 23609, 23610, 23612, 23616, 23619, 23621, 23622, 23623, 23624, 23625, 23626, 23627, 23628, 23629, 23630, 23631, 23632, 23635, 23636, 23637, 23638, 23639, 23640, 23643, 23644, 23645, 23647, 23648, 23650, 23651, 23652, 23653, 23654, 23655, 23656, 23657, 23661, 23662, 23663, 23664, 23666, 23669, 23673, 23677, 23678, 23679, 23680, 23681, 23682, 23683, 23685, 23686, 23689, 23691, 23692, 23693, 23694, 23695, 23697, 23698, 23700, 23701, 23703, 23704, 23705, 23706, 23710, 23712, 23716, 23717, 23718, 23719, 23721, 23722, 23723, 23724, 23725, 23726, 23728, 23729, 23730, 23732, 23737, 23741, 23742, 23743, 23744, 23745, 23746, 23747, 23750, 23751, 23752, 23753, 23755, 23757, 23758, 23760, 23761, 23762, 23763, 23764, 23765, 23767, 23770, 23771, 23773, 23775, 23776, 23777, 23778, 23779, 23780, 23783, 23787, 23788, 23790, 23791, 23793, 23794, 23795, 23796, 23799, 23800, 23805, 23806, 23809, 23811, 23813, 23816, 23818, 23819, 23820, 23821, 23822, 23824, 23825, 23831, 23832, 23833, 23835, 23840, 23842, 23843, 23845, 23846, 23847, 23848, 23850, 23851, 23853, 23855, 23857, 23858, 23860, 23861, 23863, 23866, 23867, 23868, 23869, 23871, 23873, 23874, 23875, 23877, 23878, 23879, 23880, 23882, 23886, 23887, 23888, 23890, 23891, 23892, 23894, 23897, 23898, 23899, 23900, 23903, 23905, 23906, 23907, 23909, 23910, 23911, 23912, 23913, 23914, 23915, 23918, 23920, 23924, 23925, 23927, 23928, 23929, 23931, 23933, 23936, 23938, 23939, 23940, 23941, 23944, 23946, 23948, 23952, 23954, 23956, 23958, 23959, 23960, 23962, 23964, 23965, 23968, 23969, 23970, 23972, 23973, 23974, 23977, 23979, 23980, 23981, 23983, 23984, 23985, 23986, 23987, 23988, 23990, 23993, 23995, 23996, 24004, 24005, 24006, 24007, 24009, 24010, 24012, 24013, 24014, 24017, 24018, 24019, 24020, 24021, 24024, 24025, 24026, 24027, 24028, 24029, 24030, 24032, 24034, 24037, 24038, 24039, 24044, 24045, 24046, 24048, 24050, 24053, 24056, 24057, 24059, 24062, 24064, 24067, 24070, 24072, 24074, 24077, 24078, 24080, 24081, 24083, 24087, 24088, 24089, 24090, 24091, 24094, 24096, 24098, 24099, 24100, 24101, 24102, 24103, 24104, 24106, 24107, 24108, 24111, 24113, 24114, 24116, 24117, 24119, 24120, 24121, 24125, 24126, 24128, 24131, 24136, 24137, 24140, 24144, 24145, 24146, 24147, 24149, 24150, 24153, 24155, 24157, 24158, 24159, 24160, 24161, 24162, 24165, 24170, 24172, 24173, 24175, 24176, 24177, 24179, 24180, 24181, 24182, 24184, 24186, 24188, 24189, 24191, 24194, 24195, 24196, 24197, 24198, 24199, 24200, 24201, 24202, 24203, 24204, 24205, 24206, 24210, 24212, 24213, 24217, 24218, 24220, 24221, 24223, 24226, 24229, 24232, 24233, 24235, 24236, 24239, 24242, 24243, 24246, 24247, 24248, 24249, 24250, 24251, 24252, 24253, 24254, 24256, 24257, 24260, 24261, 24262, 24263, 24264, 24265, 24266, 24267, 24268, 24269, 24272, 24275, 24276, 24277, 24278, 24280, 24281, 24282, 24283, 24285, 24286, 24290, 24291, 24292, 24294, 24295, 24296, 24297, 24298, 24299, 24304, 24306, 24308, 24310, 24311, 24313, 24314, 24315, 24316, 24317, 24318, 24320, 24321, 24322, 24323, 24331, 24332, 24333, 24334, 24335, 24336, 24337, 24341, 24345, 24346, 24351, 24352, 24355, 24356, 24357, 24358, 24361, 24364, 24366, 24367, 24368, 24369, 24370, 24374, 24375, 24376, 24377, 24379, 24383, 24384, 24385, 24387, 24388, 24389, 24390, 24391, 24392, 24394, 24395, 24396, 24397, 24398, 24400, 24405, 24406, 24409, 24415, 24417, 24418, 24419, 24420, 24422, 24424, 24425, 24427, 24429, 24430, 24433, 24435, 24438, 24439, 24440, 24442, 24443, 24446, 24447, 24449, 24450, 24451, 24452, 24453, 24454, 24456, 24457, 24458, 24459, 24460, 24462, 24464, 24465, 24467, 24469, 24470, 24471, 24473, 24474, 24478, 24479, 24481, 24482, 24484, 24485, 24486, 24488]\n",
            "14725\n"
          ],
          "name": "stdout"
        }
      ]
    },
    {
      "cell_type": "markdown",
      "metadata": {
        "id": "S1NSUJzqQt0z"
      },
      "source": [
        "Cosine similarity values in a cluster"
      ]
    },
    {
      "cell_type": "code",
      "metadata": {
        "colab": {
          "base_uri": "https://localhost:8080/"
        },
        "id": "yrC5o339nKNP",
        "outputId": "677ff33e-1bda-4d1e-d13d-6f3786831e40"
      },
      "source": [
        "clu_str = []\n",
        "in_dict = {}\n",
        "j = 0\n",
        "for i in range(len(labels)):\n",
        "  if labels[i] == 0:\n",
        "    in_dict[j] = i\n",
        "    clu_str += [corpus[i]]\n",
        "    j += 1\n",
        "ar = cos_similarity(clu_str)\n",
        "print(ar)"
      ],
      "execution_count": null,
      "outputs": [
        {
          "output_type": "stream",
          "text": [
            "[[1.         0.09270803 0.10093959 ... 0.04210546 0.01877734 0.13123812]\n",
            " [0.09270803 1.         0.26539969 ... 0.02719306 0.04252079 0.13372138]\n",
            " [0.10093959 0.26539969 1.         ... 0.05839295 0.04156688 0.08454049]\n",
            " ...\n",
            " [0.04210546 0.02719306 0.05839295 ... 1.         0.04902489 0.02917496]\n",
            " [0.01877734 0.04252079 0.04156688 ... 0.04902489 1.         0.02474727]\n",
            " [0.13123812 0.13372138 0.08454049 ... 0.02917496 0.02474727 1.        ]]\n"
          ],
          "name": "stdout"
        }
      ]
    },
    {
      "cell_type": "markdown",
      "metadata": {
        "id": "5ZUnomd9u5NH"
      },
      "source": [
        "**Generating Recommendations**"
      ]
    },
    {
      "cell_type": "code",
      "metadata": {
        "colab": {
          "base_uri": "https://localhost:8080/"
        },
        "id": "9LGw_OSDDJhP",
        "outputId": "6a8a84fe-3fd3-4ce4-eadc-95d38222577b"
      },
      "source": [
        "for ind in range(0,2):\n",
        "    related_docs_indices = ar[ind].argsort()[-1:-7:-1] #finding top 6 cosine similarities of that index\n",
        "    #for j in range(len(related_docs_indices)):\n",
        "    #  print(j)\n",
        "    #print(related_docs_indices)\n",
        "    for i in related_docs_indices:\n",
        "      #print(in_dict[ind])\n",
        "      print(ar[ind][i])    \n",
        "      print(titletoind_dict[in_dict[i]])"
      ],
      "execution_count": null,
      "outputs": [
        {
          "output_type": "stream",
          "text": [
            "1.0\n",
            "Sum of all natural numbers in range L to R\n",
            "0.5979694179944263\n",
            "Sum of all odd natural numbers in range L and R\n",
            "0.5452725746546961\n",
            "Sum of all even numbers in range L and R\n",
            "0.540122236721583\n",
            "Natural Numbers\n",
            "0.45458688331235253\n",
            "Sum of natural numbers using recursion\n",
            "0.43707513203994797\n",
            "Find the average of first N natural numbers\n",
            "1.0\n",
            "Subsets having Sum between A and B\n",
            "0.40423095376048684\n",
            "Sum of subset differences\n",
            "0.40236745900243415\n",
            "Find the sum of maximum difference possible from all subset of a given array.\n",
            "0.40060215594569526\n",
            "Number of subsets with zero sum\n",
            "0.37678818900433864\n",
            "Recursive program to print all subsets with given sum\n",
            "0.37463454801934976\n",
            "Maximum size subset with given sum\n"
          ],
          "name": "stdout"
        }
      ]
    },
    {
      "cell_type": "code",
      "metadata": {
        "colab": {
          "base_uri": "https://localhost:8080/",
          "height": 419
        },
        "id": "ek1DgzLjvKam",
        "outputId": "007bb00c-08c0-4a14-8e2a-d94bced549ff"
      },
      "source": [
        "data[\"top1\"]=\"\"\n",
        "data[\"top2\"]=\"\"\n",
        "data[\"top3\"]=\"\"\n",
        "data[\"top4\"]=\"\"\n",
        "data[\"top5\"]=\"\"\n",
        "data"
      ],
      "execution_count": null,
      "outputs": [
        {
          "output_type": "execute_result",
          "data": {
            "text/html": [
              "<div>\n",
              "<style scoped>\n",
              "    .dataframe tbody tr th:only-of-type {\n",
              "        vertical-align: middle;\n",
              "    }\n",
              "\n",
              "    .dataframe tbody tr th {\n",
              "        vertical-align: top;\n",
              "    }\n",
              "\n",
              "    .dataframe thead th {\n",
              "        text-align: right;\n",
              "    }\n",
              "</style>\n",
              "<table border=\"1\" class=\"dataframe\">\n",
              "  <thead>\n",
              "    <tr style=\"text-align: right;\">\n",
              "      <th></th>\n",
              "      <th>title</th>\n",
              "      <th>content</th>\n",
              "      <th>tags</th>\n",
              "      <th>top1</th>\n",
              "      <th>top2</th>\n",
              "      <th>top3</th>\n",
              "      <th>top4</th>\n",
              "      <th>top5</th>\n",
              "    </tr>\n",
              "  </thead>\n",
              "  <tbody>\n",
              "    <tr>\n",
              "      <th>0</th>\n",
              "      <td>Python | Thresholding techniques using OpenCV ...</td>\n",
              "      <td>Prerequisite:  Simple Thresholding using OpenC...</td>\n",
              "      <td>{'Python', 'OpenCV', 'Image-Processing'}</td>\n",
              "      <td></td>\n",
              "      <td></td>\n",
              "      <td></td>\n",
              "      <td></td>\n",
              "      <td></td>\n",
              "    </tr>\n",
              "    <tr>\n",
              "      <th>1</th>\n",
              "      <td>Generation of n numbers with given set of factors</td>\n",
              "      <td>Given an array of k numbers factor[], the task...</td>\n",
              "      <td>{'prime-factor', 'Mathematical'}</td>\n",
              "      <td></td>\n",
              "      <td></td>\n",
              "      <td></td>\n",
              "      <td></td>\n",
              "      <td></td>\n",
              "    </tr>\n",
              "    <tr>\n",
              "      <th>2</th>\n",
              "      <td>C | Operators | Question 17</td>\n",
              "      <td>Which of the following can have different mean...</td>\n",
              "      <td>{'C', 'C-Operators', 'Operators', 'C Quiz'}</td>\n",
              "      <td></td>\n",
              "      <td></td>\n",
              "      <td></td>\n",
              "      <td></td>\n",
              "      <td></td>\n",
              "    </tr>\n",
              "    <tr>\n",
              "      <th>3</th>\n",
              "      <td>SymPy | Subset.size() in Python</td>\n",
              "      <td>Subset.size() : size() is a sympy Python libra...</td>\n",
              "      <td>{'Python'}</td>\n",
              "      <td></td>\n",
              "      <td></td>\n",
              "      <td></td>\n",
              "      <td></td>\n",
              "      <td></td>\n",
              "    </tr>\n",
              "    <tr>\n",
              "      <th>4</th>\n",
              "      <td>Python PIL | ImageFont.truetype()</td>\n",
              "      <td>PIL is the Python Imaging Library which provid...</td>\n",
              "      <td>{'Python', 'Python-pil'}</td>\n",
              "      <td></td>\n",
              "      <td></td>\n",
              "      <td></td>\n",
              "      <td></td>\n",
              "      <td></td>\n",
              "    </tr>\n",
              "    <tr>\n",
              "      <th>...</th>\n",
              "      <td>...</td>\n",
              "      <td>...</td>\n",
              "      <td>...</td>\n",
              "      <td>...</td>\n",
              "      <td>...</td>\n",
              "      <td>...</td>\n",
              "      <td>...</td>\n",
              "      <td>...</td>\n",
              "    </tr>\n",
              "    <tr>\n",
              "      <th>24484</th>\n",
              "      <td>Importance of Hashcode method  in Java</td>\n",
              "      <td>Prerequisite: Equals() and hashCode() methods ...</td>\n",
              "      <td>{'Java', 'java-hashset', 'Java-HashMap'}</td>\n",
              "      <td></td>\n",
              "      <td></td>\n",
              "      <td></td>\n",
              "      <td></td>\n",
              "      <td></td>\n",
              "    </tr>\n",
              "    <tr>\n",
              "      <th>24485</th>\n",
              "      <td>Ruby | Queue close() function</td>\n",
              "      <td>The close() is an inbuilt function in Ruby  cl...</td>\n",
              "      <td>{'Ruby Collections', 'Ruby'}</td>\n",
              "      <td></td>\n",
              "      <td></td>\n",
              "      <td></td>\n",
              "      <td></td>\n",
              "      <td></td>\n",
              "    </tr>\n",
              "    <tr>\n",
              "      <th>24486</th>\n",
              "      <td>Scala | Field Overriding</td>\n",
              "      <td>In any object-oriented programming language, O...</td>\n",
              "      <td>{'Scala', 'Scala-OOPS'}</td>\n",
              "      <td></td>\n",
              "      <td></td>\n",
              "      <td></td>\n",
              "      <td></td>\n",
              "      <td></td>\n",
              "    </tr>\n",
              "    <tr>\n",
              "      <th>24487</th>\n",
              "      <td>Sum of minimum elements of all possible sub-ar...</td>\n",
              "      <td>Given an array arr[], the task is to find the ...</td>\n",
              "      <td>{'C++ Programs', 'Data Structures', 'Stack', '...</td>\n",
              "      <td></td>\n",
              "      <td></td>\n",
              "      <td></td>\n",
              "      <td></td>\n",
              "      <td></td>\n",
              "    </tr>\n",
              "    <tr>\n",
              "      <th>24488</th>\n",
              "      <td>Find amount of water wasted after filling the ...</td>\n",
              "      <td>Given the volume V of a tank in liter. There i...</td>\n",
              "      <td>{'math', 'Mathematical'}</td>\n",
              "      <td></td>\n",
              "      <td></td>\n",
              "      <td></td>\n",
              "      <td></td>\n",
              "      <td></td>\n",
              "    </tr>\n",
              "  </tbody>\n",
              "</table>\n",
              "<p>24489 rows × 8 columns</p>\n",
              "</div>"
            ],
            "text/plain": [
              "                                                   title  ... top5\n",
              "0      Python | Thresholding techniques using OpenCV ...  ...     \n",
              "1      Generation of n numbers with given set of factors  ...     \n",
              "2                            C | Operators | Question 17  ...     \n",
              "3                        SymPy | Subset.size() in Python  ...     \n",
              "4                      Python PIL | ImageFont.truetype()  ...     \n",
              "...                                                  ...  ...  ...\n",
              "24484             Importance of Hashcode method  in Java  ...     \n",
              "24485                      Ruby | Queue close() function  ...     \n",
              "24486                           Scala | Field Overriding  ...     \n",
              "24487  Sum of minimum elements of all possible sub-ar...  ...     \n",
              "24488  Find amount of water wasted after filling the ...  ...     \n",
              "\n",
              "[24489 rows x 8 columns]"
            ]
          },
          "metadata": {
            "tags": []
          },
          "execution_count": 25
        }
      ]
    },
    {
      "cell_type": "markdown",
      "metadata": {
        "id": "k9PYS8tzQ89b"
      },
      "source": [
        "Importing recommendations into dataset"
      ]
    },
    {
      "cell_type": "code",
      "metadata": {
        "colab": {
          "base_uri": "https://localhost:8080/",
          "height": 827
        },
        "id": "2LI9S80bw2vs",
        "outputId": "0b9f400d-8ab8-47bf-bec6-cdf6b348e9e0"
      },
      "source": [
        "for ind in range(0,len(label5)):\n",
        "    related_docs_indices = ar[ind].argsort()[-1:-7:-1] \n",
        "   # print(related_docs_indices)#finding top 6 cosine similarities of that index\n",
        "    for j in range(len(related_docs_indices)):\n",
        "      if j == 1:\n",
        "        a=related_docs_indices[j]\n",
        "        data.loc[in_dict[ind], 'top1'] = titletoind_dict[in_dict[a]] \n",
        "      elif j == 2:\n",
        "        a=related_docs_indices[j]\n",
        "        data.loc[in_dict[ind], 'top2'] = titletoind_dict[in_dict[a]] \n",
        "      elif j == 3:\n",
        "        a=related_docs_indices[j]\n",
        "        data.loc[in_dict[ind], 'top3'] = titletoind_dict[in_dict[a]] \n",
        "      elif j == 4:\n",
        "        a=related_docs_indices[j]\n",
        "        data.loc[in_dict[ind], 'top4'] = titletoind_dict[in_dict[a]] \n",
        "      elif j == 5:\n",
        "        a=related_docs_indices[j]\n",
        "        data.loc[in_dict[ind], 'top5'] = titletoind_dict[in_dict[a]] \n",
        "\n",
        "    \n",
        "        #print(titletoind_dict[in_dict[a]])\n",
        "    \n",
        "      #data.loc[in_dict[ind], 'Top1'] = titletoind_dict[in_dict[ind]]    \n",
        "data"
      ],
      "execution_count": null,
      "outputs": [
        {
          "output_type": "execute_result",
          "data": {
            "text/html": [
              "<div>\n",
              "<style scoped>\n",
              "    .dataframe tbody tr th:only-of-type {\n",
              "        vertical-align: middle;\n",
              "    }\n",
              "\n",
              "    .dataframe tbody tr th {\n",
              "        vertical-align: top;\n",
              "    }\n",
              "\n",
              "    .dataframe thead th {\n",
              "        text-align: right;\n",
              "    }\n",
              "</style>\n",
              "<table border=\"1\" class=\"dataframe\">\n",
              "  <thead>\n",
              "    <tr style=\"text-align: right;\">\n",
              "      <th></th>\n",
              "      <th>title</th>\n",
              "      <th>content</th>\n",
              "      <th>tags</th>\n",
              "      <th>top1</th>\n",
              "      <th>top2</th>\n",
              "      <th>top3</th>\n",
              "      <th>top4</th>\n",
              "      <th>top5</th>\n",
              "    </tr>\n",
              "  </thead>\n",
              "  <tbody>\n",
              "    <tr>\n",
              "      <th>0</th>\n",
              "      <td>Python | Thresholding techniques using OpenCV ...</td>\n",
              "      <td>Prerequisite:  Simple Thresholding using OpenC...</td>\n",
              "      <td>{'Python', 'OpenCV', 'Image-Processing'}</td>\n",
              "      <td>Python | Thresholding techniques using OpenCV ...</td>\n",
              "      <td>Python | Thresholding techniques using OpenCV ...</td>\n",
              "      <td>OpenCV: Segmentation using Thresholding</td>\n",
              "      <td>MATLAB | Converting a Grayscale Image to Binar...</td>\n",
              "      <td>Python | Pandas Series.clip_upper()</td>\n",
              "    </tr>\n",
              "    <tr>\n",
              "      <th>1</th>\n",
              "      <td>Generation of n numbers with given set of factors</td>\n",
              "      <td>Given an array of k numbers factor[], the task...</td>\n",
              "      <td>{'prime-factor', 'Mathematical'}</td>\n",
              "      <td>Python | Count the array elements with factors...</td>\n",
              "      <td>Find number of factors of N when location of i...</td>\n",
              "      <td>Sort on the basis of number of factors using STL</td>\n",
              "      <td>Sort elements on the basis of number of factors</td>\n",
              "      <td>Find four factors of N with maximum product an...</td>\n",
              "    </tr>\n",
              "    <tr>\n",
              "      <th>2</th>\n",
              "      <td>C | Operators | Question 17</td>\n",
              "      <td>Which of the following can have different mean...</td>\n",
              "      <td>{'C', 'C-Operators', 'Operators', 'C Quiz'}</td>\n",
              "      <td>C | Pointer Basics | Question 8</td>\n",
              "      <td>C | Operators | Question 26</td>\n",
              "      <td>C | Misc | Question 7</td>\n",
              "      <td>C | Data Types | Question 9</td>\n",
              "      <td>C | Pointer Basics | Question 17</td>\n",
              "    </tr>\n",
              "    <tr>\n",
              "      <th>3</th>\n",
              "      <td>SymPy | Subset.size() in Python</td>\n",
              "      <td>Subset.size() : size() is a sympy Python libra...</td>\n",
              "      <td>{'Python'}</td>\n",
              "      <td>Set size() method in Java with Example</td>\n",
              "      <td>List size() method in Java with Examples</td>\n",
              "      <td>ArrayList size() method in Java with Examples</td>\n",
              "      <td>Ruby | Set size() function</td>\n",
              "      <td>SymPy | Polyhedron.size() in Python</td>\n",
              "    </tr>\n",
              "    <tr>\n",
              "      <th>4</th>\n",
              "      <td>Python PIL | ImageFont.truetype()</td>\n",
              "      <td>PIL is the Python Imaging Library which provid...</td>\n",
              "      <td>{'Python', 'Python-pil'}</td>\n",
              "      <td>Python PIL | ImageFont.load_default()</td>\n",
              "      <td>How to set the Font of the Button in C#?</td>\n",
              "      <td>JavaFX | Font Class</td>\n",
              "      <td>How to set the font of the content present in ...</td>\n",
              "      <td>How to set the Font of the MaskedTextBox in C#?</td>\n",
              "    </tr>\n",
              "    <tr>\n",
              "      <th>...</th>\n",
              "      <td>...</td>\n",
              "      <td>...</td>\n",
              "      <td>...</td>\n",
              "      <td>...</td>\n",
              "      <td>...</td>\n",
              "      <td>...</td>\n",
              "      <td>...</td>\n",
              "      <td>...</td>\n",
              "    </tr>\n",
              "    <tr>\n",
              "      <th>24484</th>\n",
              "      <td>Importance of Hashcode method  in Java</td>\n",
              "      <td>Prerequisite: Equals() and hashCode() methods ...</td>\n",
              "      <td>{'Java', 'java-hashset', 'Java-HashMap'}</td>\n",
              "      <td>Method Class | hashCode() Method in Java</td>\n",
              "      <td>Set hashCode() method in Java with Examples</td>\n",
              "      <td>LocalTime hashCode() method in Java with Examples</td>\n",
              "      <td>How String Hashcode value is calculated?</td>\n",
              "      <td>Float hashCode() method in Java with examples</td>\n",
              "    </tr>\n",
              "    <tr>\n",
              "      <th>24485</th>\n",
              "      <td>Ruby | Queue close() function</td>\n",
              "      <td>The close() is an inbuilt function in Ruby  cl...</td>\n",
              "      <td>{'Ruby Collections', 'Ruby'}</td>\n",
              "      <td>Reversing a Queue</td>\n",
              "      <td>queue::push() and queue::pop() in C++ STL</td>\n",
              "      <td>Ruby | Queue pop() function</td>\n",
              "      <td>C# Queue with Examples</td>\n",
              "      <td>Ruby | Queue closed? function</td>\n",
              "    </tr>\n",
              "    <tr>\n",
              "      <th>24486</th>\n",
              "      <td>Scala | Field Overriding</td>\n",
              "      <td>In any object-oriented programming language, O...</td>\n",
              "      <td>{'Scala', 'Scala-OOPS'}</td>\n",
              "      <td>Method Overriding in Scala</td>\n",
              "      <td>C# | Method Overriding</td>\n",
              "      <td>Overriding methods from different packages in ...</td>\n",
              "      <td>override Keyword in C++</td>\n",
              "      <td>Covariant return types in Java</td>\n",
              "    </tr>\n",
              "    <tr>\n",
              "      <th>24487</th>\n",
              "      <td>Sum of minimum elements of all possible sub-ar...</td>\n",
              "      <td>Given an array arr[], the task is to find the ...</td>\n",
              "      <td>{'C++ Programs', 'Data Structures', 'Stack', '...</td>\n",
              "      <td>Sum of maximum elements of all possible sub-ar...</td>\n",
              "      <td>Smallest index such that there are no 0 or 1 t...</td>\n",
              "      <td>Print next greater number of Q queries</td>\n",
              "      <td>Python | Pandas Index.argmin()</td>\n",
              "      <td>Iterative Quick Sort</td>\n",
              "    </tr>\n",
              "    <tr>\n",
              "      <th>24488</th>\n",
              "      <td>Find amount of water wasted after filling the ...</td>\n",
              "      <td>Given the volume V of a tank in liter. There i...</td>\n",
              "      <td>{'math', 'Mathematical'}</td>\n",
              "      <td>Number of days after which tank will become empty</td>\n",
              "      <td>Program to check if tank will overflow, underf...</td>\n",
              "      <td>Program to check if water tank overflows when ...</td>\n",
              "      <td>Find amount to be added to achieve target rati...</td>\n",
              "      <td>Measure one litre using two vessels and infini...</td>\n",
              "    </tr>\n",
              "  </tbody>\n",
              "</table>\n",
              "<p>24489 rows × 8 columns</p>\n",
              "</div>"
            ],
            "text/plain": [
              "                                                   title  ...                                               top5\n",
              "0      Python | Thresholding techniques using OpenCV ...  ...                Python | Pandas Series.clip_upper()\n",
              "1      Generation of n numbers with given set of factors  ...  Find four factors of N with maximum product an...\n",
              "2                            C | Operators | Question 17  ...                   C | Pointer Basics | Question 17\n",
              "3                        SymPy | Subset.size() in Python  ...                SymPy | Polyhedron.size() in Python\n",
              "4                      Python PIL | ImageFont.truetype()  ...    How to set the Font of the MaskedTextBox in C#?\n",
              "...                                                  ...  ...                                                ...\n",
              "24484             Importance of Hashcode method  in Java  ...      Float hashCode() method in Java with examples\n",
              "24485                      Ruby | Queue close() function  ...                      Ruby | Queue closed? function\n",
              "24486                           Scala | Field Overriding  ...                     Covariant return types in Java\n",
              "24487  Sum of minimum elements of all possible sub-ar...  ...                               Iterative Quick Sort\n",
              "24488  Find amount of water wasted after filling the ...  ...  Measure one litre using two vessels and infini...\n",
              "\n",
              "[24489 rows x 8 columns]"
            ]
          },
          "metadata": {
            "tags": []
          },
          "execution_count": 37
        }
      ]
    },
    {
      "cell_type": "code",
      "metadata": {
        "id": "KpZ1ISp8XHDi"
      },
      "source": [
        "data.to_csv('/content/drive/MyDrive/Recommendations.csv')"
      ],
      "execution_count": null,
      "outputs": []
    },
    {
      "cell_type": "code",
      "metadata": {
        "colab": {
          "base_uri": "https://localhost:8080/"
        },
        "id": "MHvwWDAmr4Fh",
        "outputId": "11e8af85-6d90-47e6-f0d6-e56b9ce61477"
      },
      "source": [
        "#avg cosine similarities of each cluster for a particular board \n",
        "import statistics \n",
        "for l in range(5): \n",
        "    clu_str = []  \n",
        "    for i in range(len(labels)): \n",
        "        if labels[i] == l: \n",
        "            clu_str += [corpus[i]] \n",
        "    ar = cos_similarity(clu_str) \n",
        "    avg = 0 \n",
        "    for i in range(len(ar)): \n",
        "        ind = ar[i].argsort()[-2:-7:-1] \n",
        "        avg = avg + (statistics.mean(ar[i][ind][:5])) \n",
        "    print(avg/len(ar)) "
      ],
      "execution_count": null,
      "outputs": [
        {
          "output_type": "stream",
          "text": [
            "0.46573982040127815\n",
            "0.41799066730306067\n",
            "0.5171674929673996\n",
            "0.48341903326098246\n",
            "0.5787138404083364\n"
          ],
          "name": "stdout"
        }
      ]
    },
    {
      "cell_type": "code",
      "metadata": {
        "colab": {
          "base_uri": "https://localhost:8080/"
        },
        "id": "QIi4AeNQr9fE",
        "outputId": "d98a0a53-328a-4203-80cf-5c72d54aa1a1"
      },
      "source": [
        "import statistics \n",
        "for l in range(5): \n",
        "    clu_str = [] \n",
        "    for i in range(len(mb_labels)): \n",
        "        if mb_labels[i] == l: \n",
        "            clu_str += [corpus[i]] \n",
        "    ar = cos_similarity(clu_str) \n",
        "    avg = 0 \n",
        "    for i in range(len(ar)): \n",
        "        ind = ar[i].argsort()[-2:-7:-1] \n",
        "        avg = avg + (statistics.mean(ar[i][ind][:5])) \n",
        "    print(avg/len(ar)) "
      ],
      "execution_count": null,
      "outputs": [
        {
          "output_type": "stream",
          "text": [
            "0.5229362636870544\n",
            "0.5027681750109002\n",
            "0.48398418981283814\n",
            "0.5014293986155416\n",
            "0.5649332557020926\n"
          ],
          "name": "stdout"
        }
      ]
    },
    {
      "cell_type": "markdown",
      "metadata": {
        "id": "AZGWwc9C6LuN"
      },
      "source": [
        "**Classification algorithm**"
      ]
    },
    {
      "cell_type": "code",
      "metadata": {
        "id": "8RIOUwITtqLK"
      },
      "source": [
        "from sklearn.model_selection import train_test_split\n",
        "print(\"test shape : \", test.shape)"
      ],
      "execution_count": null,
      "outputs": []
    },
    {
      "cell_type": "code",
      "metadata": {
        "id": "17YzxUm_txFF"
      },
      "source": [
        "from sklearn.feature_extraction.text import TfidfTransformer\n",
        "from sklearn.feature_extraction.text import TfidfVectorizer\n",
        "from sklearn.metrics import mean_squared_error,mean_absolute_error, make_scorer,classification_report,confusion_matrix,accuracy_score,roc_auc_score,roc_curve"
      ],
      "execution_count": null,
      "outputs": []
    },
    {
      "cell_type": "code",
      "metadata": {
        "colab": {
          "base_uri": "https://localhost:8080/"
        },
        "id": "wFXFVDwEt16P",
        "outputId": "d0fa6bb0-d625-4c41-bfbc-091f0fa1b39c"
      },
      "source": [
        "tf_idf_vect = TfidfVectorizer(ngram_range=(0,5))\n",
        "X_train = tf_idf_vect.fit_transform(train.content.values)\n",
        "X_test = tf_idf_vect.transform(test.content.values)\n",
        "\n",
        "y_train = train.cluster.values\n",
        "y_test = test.cluster.values\n",
        "\n",
        "print(\"X_train.shape : \", X_train.shape)\n",
        "print(\"X_test.shape : \", X_test.shape)\n",
        "print(\"y_train.shape : \", y_train.shape)\n",
        "print(\"y_test.shape : \", y_test.shape)"
      ],
      "execution_count": null,
      "outputs": [
        {
          "output_type": "stream",
          "text": [
            "X_train.shape :  (17142, 3153757)\n",
            "X_test.shape :  (7347, 3153757)\n",
            "y_train.shape :  (17142,)\n",
            "y_test.shape :  (7347,)\n"
          ],
          "name": "stdout"
        }
      ]
    },
    {
      "cell_type": "code",
      "metadata": {
        "colab": {
          "base_uri": "https://localhost:8080/"
        },
        "id": "tmmkbewkt5_y",
        "outputId": "22d71a15-eebb-48f4-8f77-ff9c46871996"
      },
      "source": [
        "from sklearn.neighbors import KNeighborsClassifier\n",
        "knn_prediction = knn.predict(X_test)\n",
        "knn_accuracy = accuracy_score(y_test,knn_prediction)\n",
        "print(\"training accuracy Score    : \",knn.score(X_train,y_train))\n",
        "print(\"testation accuracy Score : \",knn_accuracy )\n",
        "print(classification_report(knn_prediction,y_test))"
      ],
      "execution_count": null,
      "outputs": [
        {
          "output_type": "stream",
          "text": [
            "training accuracy Score    :  0.7993232994983083\n",
            "testation accuracy Score :  0.7211106574111883\n",
            "              precision    recall  f1-score   support\n",
            "\n",
            "           0       0.26      0.84      0.39       101\n",
            "           1       0.19      0.80      0.30        75\n",
            "           2       0.33      0.79      0.46       813\n",
            "           3       0.73      0.90      0.81       245\n",
            "           4       0.97      0.70      0.81      6113\n",
            "\n",
            "    accuracy                           0.72      7347\n",
            "   macro avg       0.49      0.81      0.56      7347\n",
            "weighted avg       0.87      0.72      0.76      7347\n",
            "\n"
          ],
          "name": "stdout"
        }
      ]
    },
    {
      "cell_type": "markdown",
      "metadata": {
        "id": "tH36Ddt_RHCW"
      },
      "source": [
        "Gives cluster for every new data"
      ]
    },
    {
      "cell_type": "code",
      "metadata": {
        "colab": {
          "base_uri": "https://localhost:8080/"
        },
        "id": "SWX8I4RBtRht",
        "outputId": "35167db8-4277-410d-fcce-02c67491d13c"
      },
      "source": [
        "## copying two strings from our dataset\n",
        "text_string=df['content'][5],df['content'][2],df['content'][3]\n",
        "#text_string='generat n factor factor task print n ascend order factor problem main extens ugli problem creat auxiliari size factor track multipl factor iter minimum increment respect factor minimum equal previous increment avoid duplic print minimum n k auxiliari_space_o k comment_incorrect_want_share inform_topic_discuss','sum minimum possibl sub task sum minimum'\n",
        "## Applying tfidf to two strings\n",
        "vector=tf_idf_vect.transform(text_string)\n",
        "## Getting the prediction\n",
        "knn.predict(vector)"
      ],
      "execution_count": null,
      "outputs": [
        {
          "output_type": "execute_result",
          "data": {
            "text/plain": [
              "array([0, 4, 4])"
            ]
          },
          "metadata": {
            "tags": []
          },
          "execution_count": 48
        }
      ]
    },
    {
      "cell_type": "markdown",
      "metadata": {
        "id": "QS7KieLdHOZ9"
      },
      "source": [
        "FAISS Indexing method"
      ]
    },
    {
      "cell_type": "code",
      "metadata": {
        "id": "Gxvl_MMoHOZ9",
        "outputId": "91529271-932e-48ac-f785-a648b594a238"
      },
      "source": [
        "import faiss\n",
        "from sklearn.feature_extraction.text import TfidfVectorizer\n",
        "vec = TfidfVectorizer()\n",
        "X = vec.fit_transform(corpus) #can take whole corpus\n",
        "d = X.shape[1]                #fit the corpus to tf-idf vector as X\n",
        "n = 48                        #no.of clusters\n",
        "quantiser = faiss.IndexFlatL2(d)  \n",
        "index = faiss.IndexIVFFlat(quantiser, d, n, faiss.METRIC_L2) #creating a index\n",
        "index.train(X)                                     \n",
        "index.add(X)\n",
        "print(index.ntotal) "
      ],
      "execution_count": null,
      "outputs": [
        {
          "output_type": "stream",
          "text": [
            "89059\n"
          ],
          "name": "stdout"
        }
      ]
    },
    {
      "cell_type": "code",
      "metadata": {
        "id": "NB47aAPfHOZ9"
      },
      "source": [
        "#find index of a conversation in X \n",
        "ind = indtoid_dict['11064351']"
      ],
      "execution_count": null,
      "outputs": []
    },
    {
      "cell_type": "code",
      "metadata": {
        "id": "1NceOa8rHOZ9",
        "outputId": "74123134-6dc5-4266-baa6-f552fd8e8be6"
      },
      "source": [
        "D, I = index.search(X[ind:ind+1], 100)     # gives 100 nearest neighbors for the conversation \n",
        "print(list(I))"
      ],
      "execution_count": null,
      "outputs": [
        {
          "output_type": "stream",
          "text": [
            "[array([ 9468, 20682,  3476, 32489, 73460, 57825, 24801, 24581,   184,\n",
            "       55534,  4420,  1086, 34202,  8374,  9693, 39732, 61888, 20844,\n",
            "       54138, 11990, 70427, 16803, 21386, 20569,  5157, 42318, 21555,\n",
            "       30822, 41430, 41486,  5950, 19896, 29087, 53709, 64616, 66449,\n",
            "       10456, 33073, 79315, 27744, 12581, 54989, 77915, 53930, 18743,\n",
            "       76719,  7054, 25351, 57643, 10347, 40087,  6275, 59231,  1838,\n",
            "       22564, 59949, 83903, 32017, 35638, 28044, 28273, 51626, 32526,\n",
            "       80665,  2791, 27591, 63626, 54948, 53659, 45710, 82132, 13128,\n",
            "       84825, 24906, 52733, 12604, 74880, 55397, 86565, 87370, 24947,\n",
            "       50881, 20591, 86655, 66826, 52600, 79676, 34163, 15461, 80033,\n",
            "         233, 13674, 28642, 59573,  5349, 12545, 50724, 86077, 37641,\n",
            "       11684])]\n"
          ],
          "name": "stdout"
        }
      ]
    },
    {
      "cell_type": "code",
      "metadata": {
        "id": "8QCv32r-HOZ-"
      },
      "source": [
        "def cos_similarity(textlist):\n",
        "    tfidf = vec.fit_transform(textlist)\n",
        "    return (tfidf * tfidf.T).toarray()"
      ],
      "execution_count": null,
      "outputs": []
    },
    {
      "cell_type": "code",
      "metadata": {
        "colab": {
          "base_uri": "https://localhost:8080/",
          "height": 231
        },
        "id": "7E1syGzfHOZ-",
        "outputId": "771ddb19-85bd-43d2-de58-df4441aa3966"
      },
      "source": [
        "#find cosine similarities for that conversation and its neighbors\n",
        "in_dict = {}\n",
        "str_list = []\n",
        "j = 0\n",
        "for i in list(I)[0]:\n",
        "    str_list += [corpus[i]]\n",
        "    in_dict[j] = i\n",
        "    j+=1\n",
        "ar = cos_similarity(str_list)\n",
        "related_docs_indices = ar[0].argsort()[:-7:-1]\n",
        "related_docs_indices\n",
        "for i in related_docs_indices:\n",
        "    print(ar[0][i],indtoid_dict[in_dict[i]])"
      ],
      "execution_count": null,
      "outputs": [
        {
          "output_type": "error",
          "ename": "NameError",
          "evalue": "ignored",
          "traceback": [
            "\u001b[0;31m---------------------------------------------------------------------------\u001b[0m",
            "\u001b[0;31mNameError\u001b[0m                                 Traceback (most recent call last)",
            "\u001b[0;32m<ipython-input-71-0b44f06d7750>\u001b[0m in \u001b[0;36m<module>\u001b[0;34m()\u001b[0m\n\u001b[1;32m      3\u001b[0m \u001b[0mstr_list\u001b[0m \u001b[0;34m=\u001b[0m \u001b[0;34m[\u001b[0m\u001b[0;34m]\u001b[0m\u001b[0;34m\u001b[0m\u001b[0;34m\u001b[0m\u001b[0m\n\u001b[1;32m      4\u001b[0m \u001b[0mj\u001b[0m \u001b[0;34m=\u001b[0m \u001b[0;36m0\u001b[0m\u001b[0;34m\u001b[0m\u001b[0;34m\u001b[0m\u001b[0m\n\u001b[0;32m----> 5\u001b[0;31m \u001b[0;32mfor\u001b[0m \u001b[0mi\u001b[0m \u001b[0;32min\u001b[0m \u001b[0mlist\u001b[0m\u001b[0;34m(\u001b[0m\u001b[0mI\u001b[0m\u001b[0;34m)\u001b[0m\u001b[0;34m[\u001b[0m\u001b[0;36m0\u001b[0m\u001b[0;34m]\u001b[0m\u001b[0;34m:\u001b[0m\u001b[0;34m\u001b[0m\u001b[0;34m\u001b[0m\u001b[0m\n\u001b[0m\u001b[1;32m      6\u001b[0m     \u001b[0mstr_list\u001b[0m \u001b[0;34m+=\u001b[0m \u001b[0;34m[\u001b[0m\u001b[0mcorpus\u001b[0m\u001b[0;34m[\u001b[0m\u001b[0mi\u001b[0m\u001b[0;34m]\u001b[0m\u001b[0;34m]\u001b[0m\u001b[0;34m\u001b[0m\u001b[0;34m\u001b[0m\u001b[0m\n\u001b[1;32m      7\u001b[0m     \u001b[0min_dict\u001b[0m\u001b[0;34m[\u001b[0m\u001b[0mj\u001b[0m\u001b[0;34m]\u001b[0m \u001b[0;34m=\u001b[0m \u001b[0mi\u001b[0m\u001b[0;34m\u001b[0m\u001b[0;34m\u001b[0m\u001b[0m\n",
            "\u001b[0;31mNameError\u001b[0m: name 'I' is not defined"
          ]
        }
      ]
    },
    {
      "cell_type": "markdown",
      "metadata": {
        "id": "tOOg7KKnHOZ-"
      },
      "source": [
        "FAISS KMeans Clustering"
      ]
    },
    {
      "cell_type": "code",
      "metadata": {
        "id": "sNp3jGpIHOZ-",
        "outputId": "b88e0e7e-29b4-48c5-df34-0e34d8243bc7"
      },
      "source": [
        "import faiss\n",
        "k = 48 #no.of clusters\n",
        "niter = 200\n",
        "verbose = True\n",
        "d = X.shape[1] #fit corpus to tf-idf vector as X\n",
        "kmeans = faiss.Kmeans(d, k, niter=niter, verbose=verbose)\n",
        "kmeans.train(X)"
      ],
      "execution_count": null,
      "outputs": [
        {
          "output_type": "stream",
          "text": [
            "7391.58837890625\n"
          ],
          "name": "stdout"
        }
      ]
    },
    {
      "cell_type": "code",
      "metadata": {
        "id": "9EmKwrBmHOZ-"
      },
      "source": [
        "D, I = kmeans.index.search(X, 1) #assigning cluster labels to corpus"
      ],
      "execution_count": null,
      "outputs": []
    },
    {
      "cell_type": "code",
      "metadata": {
        "id": "8opuWvRfHOZ-",
        "outputId": "a17d5a41-16d2-44ae-f8df-4c697c378dd3"
      },
      "source": [
        "ind = indtoid_dict['11064351']\n",
        "I[ind] #gives cluster label for that conversation"
      ],
      "execution_count": null,
      "outputs": [
        {
          "output_type": "execute_result",
          "data": {
            "text/plain": [
              "array([43])"
            ]
          },
          "metadata": {
            "tags": []
          },
          "execution_count": 141
        }
      ]
    },
    {
      "cell_type": "code",
      "metadata": {
        "colab": {
          "base_uri": "https://localhost:8080/",
          "height": 231
        },
        "id": "xOJP20bkHOZ_",
        "outputId": "270b4f5f-04bb-458c-d670-a70b24feac7c"
      },
      "source": [
        "l = []\n",
        "in_dict = {}\n",
        "k = 0\n",
        "id_list = list(indtoid_dict.keys())\n",
        "for i,j in zip(I,range(len(id_list))):\n",
        "    if i[0] == I[ind][0]:\n",
        "        l += [corpus[indtoid_dict[j]]]\n",
        "        in_dict[k] = j\n",
        "        k += 1\n",
        "ar = cos_similarity(l)\n",
        "key_list = list(in_dict.keys()) \n",
        "val_list = list(in_dict.values())  \n",
        "idx = key_list[val_list.index('11064351')] #finding index of '11064351' in cosine similarity matrix\n",
        "related_docs_indices = ar[idx].argsort()[-1:-7:-1]\n",
        "for i in related_docs_indices:\n",
        "    print(ar[idx][i],in_dict[i])"
      ],
      "execution_count": null,
      "outputs": [
        {
          "output_type": "error",
          "ename": "NameError",
          "evalue": "ignored",
          "traceback": [
            "\u001b[0;31m---------------------------------------------------------------------------\u001b[0m",
            "\u001b[0;31mNameError\u001b[0m                                 Traceback (most recent call last)",
            "\u001b[0;32m<ipython-input-70-e61876467afb>\u001b[0m in \u001b[0;36m<module>\u001b[0;34m()\u001b[0m\n\u001b[1;32m      2\u001b[0m \u001b[0min_dict\u001b[0m \u001b[0;34m=\u001b[0m \u001b[0;34m{\u001b[0m\u001b[0;34m}\u001b[0m\u001b[0;34m\u001b[0m\u001b[0;34m\u001b[0m\u001b[0m\n\u001b[1;32m      3\u001b[0m \u001b[0mk\u001b[0m \u001b[0;34m=\u001b[0m \u001b[0;36m0\u001b[0m\u001b[0;34m\u001b[0m\u001b[0;34m\u001b[0m\u001b[0m\n\u001b[0;32m----> 4\u001b[0;31m \u001b[0mid_list\u001b[0m \u001b[0;34m=\u001b[0m \u001b[0mlist\u001b[0m\u001b[0;34m(\u001b[0m\u001b[0mindtoid_dict\u001b[0m\u001b[0;34m.\u001b[0m\u001b[0mkeys\u001b[0m\u001b[0;34m(\u001b[0m\u001b[0;34m)\u001b[0m\u001b[0;34m)\u001b[0m\u001b[0;34m\u001b[0m\u001b[0;34m\u001b[0m\u001b[0m\n\u001b[0m\u001b[1;32m      5\u001b[0m \u001b[0;32mfor\u001b[0m \u001b[0mi\u001b[0m\u001b[0;34m,\u001b[0m\u001b[0mj\u001b[0m \u001b[0;32min\u001b[0m \u001b[0mzip\u001b[0m\u001b[0;34m(\u001b[0m\u001b[0mI\u001b[0m\u001b[0;34m,\u001b[0m\u001b[0mrange\u001b[0m\u001b[0;34m(\u001b[0m\u001b[0mlen\u001b[0m\u001b[0;34m(\u001b[0m\u001b[0mid_list\u001b[0m\u001b[0;34m)\u001b[0m\u001b[0;34m)\u001b[0m\u001b[0;34m)\u001b[0m\u001b[0;34m:\u001b[0m\u001b[0;34m\u001b[0m\u001b[0;34m\u001b[0m\u001b[0m\n\u001b[1;32m      6\u001b[0m     \u001b[0;32mif\u001b[0m \u001b[0mi\u001b[0m\u001b[0;34m[\u001b[0m\u001b[0;36m0\u001b[0m\u001b[0;34m]\u001b[0m \u001b[0;34m==\u001b[0m \u001b[0mI\u001b[0m\u001b[0;34m[\u001b[0m\u001b[0mind\u001b[0m\u001b[0;34m]\u001b[0m\u001b[0;34m[\u001b[0m\u001b[0;36m0\u001b[0m\u001b[0;34m]\u001b[0m\u001b[0;34m:\u001b[0m\u001b[0;34m\u001b[0m\u001b[0;34m\u001b[0m\u001b[0m\n",
            "\u001b[0;31mNameError\u001b[0m: name 'indtoid_dict' is not defined"
          ]
        }
      ]
    },
    {
      "cell_type": "markdown",
      "metadata": {
        "id": "qUSptBaWHOZ_"
      },
      "source": [
        "Birch"
      ]
    },
    {
      "cell_type": "code",
      "metadata": {
        "id": "rCrfZT0iHOZ_",
        "outputId": "76a090e2-9ec9-4c49-937a-a10bc7af1a8e"
      },
      "source": [
        "from sklearn.cluster import Birch\n",
        "brc = Birch(branching_factor=100, n_clusters= None, threshold=0.82) #gives 43 clusters (change threshold to change no.of clusters formed)\n",
        "brc.fit_predict(X)"
      ],
      "execution_count": null,
      "outputs": [
        {
          "output_type": "execute_result",
          "data": {
            "text/plain": [
              "array([ 0,  0,  0, ...,  0, 31,  0])"
            ]
          },
          "metadata": {
            "tags": []
          },
          "execution_count": 115
        }
      ]
    },
    {
      "cell_type": "code",
      "metadata": {
        "id": "BkqpURv1HOZ_",
        "outputId": "6c8e0b0b-feae-487b-a07d-58f959601fee"
      },
      "source": [
        "labels = brc.labels_\n",
        "for j in range(43):\n",
        "    c = 0\n",
        "    for i in range(len(corpus)):\n",
        "        if labels[i] == j:\n",
        "            c+=1\n",
        "    print(\"cluster \",j,\" :\",c)"
      ],
      "execution_count": null,
      "outputs": [
        {
          "output_type": "stream",
          "text": [
            "cluster  0  : 62967\n",
            "cluster  1  : 467\n",
            "cluster  2  : 70\n",
            "cluster  3  : 1\n",
            "cluster  4  : 91\n",
            "cluster  5  : 283\n",
            "cluster  6  : 449\n",
            "cluster  7  : 1044\n",
            "cluster  8  : 306\n",
            "cluster  9  : 1804\n",
            "cluster  10  : 1\n",
            "cluster  11  : 1082\n",
            "cluster  12  : 1503\n",
            "cluster  13  : 455\n",
            "cluster  14  : 1175\n",
            "cluster  15  : 1736\n",
            "cluster  16  : 618\n",
            "cluster  17  : 1\n",
            "cluster  18  : 234\n",
            "cluster  19  : 1\n",
            "cluster  20  : 1706\n",
            "cluster  21  : 1\n",
            "cluster  22  : 473\n",
            "cluster  23  : 347\n",
            "cluster  24  : 869\n",
            "cluster  25  : 1\n",
            "cluster  26  : 1172\n",
            "cluster  27  : 783\n",
            "cluster  28  : 2\n",
            "cluster  29  : 1233\n",
            "cluster  30  : 2418\n",
            "cluster  31  : 1448\n",
            "cluster  32  : 215\n",
            "cluster  33  : 4\n",
            "cluster  34  : 1548\n",
            "cluster  35  : 1\n",
            "cluster  36  : 2187\n",
            "cluster  37  : 1\n",
            "cluster  38  : 37\n",
            "cluster  39  : 2\n",
            "cluster  40  : 1\n",
            "cluster  41  : 289\n",
            "cluster  42  : 474\n"
          ],
          "name": "stdout"
        }
      ]
    },
    {
      "cell_type": "markdown",
      "metadata": {
        "id": "7zsWlAKMHOZ_"
      },
      "source": [
        "DBSCAN"
      ]
    },
    {
      "cell_type": "code",
      "metadata": {
        "id": "Y5xXVgnfHOaA"
      },
      "source": [
        "#needs more memory couldn't execute got crashed\n",
        "from sklearn.cluster import DBSCAN \n",
        "db = DBSCAN(min_samples= 20,eps = 15,n_jobs = 2)\n",
        "db.fit(X)"
      ],
      "execution_count": null,
      "outputs": []
    },
    {
      "cell_type": "code",
      "metadata": {
        "id": "Xe7-wUDxHOaA"
      },
      "source": [
        ""
      ],
      "execution_count": null,
      "outputs": []
    }
  ]
}